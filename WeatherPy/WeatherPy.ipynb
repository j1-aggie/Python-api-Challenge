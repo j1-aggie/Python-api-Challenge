{
 "cells": [
  {
   "cell_type": "code",
   "execution_count": 1,
   "metadata": {},
   "outputs": [],
   "source": [
    "# WeatherPy\n",
    "\n",
    "#### Note\n",
    "# Instructions have been included for each segment. You do not have to follow them exactly, but they are included to help you think through the steps.\n",
    "\n",
    "#Dependencies \n",
    "import matplotlib.pyplot as plt\n",
    "import pandas as pd\n",
    "import numpy as np\n",
    "import requests\n",
    "import time\n",
    "from datetime import date\n",
    "from pprint import pprint\n",
    "from scipy.stats import linregress\n",
    "import scipy.stats as st\n",
    "\n",
    "# import API key\n",
    "from api_keys import weather_api_key\n",
    "from api_keys import g_key\n",
    "\n",
    "# incorporated citipy to determine city based on lat and long\n",
    "from citipy import citipy\n",
    "\n",
    "# output file (csv)\n",
    "#outputdatafile = \"Output_data/weather_data.csv\"\n",
    "\n",
    "# range of lat and long\n",
    "lat_range = (-90, 90)\n",
    "lng_range = (-180, 180)\n",
    "\n",
    "\n"
   ]
  },
  {
   "cell_type": "code",
   "execution_count": 2,
   "metadata": {},
   "outputs": [
    {
     "data": {
      "text/plain": [
       "625"
      ]
     },
     "execution_count": 2,
     "metadata": {},
     "output_type": "execute_result"
    }
   ],
   "source": [
    "## Generate Cities List\n",
    "\n",
    "lat_lngs = []\n",
    "cities = []\n",
    "\n",
    "# create a set of random lat and lng combinations\n",
    "lats = np.random.uniform(low=-90.000, high=90.000, size=1500)\n",
    "lngs = np.random.uniform(low=-180.000, high=180.000, size=1500)\n",
    "lat_lngs = zip(lats, lngs)\n",
    "\n",
    "# Identify nearest city for each lat, lng combination\n",
    "for lat_lng in lat_lngs:\n",
    "    city = citipy.nearest_city(lat_lng[0], lat_lng[1]).city_name\n",
    "    \n",
    "    # if the city is unique add to cities list\n",
    "    if city not in cities:\n",
    "        cities.append(city)\n",
    "        \n",
    "len(cities)"
   ]
  },
  {
   "cell_type": "code",
   "execution_count": 3,
   "metadata": {},
   "outputs": [
    {
     "data": {
      "text/plain": [
       "['khandagayty',\n",
       " 'mutsamudu',\n",
       " 'rikitea',\n",
       " 'tromso',\n",
       " 'sitka',\n",
       " 'hithadhoo',\n",
       " 'punta arenas',\n",
       " 'salalah',\n",
       " 'bengkulu',\n",
       " 'korla',\n",
       " 'acapulco',\n",
       " 'oranjemund',\n",
       " 'berlevag',\n",
       " 'kodiak',\n",
       " 'sicamous']"
      ]
     },
     "execution_count": 3,
     "metadata": {},
     "output_type": "execute_result"
    }
   ],
   "source": [
    "cities[0:15]"
   ]
  },
  {
   "cell_type": "markdown",
   "metadata": {},
   "source": [
    "### Perform API Calls\n",
    "* Perform a weather check on each city using a series of successive API calls.\n",
    "* Include a print log of each city as it'sbeing processed (with the city number and city name).\n"
   ]
  },
  {
   "cell_type": "code",
   "execution_count": 4,
   "metadata": {
    "scrolled": true
   },
   "outputs": [
    {
     "name": "stdout",
     "output_type": "stream",
     "text": [
      "http://api.openweathermap.org/data/2.5/weather?units=Imperial&APPID=486a3f0a342100df108bae3ce4d66f0e\n"
     ]
    }
   ],
   "source": [
    "# OpenWeatherMap API Key\n",
    "api_key = weather_api_key\n",
    "\n",
    "# Starting URL for Weather Map API Call\n",
    "url = 'http://api.openweathermap.org/data/2.5/weather?units=Imperial&APPID=' + api_key\n",
    "print(url)\n"
   ]
  },
  {
   "cell_type": "code",
   "execution_count": 5,
   "metadata": {},
   "outputs": [
    {
     "name": "stdout",
     "output_type": "stream",
     "text": [
      "------------------------------\n",
      "Start of Records\n",
      "------------------------------\n",
      "City number 1 of 625 complete. | Added khandagayty\n",
      "Missing data in city number 2 of 625. | Skipping mutsamudu\n",
      "City number 3 of 625 complete. | Added rikitea\n",
      "City number 4 of 625 complete. | Added tromso\n",
      "City number 5 of 625 complete. | Added sitka\n",
      "City number 6 of 625 complete. | Added hithadhoo\n",
      "City number 7 of 625 complete. | Added punta arenas\n",
      "City number 8 of 625 complete. | Added salalah\n",
      "City number 9 of 625 complete. | Added bengkulu\n",
      "City number 10 of 625 complete. | Added korla\n",
      "City number 11 of 625 complete. | Added acapulco\n",
      "City number 12 of 625 complete. | Added oranjemund\n",
      "City number 13 of 625 complete. | Added berlevag\n",
      "City number 14 of 625 complete. | Added kodiak\n",
      "City number 15 of 625 complete. | Added sicamous\n",
      "City number 16 of 625 complete. | Added new norfolk\n",
      "City number 17 of 625 complete. | Added awbari\n",
      "City number 18 of 625 complete. | Added huarmey\n",
      "City number 19 of 625 complete. | Added hilo\n",
      "City number 20 of 625 complete. | Added butaritari\n",
      "City number 21 of 625 complete. | Added pemangkat\n",
      "City number 22 of 625 complete. | Added ushuaia\n",
      "City number 23 of 625 complete. | Added khatanga\n",
      "Missing data in city number 24 of 625. | Skipping saleaula\n",
      "City number 25 of 625 complete. | Added vilhena\n",
      "City number 26 of 625 complete. | Added ghorawal\n",
      "City number 27 of 625 complete. | Added lorengau\n",
      "City number 28 of 625 complete. | Added nicoya\n",
      "City number 29 of 625 complete. | Added puerto ayora\n",
      "City number 30 of 625 complete. | Added agbor\n",
      "City number 31 of 625 complete. | Added ahipara\n",
      "City number 32 of 625 complete. | Added severo-kurilsk\n",
      "City number 33 of 625 complete. | Added busselton\n",
      "Missing data in city number 34 of 625. | Skipping belushya guba\n",
      "City number 35 of 625 complete. | Added krasnoselkup\n",
      "City number 36 of 625 complete. | Added balotra\n",
      "City number 37 of 625 complete. | Added yellowknife\n",
      "City number 38 of 625 complete. | Added pevek\n",
      "City number 39 of 625 complete. | Added arraial do cabo\n",
      "City number 40 of 625 complete. | Added camacha\n",
      "City number 41 of 625 complete. | Added tepeojuma\n",
      "Missing data in city number 42 of 625. | Skipping ngukurr\n",
      "City number 43 of 625 complete. | Added alibag\n",
      "City number 44 of 625 complete. | Added cherskiy\n",
      "City number 45 of 625 complete. | Added port hawkesbury\n",
      "City number 46 of 625 complete. | Added clyde river\n",
      "Missing data in city number 47 of 625. | Skipping turtkul\n",
      "City number 48 of 625 complete. | Added norrkoping\n",
      "City number 49 of 625 complete. | Added beringovskiy\n",
      "City number 50 of 625 complete. | Added marawi\n",
      "City number 51 of 625 complete. | Added narsaq\n",
      "City number 52 of 625 complete. | Added mount isa\n",
      "City number 53 of 625 complete. | Added georgetown\n",
      "City number 54 of 625 complete. | Added kahului\n",
      "City number 55 of 625 complete. | Added mataura\n",
      "City number 56 of 625 complete. | Added kaitangata\n",
      "City number 57 of 625 complete. | Added atuona\n",
      "City number 58 of 625 complete. | Added tuktoyaktuk\n",
      "City number 59 of 625 complete. | Added rio gallegos\n",
      "City number 60 of 625 complete. | Added cayenne\n",
      "City number 61 of 625 complete. | Added sur\n",
      "Missing data in city number 62 of 625. | Skipping sentyabrskiy\n",
      "City number 63 of 625 complete. | Added hobart\n",
      "City number 64 of 625 complete. | Added kapaa\n",
      "City number 65 of 625 complete. | Added cabo san lucas\n",
      "City number 66 of 625 complete. | Added monte alegre de minas\n",
      "Missing data in city number 67 of 625. | Skipping barbar\n",
      "City number 68 of 625 complete. | Added grand gaube\n",
      "City number 69 of 625 complete. | Added naze\n",
      "City number 70 of 625 complete. | Added ayorou\n",
      "City number 71 of 625 complete. | Added avarua\n",
      "City number 72 of 625 complete. | Added matay\n",
      "City number 73 of 625 complete. | Added vaini\n",
      "City number 74 of 625 complete. | Added port alfred\n",
      "City number 75 of 625 complete. | Added provideniya\n",
      "City number 76 of 625 complete. | Added sungaipenuh\n",
      "City number 77 of 625 complete. | Added lagunas\n",
      "City number 78 of 625 complete. | Added albany\n",
      "City number 79 of 625 complete. | Added carnarvon\n",
      "City number 80 of 625 complete. | Added damietta\n",
      "Missing data in city number 81 of 625. | Skipping barentsburg\n",
      "City number 82 of 625 complete. | Added leshukonskoye\n",
      "City number 83 of 625 complete. | Added tual\n",
      "City number 84 of 625 complete. | Added codrington\n",
      "City number 85 of 625 complete. | Added hermanus\n",
      "City number 86 of 625 complete. | Added barrow\n",
      "Missing data in city number 87 of 625. | Skipping burica\n",
      "City number 88 of 625 complete. | Added ucluelet\n",
      "City number 89 of 625 complete. | Added saint anthony\n",
      "Missing data in city number 90 of 625. | Skipping taolanaro\n",
      "City number 91 of 625 complete. | Added jamestown\n",
      "City number 92 of 625 complete. | Added tiksi\n",
      "City number 93 of 625 complete. | Added bredasdorp\n",
      "City number 94 of 625 complete. | Added qaanaaq\n",
      "City number 95 of 625 complete. | Added aberystwyth\n",
      "City number 96 of 625 complete. | Added norman wells\n",
      "City number 97 of 625 complete. | Added novobelokatay\n",
      "City number 98 of 625 complete. | Added vila velha\n",
      "City number 99 of 625 complete. | Added barra patuca\n",
      "City number 100 of 625 complete. | Added kavieng\n",
      "City number 101 of 625 complete. | Added harper\n",
      "City number 102 of 625 complete. | Added katsuura\n",
      "City number 103 of 625 complete. | Added edd\n",
      "City number 104 of 625 complete. | Added uyuni\n",
      "City number 105 of 625 complete. | Added olafsvik\n",
      "City number 106 of 625 complete. | Added margate\n",
      "City number 107 of 625 complete. | Added chokurdakh\n",
      "City number 108 of 625 complete. | Added pisco\n",
      "City number 109 of 625 complete. | Added tshane\n",
      "City number 110 of 625 complete. | Added mahebourg\n",
      "City number 111 of 625 complete. | Added fortuna\n",
      "Missing data in city number 112 of 625. | Skipping cagayan de tawi-tawi\n",
      "City number 113 of 625 complete. | Added dinar\n",
      "Missing data in city number 114 of 625. | Skipping hihifo\n",
      "City number 115 of 625 complete. | Added cape town\n",
      "City number 116 of 625 complete. | Added diego de almagro\n",
      "City number 117 of 625 complete. | Added los llanos de aridane\n",
      "City number 118 of 625 complete. | Added bluff\n",
      "City number 119 of 625 complete. | Added mar del plata\n",
      "City number 120 of 625 complete. | Added iqaluit\n",
      "City number 121 of 625 complete. | Added teya\n",
      "Missing data in city number 122 of 625. | Skipping attawapiskat\n",
      "City number 123 of 625 complete. | Added castro\n",
      "City number 124 of 625 complete. | Added hornepayne\n",
      "Missing data in city number 125 of 625. | Skipping tsihombe\n",
      "City number 126 of 625 complete. | Added kruisfontein\n",
      "City number 127 of 625 complete. | Added komsomolskiy\n",
      "City number 128 of 625 complete. | Added nouadhibou\n",
      "City number 129 of 625 complete. | Added koumac\n",
      "City number 130 of 625 complete. | Added broken hill\n",
      "City number 131 of 625 complete. | Added saint george\n",
      "City number 132 of 625 complete. | Added lebu\n",
      "City number 133 of 625 complete. | Added bubaque\n",
      "City number 134 of 625 complete. | Added lavrentiya\n",
      "City number 135 of 625 complete. | Added te anau\n",
      "City number 136 of 625 complete. | Added bethel\n",
      "City number 137 of 625 complete. | Added aykino\n",
      "City number 138 of 625 complete. | Added harindanga\n",
      "City number 139 of 625 complete. | Added charters towers\n",
      "City number 140 of 625 complete. | Added tsabong\n",
      "City number 141 of 625 complete. | Added divnomorskoye\n",
      "City number 142 of 625 complete. | Added san luis\n",
      "City number 143 of 625 complete. | Added gallup\n",
      "City number 144 of 625 complete. | Added esperance\n",
      "City number 145 of 625 complete. | Added humboldt\n",
      "City number 146 of 625 complete. | Added sisimiut\n",
      "City number 147 of 625 complete. | Added palmer\n",
      "City number 148 of 625 complete. | Added nemours\n",
      "City number 149 of 625 complete. | Added half moon bay\n",
      "Missing data in city number 150 of 625. | Skipping illoqqortoormiut\n",
      "City number 151 of 625 complete. | Added umm kaddadah\n",
      "City number 152 of 625 complete. | Added aklavik\n",
      "City number 153 of 625 complete. | Added husavik\n",
      "City number 154 of 625 complete. | Added yaan\n",
      "City number 155 of 625 complete. | Added nanortalik\n",
      "Missing data in city number 156 of 625. | Skipping samusu\n",
      "City number 157 of 625 complete. | Added east london\n",
      "City number 158 of 625 complete. | Added kapoeta\n",
      "Missing data in city number 159 of 625. | Skipping himora\n",
      "City number 160 of 625 complete. | Added onoda\n",
      "City number 161 of 625 complete. | Added haines junction\n",
      "City number 162 of 625 complete. | Added hambantota\n",
      "City number 163 of 625 complete. | Added kupang\n",
      "City number 164 of 625 complete. | Added cidreira\n",
      "City number 165 of 625 complete. | Added atherton\n",
      "City number 166 of 625 complete. | Added cabedelo\n",
      "City number 167 of 625 complete. | Added chipoka\n",
      "City number 168 of 625 complete. | Added mehran\n",
      "City number 169 of 625 complete. | Added tasiilaq\n",
      "City number 170 of 625 complete. | Added nikolskoye\n",
      "City number 171 of 625 complete. | Added menongue\n",
      "City number 172 of 625 complete. | Added freeport\n",
      "Missing data in city number 173 of 625. | Skipping toulepleu\n",
      "City number 174 of 625 complete. | Added la paz\n",
      "City number 175 of 625 complete. | Added saint-philippe\n",
      "City number 176 of 625 complete. | Added suleja\n",
      "City number 177 of 625 complete. | Added lahij\n",
      "City number 178 of 625 complete. | Added sheridan\n",
      "Missing data in city number 179 of 625. | Skipping bargal\n",
      "City number 180 of 625 complete. | Added ekibastuz\n",
      "City number 181 of 625 complete. | Added bathsheba\n",
      "City number 182 of 625 complete. | Added simao\n",
      "City number 183 of 625 complete. | Added upernavik\n",
      "City number 184 of 625 complete. | Added bandarbeyla\n",
      "City number 185 of 625 complete. | Added montevideo\n",
      "City number 186 of 625 complete. | Added merauke\n",
      "Missing data in city number 187 of 625. | Skipping tumannyy\n",
      "City number 188 of 625 complete. | Added teguldet\n",
      "City number 189 of 625 complete. | Added faanui\n",
      "City number 190 of 625 complete. | Added chapais\n",
      "Missing data in city number 191 of 625. | Skipping mys shmidta\n",
      "City number 192 of 625 complete. | Added hervey bay\n",
      "Missing data in city number 193 of 625. | Skipping dera din panah\n",
      "City number 194 of 625 complete. | Added sioux lookout\n",
      "City number 195 of 625 complete. | Added general roca\n",
      "City number 196 of 625 complete. | Added mega\n",
      "City number 197 of 625 complete. | Added hirara\n",
      "City number 198 of 625 complete. | Added samaipata\n",
      "City number 199 of 625 complete. | Added bambous virieux\n",
      "City number 200 of 625 complete. | Added fernandopolis\n",
      "City number 201 of 625 complete. | Added kwinana\n",
      "City number 202 of 625 complete. | Added xingyi\n",
      "City number 203 of 625 complete. | Added grindavik\n",
      "City number 204 of 625 complete. | Added thompson\n",
      "City number 205 of 625 complete. | Added zlobin\n",
      "City number 206 of 625 complete. | Added celestun\n",
      "City number 207 of 625 complete. | Added suwannaphum\n",
      "City number 208 of 625 complete. | Added constitucion\n",
      "City number 209 of 625 complete. | Added abonnema\n",
      "City number 210 of 625 complete. | Added cururupu\n",
      "City number 211 of 625 complete. | Added pitangui\n",
      "City number 212 of 625 complete. | Added port macquarie\n",
      "City number 213 of 625 complete. | Added nome\n",
      "City number 214 of 625 complete. | Added saldanha\n",
      "City number 215 of 625 complete. | Added zhigansk\n",
      "City number 216 of 625 complete. | Added saint-francois\n",
      "City number 217 of 625 complete. | Added acari\n",
      "City number 218 of 625 complete. | Added yelniki\n",
      "City number 219 of 625 complete. | Added ous\n",
      "City number 220 of 625 complete. | Added hamilton\n",
      "City number 221 of 625 complete. | Added vila franca do campo\n",
      "City number 222 of 625 complete. | Added arawa\n",
      "City number 223 of 625 complete. | Added taoudenni\n",
      "City number 224 of 625 complete. | Added kimbe\n",
      "City number 225 of 625 complete. | Added okhotsk\n",
      "City number 226 of 625 complete. | Added nishihara\n",
      "City number 227 of 625 complete. | Added bowen\n",
      "City number 228 of 625 complete. | Added kerema\n",
      "City number 229 of 625 complete. | Added ancud\n",
      "City number 230 of 625 complete. | Added ouesso\n",
      "City number 231 of 625 complete. | Added micheweni\n",
      "City number 232 of 625 complete. | Added sobolevo\n",
      "City number 233 of 625 complete. | Added aasiaat\n",
      "Missing data in city number 234 of 625. | Skipping yithion\n",
      "Missing data in city number 235 of 625. | Skipping yirol\n",
      "City number 236 of 625 complete. | Added potters bar\n",
      "City number 237 of 625 complete. | Added saint-augustin\n",
      "City number 238 of 625 complete. | Added hami\n",
      "City number 239 of 625 complete. | Added sept-iles\n",
      "City number 240 of 625 complete. | Added nalbari\n",
      "City number 241 of 625 complete. | Added egvekinot\n",
      "Missing data in city number 242 of 625. | Skipping vaitupu\n",
      "City number 243 of 625 complete. | Added imbituba\n",
      "City number 244 of 625 complete. | Added asfi\n",
      "City number 245 of 625 complete. | Added ajtos\n",
      "City number 246 of 625 complete. | Added ust-nera\n",
      "City number 247 of 625 complete. | Added belmonte\n",
      "City number 248 of 625 complete. | Added leningradskiy\n",
      "City number 249 of 625 complete. | Added saskylakh\n",
      "City number 250 of 625 complete. | Added rosarito\n",
      "City number 251 of 625 complete. | Added akhtanizovskaya\n",
      "City number 252 of 625 complete. | Added dikson\n",
      "City number 253 of 625 complete. | Added derzhavinsk\n",
      "City number 254 of 625 complete. | Added mexico\n",
      "City number 255 of 625 complete. | Added tucumcari\n",
      "City number 256 of 625 complete. | Added sheffield\n",
      "City number 257 of 625 complete. | Added san patricio\n",
      "City number 258 of 625 complete. | Added gurlan\n",
      "City number 259 of 625 complete. | Added bontang\n",
      "City number 260 of 625 complete. | Added cheyenne\n",
      "City number 261 of 625 complete. | Added port blair\n",
      "City number 262 of 625 complete. | Added bedesa\n",
      "City number 263 of 625 complete. | Added oskemen\n",
      "City number 264 of 625 complete. | Added pyshchug\n",
      "City number 265 of 625 complete. | Added ponta do sol\n",
      "Missing data in city number 266 of 625. | Skipping umzimvubu\n",
      "City number 267 of 625 complete. | Added kichera\n",
      "City number 268 of 625 complete. | Added henties bay\n",
      "City number 269 of 625 complete. | Added mazatlan\n",
      "City number 270 of 625 complete. | Added peniche\n",
      "City number 271 of 625 complete. | Added hasaki\n",
      "Missing data in city number 272 of 625. | Skipping cheuskiny\n",
      "City number 273 of 625 complete. | Added avera\n",
      "Missing data in city number 274 of 625. | Skipping skagastrond\n",
      "City number 275 of 625 complete. | Added san cristobal\n",
      "City number 276 of 625 complete. | Added obidos\n",
      "City number 277 of 625 complete. | Added turayf\n",
      "City number 278 of 625 complete. | Added enid\n",
      "City number 279 of 625 complete. | Added kostomuksha\n",
      "City number 280 of 625 complete. | Added chernushka\n",
      "City number 281 of 625 complete. | Added milyutinskaya\n",
      "City number 282 of 625 complete. | Added twentynine palms\n",
      "City number 283 of 625 complete. | Added pochutla\n",
      "City number 284 of 625 complete. | Added guerrero negro\n",
      "City number 285 of 625 complete. | Added tuatapere\n",
      "Missing data in city number 286 of 625. | Skipping grand river south east\n",
      "City number 287 of 625 complete. | Added margherita di savoia\n",
      "City number 288 of 625 complete. | Added shiraz\n",
      "City number 289 of 625 complete. | Added chuy\n",
      "Missing data in city number 290 of 625. | Skipping eskasem\n",
      "City number 291 of 625 complete. | Added berdigestyakh\n",
      "City number 292 of 625 complete. | Added altamira\n",
      "City number 293 of 625 complete. | Added alyangula\n",
      "City number 294 of 625 complete. | Added zaranj\n",
      "City number 295 of 625 complete. | Added torbay\n",
      "City number 296 of 625 complete. | Added ossora\n",
      "City number 297 of 625 complete. | Added oktyabrskiy\n",
      "City number 298 of 625 complete. | Added sorland\n",
      "City number 299 of 625 complete. | Added victoria\n",
      "City number 300 of 625 complete. | Added tura\n",
      "City number 301 of 625 complete. | Added tilichiki\n",
      "City number 302 of 625 complete. | Added maine-soroa\n",
      "City number 303 of 625 complete. | Added rabo de peixe\n",
      "City number 304 of 625 complete. | Added najran\n",
      "City number 305 of 625 complete. | Added coihaique\n",
      "City number 306 of 625 complete. | Added poum\n",
      "City number 307 of 625 complete. | Added touros\n",
      "City number 308 of 625 complete. | Added hunchun\n",
      "City number 309 of 625 complete. | Added port lincoln\n",
      "City number 310 of 625 complete. | Added nortelandia\n",
      "City number 311 of 625 complete. | Added broome\n",
      "City number 312 of 625 complete. | Added mabaruma\n",
      "City number 313 of 625 complete. | Added sistranda\n",
      "City number 314 of 625 complete. | Added miri\n",
      "City number 315 of 625 complete. | Added agaro\n",
      "City number 316 of 625 complete. | Added chernyshevskiy\n",
      "City number 317 of 625 complete. | Added saint-georges\n",
      "City number 318 of 625 complete. | Added saint-pierre\n",
      "City number 319 of 625 complete. | Added shestakovo\n",
      "City number 320 of 625 complete. | Added prince rupert\n",
      "Missing data in city number 321 of 625. | Skipping kracheh\n",
      "City number 322 of 625 complete. | Added salina cruz\n",
      "City number 323 of 625 complete. | Added waddan\n",
      "City number 324 of 625 complete. | Added yaguajay\n",
      "City number 325 of 625 complete. | Added oshkosh\n",
      "City number 326 of 625 complete. | Added coos bay\n",
      "City number 327 of 625 complete. | Added kingaroy\n",
      "City number 328 of 625 complete. | Added talnakh\n",
      "City number 329 of 625 complete. | Added nekhayevskiy\n",
      "City number 330 of 625 complete. | Added dubovka\n",
      "City number 331 of 625 complete. | Added ketou\n",
      "Missing data in city number 332 of 625. | Skipping grand centre\n",
      "City number 333 of 625 complete. | Added pundaguitan\n",
      "City number 334 of 625 complete. | Added udarnyy\n",
      "City number 335 of 625 complete. | Added vagay\n",
      "City number 336 of 625 complete. | Added maiduguri\n",
      "City number 337 of 625 complete. | Added san vicente de canete\n",
      "City number 338 of 625 complete. | Added san rafael\n",
      "City number 339 of 625 complete. | Added dillon\n",
      "City number 340 of 625 complete. | Added tambilil\n",
      "City number 341 of 625 complete. | Added port hardy\n",
      "City number 342 of 625 complete. | Added padang\n",
      "City number 343 of 625 complete. | Added anloga\n",
      "City number 344 of 625 complete. | Added moramanga\n",
      "Missing data in city number 345 of 625. | Skipping warqla\n",
      "City number 346 of 625 complete. | Added opuwo\n",
      "City number 347 of 625 complete. | Added geraldton\n",
      "City number 348 of 625 complete. | Added wana\n",
      "Missing data in city number 349 of 625. | Skipping palabuhanratu\n",
      "City number 350 of 625 complete. | Added raymond terrace\n",
      "City number 351 of 625 complete. | Added laguna\n",
      "City number 352 of 625 complete. | Added luderitz\n",
      "City number 353 of 625 complete. | Added evensk\n",
      "Missing data in city number 354 of 625. | Skipping tungkang\n",
      "City number 355 of 625 complete. | Added faya\n",
      "City number 356 of 625 complete. | Added adrar\n",
      "City number 357 of 625 complete. | Added akure\n",
      "City number 358 of 625 complete. | Added tahe\n",
      "City number 359 of 625 complete. | Added osa\n",
      "City number 360 of 625 complete. | Added chifeng\n",
      "City number 361 of 625 complete. | Added zhuhai\n",
      "City number 362 of 625 complete. | Added mao\n",
      "City number 363 of 625 complete. | Added paita\n",
      "City number 364 of 625 complete. | Added san quintin\n",
      "City number 365 of 625 complete. | Added uren\n",
      "City number 366 of 625 complete. | Added necochea\n",
      "City number 367 of 625 complete. | Added mabay\n",
      "City number 368 of 625 complete. | Added livingston\n",
      "Missing data in city number 369 of 625. | Skipping marcona\n",
      "City number 370 of 625 complete. | Added la ronge\n",
      "City number 371 of 625 complete. | Added brae\n",
      "City number 372 of 625 complete. | Added arlit\n",
      "City number 373 of 625 complete. | Added kropotkin\n",
      "Missing data in city number 374 of 625. | Skipping thilogne\n",
      "City number 375 of 625 complete. | Added mahajanga\n",
      "City number 376 of 625 complete. | Added taitung\n",
      "City number 377 of 625 complete. | Added tonantins\n",
      "City number 378 of 625 complete. | Added samarai\n",
      "City number 379 of 625 complete. | Added airai\n",
      "City number 380 of 625 complete. | Added alofi\n",
      "City number 381 of 625 complete. | Added palu\n",
      "City number 382 of 625 complete. | Added catamarca\n",
      "City number 383 of 625 complete. | Added guaymas\n",
      "City number 384 of 625 complete. | Added marsa matruh\n",
      "City number 385 of 625 complete. | Added lompoc\n",
      "City number 386 of 625 complete. | Added zaltan\n",
      "City number 387 of 625 complete. | Added roald\n",
      "City number 388 of 625 complete. | Added lubliniec\n",
      "City number 389 of 625 complete. | Added taltal\n",
      "City number 390 of 625 complete. | Added santa rosa\n",
      "City number 391 of 625 complete. | Added bulolo\n",
      "City number 392 of 625 complete. | Added leh\n",
      "City number 393 of 625 complete. | Added klaksvik\n",
      "City number 394 of 625 complete. | Added rawson\n",
      "City number 395 of 625 complete. | Added el salto\n",
      "City number 396 of 625 complete. | Added chateaubelair\n",
      "City number 397 of 625 complete. | Added dieppe\n",
      "Missing data in city number 398 of 625. | Skipping nizhneyansk\n",
      "City number 399 of 625 complete. | Added morondava\n",
      "City number 400 of 625 complete. | Added havoysund\n",
      "Missing data in city number 401 of 625. | Skipping mudyuga\n",
      "City number 402 of 625 complete. | Added fernie\n",
      "City number 403 of 625 complete. | Added kadoma\n",
      "Missing data in city number 404 of 625. | Skipping jiddah\n",
      "City number 405 of 625 complete. | Added nueve de julio\n",
      "City number 406 of 625 complete. | Added santa isabel\n",
      "City number 407 of 625 complete. | Added gat\n",
      "City number 408 of 625 complete. | Added moberly\n",
      "City number 409 of 625 complete. | Added japura\n",
      "City number 410 of 625 complete. | Added baraki barak\n",
      "City number 411 of 625 complete. | Added namibe\n",
      "City number 412 of 625 complete. | Added buchanan\n",
      "City number 413 of 625 complete. | Added natal\n",
      "City number 414 of 625 complete. | Added inhambane\n",
      "City number 415 of 625 complete. | Added wasilla\n",
      "City number 416 of 625 complete. | Added piranhas\n",
      "City number 417 of 625 complete. | Added kintampo\n",
      "Missing data in city number 418 of 625. | Skipping dzhusaly\n",
      "City number 419 of 625 complete. | Added lac du bonnet\n",
      "City number 420 of 625 complete. | Added dingle\n",
      "City number 421 of 625 complete. | Added gayny\n",
      "City number 422 of 625 complete. | Added noumea\n",
      "City number 423 of 625 complete. | Added victor harbor\n",
      "City number 424 of 625 complete. | Added porto santo\n",
      "Missing data in city number 425 of 625. | Skipping potgietersrus\n",
      "City number 426 of 625 complete. | Added nizhniy kuranakh\n",
      "City number 427 of 625 complete. | Added xuddur\n",
      "City number 428 of 625 complete. | Added port hedland\n",
      "City number 429 of 625 complete. | Added manado\n",
      "City number 430 of 625 complete. | Added hoquiam\n",
      "City number 431 of 625 complete. | Added bystrice nad pernstejnem\n",
      "City number 432 of 625 complete. | Added tautira\n",
      "City number 433 of 625 complete. | Added redlands\n",
      "City number 434 of 625 complete. | Added ostrovnoy\n",
      "City number 435 of 625 complete. | Added mount gambier\n",
      "City number 436 of 625 complete. | Added inta\n",
      "City number 437 of 625 complete. | Added isangel\n",
      "Missing data in city number 438 of 625. | Skipping yanan\n",
      "City number 439 of 625 complete. | Added tezu\n",
      "City number 440 of 625 complete. | Added mayo\n",
      "City number 441 of 625 complete. | Added college\n",
      "City number 442 of 625 complete. | Added khandyga\n",
      "City number 443 of 625 complete. | Added eydhafushi\n",
      "City number 444 of 625 complete. | Added karasjok\n",
      "City number 445 of 625 complete. | Added colares\n",
      "City number 446 of 625 complete. | Added emerald\n",
      "City number 447 of 625 complete. | Added tadine\n",
      "City number 448 of 625 complete. | Added alegrete\n",
      "City number 449 of 625 complete. | Added novokizhinginsk\n",
      "City number 450 of 625 complete. | Added santa cruz cabralia\n",
      "City number 451 of 625 complete. | Added altay\n",
      "City number 452 of 625 complete. | Added panukulan\n",
      "City number 453 of 625 complete. | Added plettenberg bay\n",
      "City number 454 of 625 complete. | Added khorixas\n",
      "City number 455 of 625 complete. | Added portland\n",
      "Missing data in city number 456 of 625. | Skipping amderma\n",
      "City number 457 of 625 complete. | Added kalmunai\n",
      "City number 458 of 625 complete. | Added muromtsevo\n",
      "City number 459 of 625 complete. | Added alberton\n",
      "City number 460 of 625 complete. | Added borovoy\n",
      "City number 461 of 625 complete. | Added am timan\n",
      "City number 462 of 625 complete. | Added shihezi\n",
      "City number 463 of 625 complete. | Added walvis bay\n",
      "City number 464 of 625 complete. | Added dunedin\n",
      "City number 465 of 625 complete. | Added ilulissat\n",
      "City number 466 of 625 complete. | Added ballina\n",
      "City number 467 of 625 complete. | Added coquimbo\n",
      "City number 468 of 625 complete. | Added asau\n",
      "City number 469 of 625 complete. | Added barra\n",
      "City number 470 of 625 complete. | Added flin flon\n",
      "City number 471 of 625 complete. | Added praia da vitoria\n",
      "City number 472 of 625 complete. | Added begoro\n",
      "City number 473 of 625 complete. | Added smithers\n",
      "Missing data in city number 474 of 625. | Skipping pousat\n",
      "City number 475 of 625 complete. | Added lexington\n",
      "City number 476 of 625 complete. | Added kloulklubed\n",
      "City number 477 of 625 complete. | Added port elizabeth\n",
      "City number 478 of 625 complete. | Added palembang\n",
      "City number 479 of 625 complete. | Added chokwe\n",
      "City number 480 of 625 complete. | Added gobabis\n",
      "City number 481 of 625 complete. | Added tanout\n",
      "City number 482 of 625 complete. | Added mitsamiouli\n",
      "City number 483 of 625 complete. | Added pucallpa\n",
      "City number 484 of 625 complete. | Added ornskoldsvik\n",
      "City number 485 of 625 complete. | Added strezhevoy\n",
      "City number 486 of 625 complete. | Added jeremie\n",
      "City number 487 of 625 complete. | Added constantine\n",
      "City number 488 of 625 complete. | Added dongsheng\n",
      "City number 489 of 625 complete. | Added kirensk\n",
      "City number 490 of 625 complete. | Added zalantun\n",
      "Missing data in city number 491 of 625. | Skipping ust-kamchatsk\n",
      "City number 492 of 625 complete. | Added garowe\n",
      "City number 493 of 625 complete. | Added phangnga\n",
      "City number 494 of 625 complete. | Added coronado\n",
      "City number 495 of 625 complete. | Added iquitos\n",
      "City number 496 of 625 complete. | Added ust-ilimsk\n",
      "City number 497 of 625 complete. | Added shingu\n",
      "City number 498 of 625 complete. | Added yulara\n",
      "City number 499 of 625 complete. | Added mehamn\n",
      "City number 500 of 625 complete. | Added banyuwangi\n",
      "City number 501 of 625 complete. | Added stornoway\n",
      "City number 502 of 625 complete. | Added liberty\n",
      "City number 503 of 625 complete. | Added kungurtug\n",
      "City number 504 of 625 complete. | Added nefteyugansk\n",
      "City number 505 of 625 complete. | Added batemans bay\n",
      "City number 506 of 625 complete. | Added anadyr\n",
      "City number 507 of 625 complete. | Added brigantine\n",
      "City number 508 of 625 complete. | Added tecoanapa\n",
      "City number 509 of 625 complete. | Added jutai\n",
      "City number 510 of 625 complete. | Added atar\n",
      "City number 511 of 625 complete. | Added bahir dar\n",
      "City number 512 of 625 complete. | Added svetlogorsk\n",
      "Missing data in city number 513 of 625. | Skipping rawannawi\n",
      "City number 514 of 625 complete. | Added axim\n",
      "City number 515 of 625 complete. | Added pringsewu\n",
      "City number 516 of 625 complete. | Added ixtapa\n",
      "City number 517 of 625 complete. | Added khasan\n",
      "City number 518 of 625 complete. | Added gornopravdinsk\n",
      "City number 519 of 625 complete. | Added sesheke\n",
      "City number 520 of 625 complete. | Added tiarei\n",
      "City number 521 of 625 complete. | Added jalu\n",
      "City number 522 of 625 complete. | Added yerbogachen\n",
      "City number 523 of 625 complete. | Added sechura\n",
      "City number 524 of 625 complete. | Added gravdal\n",
      "City number 525 of 625 complete. | Added lodwar\n",
      "City number 526 of 625 complete. | Added ambon\n",
      "City number 527 of 625 complete. | Added viedma\n",
      "City number 528 of 625 complete. | Added sibolga\n",
      "City number 529 of 625 complete. | Added fare\n",
      "City number 530 of 625 complete. | Added north branch\n",
      "City number 531 of 625 complete. | Added longyearbyen\n",
      "City number 532 of 625 complete. | Added zhezkazgan\n",
      "City number 533 of 625 complete. | Added yar-sale\n",
      "City number 534 of 625 complete. | Added monte escobedo\n",
      "City number 535 of 625 complete. | Added ribeira grande\n",
      "City number 536 of 625 complete. | Added fuerte olimpo\n",
      "City number 537 of 625 complete. | Added tessalit\n",
      "City number 538 of 625 complete. | Added ketchikan\n",
      "City number 539 of 625 complete. | Added boguchany\n",
      "City number 540 of 625 complete. | Added fairbanks\n",
      "City number 541 of 625 complete. | Added laela\n",
      "City number 542 of 625 complete. | Added karratha\n",
      "City number 543 of 625 complete. | Added holme\n",
      "City number 544 of 625 complete. | Added marzuq\n",
      "City number 545 of 625 complete. | Added loikaw\n",
      "City number 546 of 625 complete. | Added bisira\n",
      "City number 547 of 625 complete. | Added codajas\n",
      "City number 548 of 625 complete. | Added point fortin\n",
      "City number 549 of 625 complete. | Added hofn\n",
      "City number 550 of 625 complete. | Added kamaishi\n",
      "City number 551 of 625 complete. | Added bagdarin\n",
      "City number 552 of 625 complete. | Added muswellbrook\n",
      "City number 553 of 625 complete. | Added souillac\n",
      "Missing data in city number 554 of 625. | Skipping pilao arcado\n",
      "City number 555 of 625 complete. | Added zanzibar\n",
      "Missing data in city number 556 of 625. | Skipping karaul\n",
      "City number 557 of 625 complete. | Added vostok\n",
      "City number 558 of 625 complete. | Added mayumba\n",
      "City number 559 of 625 complete. | Added lensk\n",
      "City number 560 of 625 complete. | Added buala\n",
      "Missing data in city number 561 of 625. | Skipping afmadu\n",
      "City number 562 of 625 complete. | Added merrill\n",
      "City number 563 of 625 complete. | Added hangal\n",
      "City number 564 of 625 complete. | Added puerto leguizamo\n",
      "City number 565 of 625 complete. | Added malangali\n",
      "City number 566 of 625 complete. | Added muros\n",
      "City number 567 of 625 complete. | Added robertsport\n",
      "City number 568 of 625 complete. | Added verkhoyansk\n",
      "City number 569 of 625 complete. | Added khani\n",
      "City number 570 of 625 complete. | Added sovetskiy\n",
      "Missing data in city number 571 of 625. | Skipping bolungarvik\n",
      "Missing data in city number 572 of 625. | Skipping duzici\n",
      "City number 573 of 625 complete. | Added igarka\n",
      "City number 574 of 625 complete. | Added voyvozh\n",
      "City number 575 of 625 complete. | Added tazovskiy\n",
      "City number 576 of 625 complete. | Added eureka\n",
      "City number 577 of 625 complete. | Added dalvik\n",
      "City number 578 of 625 complete. | Added bonavista\n",
      "City number 579 of 625 complete. | Added platonovka\n",
      "City number 580 of 625 complete. | Added shelburne\n",
      "Missing data in city number 581 of 625. | Skipping temaraia\n",
      "City number 582 of 625 complete. | Added sao joao da barra\n",
      "City number 583 of 625 complete. | Added jining\n",
      "City number 584 of 625 complete. | Added port-gentil\n",
      "City number 585 of 625 complete. | Added christchurch\n",
      "City number 586 of 625 complete. | Added tartagal\n",
      "Missing data in city number 587 of 625. | Skipping khonuu\n",
      "City number 588 of 625 complete. | Added pilar\n",
      "City number 589 of 625 complete. | Added notodden\n",
      "City number 590 of 625 complete. | Added zeya\n",
      "City number 591 of 625 complete. | Added sao jose da coroa grande\n",
      "City number 592 of 625 complete. | Added carauari\n",
      "City number 593 of 625 complete. | Added nipawin\n",
      "City number 594 of 625 complete. | Added ternate\n",
      "City number 595 of 625 complete. | Added tocopilla\n",
      "City number 596 of 625 complete. | Added peace river\n",
      "City number 597 of 625 complete. | Added bahadurganj\n",
      "City number 598 of 625 complete. | Added luena\n",
      "City number 599 of 625 complete. | Added rio brilhante\n",
      "City number 600 of 625 complete. | Added bakchar\n",
      "City number 601 of 625 complete. | Added tongren\n",
      "City number 602 of 625 complete. | Added laibin\n",
      "City number 603 of 625 complete. | Added porto novo\n",
      "City number 604 of 625 complete. | Added ulaangom\n",
      "City number 605 of 625 complete. | Added aranos\n",
      "City number 606 of 625 complete. | Added cessnock\n",
      "City number 607 of 625 complete. | Added riyadh\n",
      "City number 608 of 625 complete. | Added caravelas\n",
      "City number 609 of 625 complete. | Added marsh harbour\n",
      "City number 610 of 625 complete. | Added kieta\n",
      "City number 611 of 625 complete. | Added panama city\n",
      "City number 612 of 625 complete. | Added aketi\n",
      "Missing data in city number 613 of 625. | Skipping kamenskoye\n",
      "City number 614 of 625 complete. | Added pangnirtung\n",
      "City number 615 of 625 complete. | Added ugoofaaru\n",
      "City number 616 of 625 complete. | Added rio das pedras\n",
      "City number 617 of 625 complete. | Added kisangani\n",
      "Missing data in city number 618 of 625. | Skipping angra\n",
      "City number 619 of 625 complete. | Added nemuro\n",
      "City number 620 of 625 complete. | Added quelimane\n",
      "City number 621 of 625 complete. | Added bestobe\n",
      "City number 622 of 625 complete. | Added jardim\n",
      "City number 623 of 625 complete. | Added kargil\n",
      "City number 624 of 625 complete. | Added huai thalaeng\n",
      "Missing data in city number 625 of 625. | Skipping utiroa\n",
      "------------------------------\n",
      "End of Records\n",
      "------------------------------\n"
     ]
    }
   ],
   "source": [
    "#Initiate counter for city number below\n",
    "number = 1\n",
    "\n",
    "#Lists for holding required items\n",
    "city_name = []\n",
    "lat = []\n",
    "lng = []\n",
    "temp = []\n",
    "humid = []\n",
    "clouds = []\n",
    "wind = []\n",
    "dates = []\n",
    "countries = []\n",
    "\n",
    "\n",
    "#Loop through each city, extract required items, and print result\n",
    "print('------------------------------')\n",
    "print('Start of Records')\n",
    "print('------------------------------')\n",
    "\n",
    "for city in cities:\n",
    "    try:\n",
    "        city_data = (requests.get(url + '&q=' + city)).json()\n",
    "        city_name.append(city_data['name'])\n",
    "        lat.append(city_data['coord']['lat'])\n",
    "        lng.append(city_data['coord']['lon'])\n",
    "        temp.append(city_data['main']['temp'])\n",
    "        humid.append(city_data['main']['humidity'])\n",
    "        clouds.append(city_data['clouds']['all'])\n",
    "        wind.append(city_data['wind']['speed'])\n",
    "        dates.append(city_data['dt'])\n",
    "        countries.append(city_data['sys']['country'])\n",
    "        \n",
    "        print(f'City number {number} of {len(cities)} complete. | Added {city}')\n",
    "        number = number + 1\n",
    "    \n",
    "    except KeyError:\n",
    "        print(f'Missing data in city number {number} of {len(cities)}. | Skipping {city}')\n",
    "        number = number + 1\n",
    "        \n",
    "print('------------------------------')\n",
    "print('End of Records')\n",
    "print('------------------------------')"
   ]
  },
  {
   "cell_type": "code",
   "execution_count": 6,
   "metadata": {},
   "outputs": [
    {
     "data": {
      "text/plain": [
       "2"
      ]
     },
     "execution_count": 6,
     "metadata": {},
     "output_type": "execute_result"
    }
   ],
   "source": [
    "len(city_data)"
   ]
  },
  {
   "cell_type": "markdown",
   "metadata": {},
   "source": [
    "### Convert Raw Data to DataFrame\n",
    "* Export the city data into a .csv.\n",
    "* Display the DataFrame"
   ]
  },
  {
   "cell_type": "code",
   "execution_count": 7,
   "metadata": {},
   "outputs": [
    {
     "data": {
      "text/plain": [
       "City          568\n",
       "Latitude      568\n",
       "Longitude     568\n",
       "Max Temp      568\n",
       "Humidity      568\n",
       "Cloudiness    568\n",
       "Wind Speed    568\n",
       "Date          568\n",
       "Country       568\n",
       "dtype: int64"
      ]
     },
     "execution_count": 7,
     "metadata": {},
     "output_type": "execute_result"
    }
   ],
   "source": [
    "weather_dict = {\n",
    "    \n",
    "    \"City\": city_name, \n",
    "    \"Latitude\": lat, \n",
    "    \"Longitude\": lng,\n",
    "    \"Max Temp\": temp,\n",
    "    \"Humidity\": humid,\n",
    "    \"Cloudiness\": clouds, \n",
    "    \"Wind Speed\": wind,\n",
    "    \"Date\":dates,\n",
    "    \"Country\":countries\n",
    "   \n",
    "    \n",
    "}\n",
    "\n",
    "weather_data = pd.DataFrame(weather_dict)\n",
    "weather_data.count()\n"
   ]
  },
  {
   "cell_type": "code",
   "execution_count": 8,
   "metadata": {},
   "outputs": [
    {
     "data": {
      "text/html": [
       "<div>\n",
       "<style scoped>\n",
       "    .dataframe tbody tr th:only-of-type {\n",
       "        vertical-align: middle;\n",
       "    }\n",
       "\n",
       "    .dataframe tbody tr th {\n",
       "        vertical-align: top;\n",
       "    }\n",
       "\n",
       "    .dataframe thead th {\n",
       "        text-align: right;\n",
       "    }\n",
       "</style>\n",
       "<table border=\"1\" class=\"dataframe\">\n",
       "  <thead>\n",
       "    <tr style=\"text-align: right;\">\n",
       "      <th></th>\n",
       "      <th>City</th>\n",
       "      <th>Latitude</th>\n",
       "      <th>Longitude</th>\n",
       "      <th>Max Temp</th>\n",
       "      <th>Humidity</th>\n",
       "      <th>Cloudiness</th>\n",
       "      <th>Wind Speed</th>\n",
       "      <th>Date</th>\n",
       "      <th>Country</th>\n",
       "    </tr>\n",
       "  </thead>\n",
       "  <tbody>\n",
       "    <tr>\n",
       "      <th>0</th>\n",
       "      <td>Khandagayty</td>\n",
       "      <td>50.73</td>\n",
       "      <td>92.05</td>\n",
       "      <td>46.42</td>\n",
       "      <td>56</td>\n",
       "      <td>21</td>\n",
       "      <td>2.33</td>\n",
       "      <td>1600266927</td>\n",
       "      <td>RU</td>\n",
       "    </tr>\n",
       "    <tr>\n",
       "      <th>1</th>\n",
       "      <td>Rikitea</td>\n",
       "      <td>-23.12</td>\n",
       "      <td>-134.97</td>\n",
       "      <td>72.97</td>\n",
       "      <td>79</td>\n",
       "      <td>1</td>\n",
       "      <td>9.22</td>\n",
       "      <td>1600266927</td>\n",
       "      <td>PF</td>\n",
       "    </tr>\n",
       "    <tr>\n",
       "      <th>2</th>\n",
       "      <td>Tromsø</td>\n",
       "      <td>69.65</td>\n",
       "      <td>18.96</td>\n",
       "      <td>46.40</td>\n",
       "      <td>75</td>\n",
       "      <td>75</td>\n",
       "      <td>9.17</td>\n",
       "      <td>1600266927</td>\n",
       "      <td>NO</td>\n",
       "    </tr>\n",
       "    <tr>\n",
       "      <th>3</th>\n",
       "      <td>Sitka</td>\n",
       "      <td>57.05</td>\n",
       "      <td>-135.33</td>\n",
       "      <td>46.40</td>\n",
       "      <td>87</td>\n",
       "      <td>40</td>\n",
       "      <td>4.70</td>\n",
       "      <td>1600266928</td>\n",
       "      <td>US</td>\n",
       "    </tr>\n",
       "    <tr>\n",
       "      <th>4</th>\n",
       "      <td>Hithadhoo</td>\n",
       "      <td>-0.60</td>\n",
       "      <td>73.08</td>\n",
       "      <td>82.85</td>\n",
       "      <td>72</td>\n",
       "      <td>99</td>\n",
       "      <td>9.93</td>\n",
       "      <td>1600266731</td>\n",
       "      <td>MV</td>\n",
       "    </tr>\n",
       "  </tbody>\n",
       "</table>\n",
       "</div>"
      ],
      "text/plain": [
       "          City  Latitude  Longitude  Max Temp  Humidity  Cloudiness  \\\n",
       "0  Khandagayty     50.73      92.05     46.42        56          21   \n",
       "1      Rikitea    -23.12    -134.97     72.97        79           1   \n",
       "2       Tromsø     69.65      18.96     46.40        75          75   \n",
       "3        Sitka     57.05    -135.33     46.40        87          40   \n",
       "4    Hithadhoo     -0.60      73.08     82.85        72          99   \n",
       "\n",
       "   Wind Speed        Date Country  \n",
       "0        2.33  1600266927      RU  \n",
       "1        9.22  1600266927      PF  \n",
       "2        9.17  1600266927      NO  \n",
       "3        4.70  1600266928      US  \n",
       "4        9.93  1600266731      MV  "
      ]
     },
     "execution_count": 8,
     "metadata": {},
     "output_type": "execute_result"
    }
   ],
   "source": [
    "weather_data.head()"
   ]
  },
  {
   "cell_type": "code",
   "execution_count": 9,
   "metadata": {},
   "outputs": [],
   "source": [
    "#output file \n",
    "weather_data.to_csv(r'output_data\\weather_data.csv')"
   ]
  },
  {
   "cell_type": "code",
   "execution_count": 10,
   "metadata": {},
   "outputs": [
    {
     "data": {
      "text/html": [
       "<div>\n",
       "<style scoped>\n",
       "    .dataframe tbody tr th:only-of-type {\n",
       "        vertical-align: middle;\n",
       "    }\n",
       "\n",
       "    .dataframe tbody tr th {\n",
       "        vertical-align: top;\n",
       "    }\n",
       "\n",
       "    .dataframe thead th {\n",
       "        text-align: right;\n",
       "    }\n",
       "</style>\n",
       "<table border=\"1\" class=\"dataframe\">\n",
       "  <thead>\n",
       "    <tr style=\"text-align: right;\">\n",
       "      <th></th>\n",
       "      <th>City</th>\n",
       "      <th>Latitude</th>\n",
       "      <th>Longitude</th>\n",
       "      <th>Max Temp</th>\n",
       "      <th>Humidity</th>\n",
       "      <th>Cloudiness</th>\n",
       "      <th>Wind Speed</th>\n",
       "      <th>Date</th>\n",
       "      <th>Country</th>\n",
       "    </tr>\n",
       "  </thead>\n",
       "  <tbody>\n",
       "    <tr>\n",
       "      <th>0</th>\n",
       "      <td>Khandagayty</td>\n",
       "      <td>50.73</td>\n",
       "      <td>92.05</td>\n",
       "      <td>46.42</td>\n",
       "      <td>56</td>\n",
       "      <td>21</td>\n",
       "      <td>2.33</td>\n",
       "      <td>1600266927</td>\n",
       "      <td>RU</td>\n",
       "    </tr>\n",
       "    <tr>\n",
       "      <th>1</th>\n",
       "      <td>Rikitea</td>\n",
       "      <td>-23.12</td>\n",
       "      <td>-134.97</td>\n",
       "      <td>72.97</td>\n",
       "      <td>79</td>\n",
       "      <td>1</td>\n",
       "      <td>9.22</td>\n",
       "      <td>1600266927</td>\n",
       "      <td>PF</td>\n",
       "    </tr>\n",
       "    <tr>\n",
       "      <th>2</th>\n",
       "      <td>Tromsø</td>\n",
       "      <td>69.65</td>\n",
       "      <td>18.96</td>\n",
       "      <td>46.40</td>\n",
       "      <td>75</td>\n",
       "      <td>75</td>\n",
       "      <td>9.17</td>\n",
       "      <td>1600266927</td>\n",
       "      <td>NO</td>\n",
       "    </tr>\n",
       "    <tr>\n",
       "      <th>3</th>\n",
       "      <td>Sitka</td>\n",
       "      <td>57.05</td>\n",
       "      <td>-135.33</td>\n",
       "      <td>46.40</td>\n",
       "      <td>87</td>\n",
       "      <td>40</td>\n",
       "      <td>4.70</td>\n",
       "      <td>1600266928</td>\n",
       "      <td>US</td>\n",
       "    </tr>\n",
       "    <tr>\n",
       "      <th>4</th>\n",
       "      <td>Hithadhoo</td>\n",
       "      <td>-0.60</td>\n",
       "      <td>73.08</td>\n",
       "      <td>82.85</td>\n",
       "      <td>72</td>\n",
       "      <td>99</td>\n",
       "      <td>9.93</td>\n",
       "      <td>1600266731</td>\n",
       "      <td>MV</td>\n",
       "    </tr>\n",
       "  </tbody>\n",
       "</table>\n",
       "</div>"
      ],
      "text/plain": [
       "          City  Latitude  Longitude  Max Temp  Humidity  Cloudiness  \\\n",
       "0  Khandagayty     50.73      92.05     46.42        56          21   \n",
       "1      Rikitea    -23.12    -134.97     72.97        79           1   \n",
       "2       Tromsø     69.65      18.96     46.40        75          75   \n",
       "3        Sitka     57.05    -135.33     46.40        87          40   \n",
       "4    Hithadhoo     -0.60      73.08     82.85        72          99   \n",
       "\n",
       "   Wind Speed        Date Country  \n",
       "0        2.33  1600266927      RU  \n",
       "1        9.22  1600266927      PF  \n",
       "2        9.17  1600266927      NO  \n",
       "3        4.70  1600266928      US  \n",
       "4        9.93  1600266731      MV  "
      ]
     },
     "execution_count": 10,
     "metadata": {},
     "output_type": "execute_result"
    }
   ],
   "source": [
    "weather_data = pd.DataFrame(weather_dict)\n",
    "weather_data.head(5)"
   ]
  },
  {
   "cell_type": "code",
   "execution_count": 13,
   "metadata": {},
   "outputs": [
    {
     "data": {
      "text/html": [
       "<div>\n",
       "<style scoped>\n",
       "    .dataframe tbody tr th:only-of-type {\n",
       "        vertical-align: middle;\n",
       "    }\n",
       "\n",
       "    .dataframe tbody tr th {\n",
       "        vertical-align: top;\n",
       "    }\n",
       "\n",
       "    .dataframe thead th {\n",
       "        text-align: right;\n",
       "    }\n",
       "</style>\n",
       "<table border=\"1\" class=\"dataframe\">\n",
       "  <thead>\n",
       "    <tr style=\"text-align: right;\">\n",
       "      <th></th>\n",
       "      <th>Latitude</th>\n",
       "      <th>Longitude</th>\n",
       "      <th>Max Temp</th>\n",
       "      <th>Humidity</th>\n",
       "      <th>Cloudiness</th>\n",
       "      <th>Wind Speed</th>\n",
       "      <th>Date</th>\n",
       "    </tr>\n",
       "  </thead>\n",
       "  <tbody>\n",
       "    <tr>\n",
       "      <th>count</th>\n",
       "      <td>575.000000</td>\n",
       "      <td>575.000000</td>\n",
       "      <td>575.000000</td>\n",
       "      <td>575.000000</td>\n",
       "      <td>575.000000</td>\n",
       "      <td>575.000000</td>\n",
       "      <td>5.750000e+02</td>\n",
       "    </tr>\n",
       "    <tr>\n",
       "      <th>mean</th>\n",
       "      <td>21.170487</td>\n",
       "      <td>11.939096</td>\n",
       "      <td>66.150435</td>\n",
       "      <td>70.504348</td>\n",
       "      <td>51.377391</td>\n",
       "      <td>8.215078</td>\n",
       "      <td>1.600203e+09</td>\n",
       "    </tr>\n",
       "    <tr>\n",
       "      <th>std</th>\n",
       "      <td>33.050140</td>\n",
       "      <td>89.363000</td>\n",
       "      <td>15.306855</td>\n",
       "      <td>21.669908</td>\n",
       "      <td>38.846681</td>\n",
       "      <td>5.303702</td>\n",
       "      <td>8.499163e+01</td>\n",
       "    </tr>\n",
       "    <tr>\n",
       "      <th>min</th>\n",
       "      <td>-54.800000</td>\n",
       "      <td>-179.170000</td>\n",
       "      <td>21.780000</td>\n",
       "      <td>9.000000</td>\n",
       "      <td>0.000000</td>\n",
       "      <td>0.270000</td>\n",
       "      <td>1.600203e+09</td>\n",
       "    </tr>\n",
       "    <tr>\n",
       "      <th>25%</th>\n",
       "      <td>-6.375000</td>\n",
       "      <td>-64.480000</td>\n",
       "      <td>53.035000</td>\n",
       "      <td>58.000000</td>\n",
       "      <td>8.000000</td>\n",
       "      <td>4.280000</td>\n",
       "      <td>1.600203e+09</td>\n",
       "    </tr>\n",
       "    <tr>\n",
       "      <th>50%</th>\n",
       "      <td>26.180000</td>\n",
       "      <td>16.880000</td>\n",
       "      <td>67.910000</td>\n",
       "      <td>76.000000</td>\n",
       "      <td>55.000000</td>\n",
       "      <td>6.930000</td>\n",
       "      <td>1.600203e+09</td>\n",
       "    </tr>\n",
       "    <tr>\n",
       "      <th>75%</th>\n",
       "      <td>48.985000</td>\n",
       "      <td>82.545000</td>\n",
       "      <td>77.970000</td>\n",
       "      <td>87.000000</td>\n",
       "      <td>90.000000</td>\n",
       "      <td>11.180000</td>\n",
       "      <td>1.600203e+09</td>\n",
       "    </tr>\n",
       "    <tr>\n",
       "      <th>max</th>\n",
       "      <td>78.220000</td>\n",
       "      <td>178.420000</td>\n",
       "      <td>103.080000</td>\n",
       "      <td>100.000000</td>\n",
       "      <td>100.000000</td>\n",
       "      <td>35.520000</td>\n",
       "      <td>1.600203e+09</td>\n",
       "    </tr>\n",
       "  </tbody>\n",
       "</table>\n",
       "</div>"
      ],
      "text/plain": [
       "         Latitude   Longitude    Max Temp    Humidity  Cloudiness  Wind Speed  \\\n",
       "count  575.000000  575.000000  575.000000  575.000000  575.000000  575.000000   \n",
       "mean    21.170487   11.939096   66.150435   70.504348   51.377391    8.215078   \n",
       "std     33.050140   89.363000   15.306855   21.669908   38.846681    5.303702   \n",
       "min    -54.800000 -179.170000   21.780000    9.000000    0.000000    0.270000   \n",
       "25%     -6.375000  -64.480000   53.035000   58.000000    8.000000    4.280000   \n",
       "50%     26.180000   16.880000   67.910000   76.000000   55.000000    6.930000   \n",
       "75%     48.985000   82.545000   77.970000   87.000000   90.000000   11.180000   \n",
       "max     78.220000  178.420000  103.080000  100.000000  100.000000   35.520000   \n",
       "\n",
       "               Date  \n",
       "count  5.750000e+02  \n",
       "mean   1.600203e+09  \n",
       "std    8.499163e+01  \n",
       "min    1.600203e+09  \n",
       "25%    1.600203e+09  \n",
       "50%    1.600203e+09  \n",
       "75%    1.600203e+09  \n",
       "max    1.600203e+09  "
      ]
     },
     "execution_count": 13,
     "metadata": {},
     "output_type": "execute_result"
    }
   ],
   "source": [
    "#stats\n",
    "weather_data.describe()"
   ]
  },
  {
   "cell_type": "markdown",
   "metadata": {},
   "source": [
    "## Inspect the data and remove the cities where the humidity > 100%.\n",
    "----\n",
    "Skip this step if there are no cities that have humidity > 100%. \n",
    "\n",
    "The Max Humidity is 100% so therefore by directions the analysis below is not needed. "
   ]
  },
  {
   "cell_type": "code",
   "execution_count": 11,
   "metadata": {},
   "outputs": [],
   "source": [
    "#NA"
   ]
  },
  {
   "cell_type": "code",
   "execution_count": 15,
   "metadata": {},
   "outputs": [],
   "source": [
    "#  Get the indices of cities that have humidity over 100%.\n",
    "#NA"
   ]
  },
  {
   "cell_type": "code",
   "execution_count": 16,
   "metadata": {},
   "outputs": [],
   "source": [
    "# Make a new DataFrame equal to the city data to drop all humidity outliers by index.\n",
    "# Passing \"inplace=False\" will make a copy of the city_data DataFrame, which we call \"clean_city_data\".\n",
    "#NA"
   ]
  },
  {
   "cell_type": "code",
   "execution_count": 17,
   "metadata": {},
   "outputs": [],
   "source": [
    "#NA\n"
   ]
  },
  {
   "cell_type": "markdown",
   "metadata": {},
   "source": [
    "## Plotting the Data\n",
    "* Use proper labeling of the plots using plot titles (including date of analysis) and axes labels.\n",
    "* Save the plotted figures as .pngs."
   ]
  },
  {
   "cell_type": "markdown",
   "metadata": {},
   "source": [
    "## Latitude vs. Temperature Plot"
   ]
  },
  {
   "cell_type": "code",
   "execution_count": 12,
   "metadata": {
    "scrolled": true
   },
   "outputs": [
    {
     "name": "stdout",
     "output_type": "stream",
     "text": [
      "Temperature plot creates a curve that shows how the temperature increases as you move closer to the equator and decreases as you move further away.\n"
     ]
    },
    {
     "data": {
      "image/png": "[encoded data removed]",
      "text/plain": [
       "<Figure size 432x288 with 1 Axes>"
      ]
     },
     "metadata": {
      "needs_background": "light"
     },
     "output_type": "display_data"
    }
   ],
   "source": [
    "plt.scatter(weather_data['Latitude'], weather_data['Max Temp'])\n",
    "plt.title(f'City Latitude vs. Temperature {date.today()}')\n",
    "plt.xlabel('Latitude')\n",
    "plt.ylabel('Temperature (F)')\n",
    "plt.grid(True)\n",
    "print(f\"Temperature plot creates a curve that shows how the temperature increases as you move closer to the equator and decreases as you move further away.\")\n",
    "plt.savefig(\"../Images/Lat vs Temp.png\")"
   ]
  },
  {
   "cell_type": "code",
   "execution_count": null,
   "metadata": {},
   "outputs": [],
   "source": [
    "## Latitude vs. Humidity Plot"
   ]
  },
  {
   "cell_type": "code",
   "execution_count": 13,
   "metadata": {},
   "outputs": [
    {
     "name": "stdout",
     "output_type": "stream",
     "text": [
      "Humidity appears to not be affected by location.\n"
     ]
    },
    {
     "data": {
      "image/png": "[encoded data removed]",
      "text/plain": [
       "<Figure size 432x288 with 1 Axes>"
      ]
     },
     "metadata": {
      "needs_background": "light"
     },
     "output_type": "display_data"
    }
   ],
   "source": [
    "plt.scatter(weather_data['Latitude'], weather_data['Humidity'])\n",
    "plt.title(f'City Latitude vs. Humidity {date.today()}')\n",
    "plt.xlabel('Latitude')\n",
    "plt.ylabel('Humidity')\n",
    "plt.grid(True)\n",
    "print(f\"Humidity appears to not be affected by location.\")\n",
    "plt.savefig(\"../Images/Lat vs Humidity.png\")"
   ]
  },
  {
   "cell_type": "markdown",
   "metadata": {},
   "source": [
    "## Latitude vs. Cloudiness Plot"
   ]
  },
  {
   "cell_type": "code",
   "execution_count": 14,
   "metadata": {},
   "outputs": [
    {
     "name": "stdout",
     "output_type": "stream",
     "text": [
      "Cloudiness appears to be widespread across the plot.\n"
     ]
    },
    {
     "data": {
      "image/png": "[encoded data removed]",
      "text/plain": [
       "<Figure size 432x288 with 1 Axes>"
      ]
     },
     "metadata": {
      "needs_background": "light"
     },
     "output_type": "display_data"
    }
   ],
   "source": [
    "plt.scatter(weather_data['Latitude'], weather_data['Cloudiness'])\n",
    "plt.title(f'City Latitude vs. Cloudiness {date.today()}')\n",
    "plt.xlabel('Latitude')\n",
    "plt.ylabel('Cloudiness %')\n",
    "plt.grid(True)\n",
    "print(f\"Cloudiness appears to be widespread across the plot.\")\n",
    "plt.savefig(\"../Images/Lat vs Cloudiness.png\")"
   ]
  },
  {
   "cell_type": "markdown",
   "metadata": {},
   "source": [
    "## Latitude vs. Wind Speed Plot"
   ]
  },
  {
   "cell_type": "code",
   "execution_count": 15,
   "metadata": {},
   "outputs": [
    {
     "name": "stdout",
     "output_type": "stream",
     "text": [
      "Wind speed data is widely spread across the plot.\n"
     ]
    },
    {
     "data": {
      "image/png": "[encoded data removed]",
      "text/plain": [
       "<Figure size 432x288 with 1 Axes>"
      ]
     },
     "metadata": {
      "needs_background": "light"
     },
     "output_type": "display_data"
    }
   ],
   "source": [
    "plt.scatter(weather_data['Latitude'], weather_data['Wind Speed'])\n",
    "plt.title(f'City Latitude vs. Wind Speed {date.today()}')\n",
    "plt.xlabel('Latitude')\n",
    "plt.ylabel('Wind Speed')\n",
    "plt.grid(True)\n",
    "print(f\"Wind speed data is widely spread across the plot.\")\n",
    "plt.savefig(\"../Images/Lat vs Wind Speed.png\")"
   ]
  },
  {
   "cell_type": "markdown",
   "metadata": {},
   "source": [
    "## Linear Regression"
   ]
  },
  {
   "cell_type": "code",
   "execution_count": 16,
   "metadata": {},
   "outputs": [],
   "source": [
    "#create northern and southern hemisphere dataframes\n",
    "northern_df = weather_data.loc[weather_data[\"Latitude\"] >= 0]\n",
    "southern_df = weather_data.loc[weather_data[\"Latitude\"] <= 0]"
   ]
  },
  {
   "cell_type": "markdown",
   "metadata": {},
   "source": [
    "####  Northern Hemisphere - Max Temp vs. Latitude Linear Regression"
   ]
  },
  {
   "cell_type": "code",
   "execution_count": 17,
   "metadata": {},
   "outputs": [],
   "source": [
    "# Define function for creating linear agression and scatter plot\n",
    "def linear_agression(x,y):\n",
    "    print(f\"The r-squared is : {round(st.pearsonr(x, y)[0],2)}\")\n",
    "    (slope, intercept, rvalue, pvalue, stderr) = linregress(x, y)\n",
    "    regress_values = x * slope + intercept\n",
    "    line_eq = \"y = \" + str(round(slope,2)) + \"x + \" + str(round(intercept,2))\n",
    "    plt.annotate(line_eq,(6,10),fontsize=15,color=\"red\")\n",
    "    print(f\"Regression line equation is: {line_eq}\")\n",
    "    print(f\"Temps increase as you get closer to the equator.\")\n",
    "    plt.scatter(x, y)\n",
    "    plt.plot(x,regress_values,\"r-\")\n",
    "    return line_eq\n",
    "\n",
    "# Define a fuction for annotating\n",
    "def annotate(line_eq, a, b):\n",
    "    plt.annotate(line_eq,(a,b),fontsize=15,color=\"red\")"
   ]
  },
  {
   "cell_type": "code",
   "execution_count": 18,
   "metadata": {},
   "outputs": [
    {
     "name": "stdout",
     "output_type": "stream",
     "text": [
      "The r-squared is : -0.81\n",
      "Regression line equation is: y = -0.71x + 93.27\n",
      "Temps increase as you get closer to the equator.\n"
     ]
    },
    {
     "data": {
      "image/png": "[encoded data removed]",
      "text/plain": [
       "<Figure size 432x288 with 1 Axes>"
      ]
     },
     "metadata": {
      "needs_background": "light"
     },
     "output_type": "display_data"
    }
   ],
   "source": [
    "equation = linear_agression(northern_df[\"Latitude\"], northern_df[\"Max Temp\"])\n",
    "\n",
    "# title\n",
    "plt.title(\"Northern Hemisphere - Max Temp vs. Latitude Linear Regression\")\n",
    "\n",
    "# labels\n",
    "plt.xlabel(\"Latitude\")\n",
    "plt.ylabel(\"Max Temp (F)\")\n",
    "plt.xlim(-10, 90)\n",
    "plt.ylim(0, 150)\n",
    "\n",
    "# Save the figure\n",
    "plt.savefig(\"../Images/Northern Hemisphere Lat vs Temp.png\")"
   ]
  },
  {
   "cell_type": "markdown",
   "metadata": {},
   "source": [
    "####  Southern Hemisphere - Max Temp vs. Latitude Linear Regression"
   ]
  },
  {
   "cell_type": "code",
   "execution_count": 19,
   "metadata": {},
   "outputs": [
    {
     "name": "stdout",
     "output_type": "stream",
     "text": [
      "The r-squared is : 0.74\n",
      "Regression line equation is: y = 0.78x + 87.18\n",
      "Higher r value shows, as expected, the temp increases the closer you get to the equater and decreases the further you get away from the equater.\n"
     ]
    },
    {
     "data": {
      "image/png": "[encoded data removed]",
      "text/plain": [
       "<Figure size 432x288 with 1 Axes>"
      ]
     },
     "metadata": {
      "needs_background": "light"
     },
     "output_type": "display_data"
    }
   ],
   "source": [
    "# Define function for creating linear agression and scatter plot\n",
    "def linear_agression(x,y):\n",
    "    print(f\"The r-squared is : {round(st.pearsonr(x, y)[0],2)}\")\n",
    "    (slope, intercept, rvalue, pvalue, stderr) = linregress(x, y)\n",
    "    regress_values = x * slope + intercept\n",
    "    line_eq = \"y = \" + str(round(slope,2)) + \"x + \" + str(round(intercept,2))\n",
    "    plt.annotate(line_eq,(6,10),fontsize=15,color=\"red\")\n",
    "    print(f\"Regression line equation is: {line_eq}\")\n",
    "    print(f\"Higher r value shows, as expected, the temp increases the closer you get to the equater and decreases the further you get away from the equater.\")\n",
    "    plt.scatter(x, y)\n",
    "    plt.plot(x,regress_values,\"r-\")\n",
    "    return line_eq\n",
    "\n",
    "# Define a fuction for annotating\n",
    "def annotate(line_eq, a, b):\n",
    "    plt.annotate(line_eq,(a,b),fontsize=15,color=\"red\")\n",
    "    \n",
    "equation = linear_agression(southern_df[\"Latitude\"], southern_df[\"Max Temp\"])\n",
    "\n",
    "# title\n",
    "plt.title(\"Southern Hemisphere - Max Temp vs. Latitude Linear Regression\")\n",
    "\n",
    "# labels\n",
    "plt.xlabel(\"Latitude\")\n",
    "plt.ylabel(\"Max Temp (F)\")\n",
    "plt.xlim(-75, 75)\n",
    "plt.ylim(0, 120)\n",
    "\n",
    "# Save the figure\n",
    "plt.savefig(\"../Images/Southern Hemisphere Lat vs Temp.png\")"
   ]
  },
  {
   "cell_type": "markdown",
   "metadata": {},
   "source": [
    "####  Northern Hemisphere - Humidity (%) vs. Latitude Linear Regression"
   ]
  },
  {
   "cell_type": "code",
   "execution_count": 20,
   "metadata": {},
   "outputs": [
    {
     "name": "stdout",
     "output_type": "stream",
     "text": [
      "The r-squared is : 0.15\n",
      "Regression line equation is: y = 0.14x + 29.78\n",
      "Low r value shows no correlation.\n"
     ]
    },
    {
     "data": {
      "image/png": "[encoded data removed]",
      "text/plain": [
       "<Figure size 432x288 with 1 Axes>"
      ]
     },
     "metadata": {
      "needs_background": "light"
     },
     "output_type": "display_data"
    }
   ],
   "source": [
    "# Define function for creating linear agression and scatter plot\n",
    "def linear_agression(x,y):\n",
    "    print(f\"The r-squared is : {round(st.pearsonr(x, y)[0],2)}\")\n",
    "    (slope, intercept, rvalue, pvalue, stderr) = linregress(x, y)\n",
    "    regress_values = x * slope + intercept\n",
    "    line_eq = \"y = \" + str(round(slope,2)) + \"x + \" + str(round(intercept,2))\n",
    "    plt.annotate(line_eq,(6,10),fontsize=15,color=\"red\")\n",
    "    print(f\"Regression line equation is: {line_eq}\")\n",
    "    print(f\"Low r value shows no correlation.\")\n",
    "    plt.scatter(x, y)\n",
    "    plt.plot(x,regress_values,\"r-\")\n",
    "    return line_eq\n",
    "\n",
    "# Define a fuction for annotating\n",
    "def annotate(line_eq, a, b):\n",
    "    plt.annotate(line_eq,(a,b),fontsize=15,color=\"red\")\n",
    "\n",
    "# Define a fuction for annotating\n",
    "def annotate(line_eq, a, b):\n",
    "    plt.annotate(line_eq,(a,b),fontsize=15,color=\"red\")\n",
    "    \n",
    "equation = linear_agression(northern_df[\"Humidity\"], northern_df[\"Latitude\"])\n",
    "\n",
    "# title\n",
    "plt.title(\"Northern Hemisphere - Humidity vs. Latitude Linear Regression\")\n",
    "\n",
    "# labels\n",
    "plt.xlabel(\"Latitude\")\n",
    "plt.ylabel(\"Humidity\")\n",
    "plt.xlim(0, 110)\n",
    "plt.ylim(-10, 100)\n",
    "\n",
    "# Save the figure\n",
    "plt.savefig(\"../Images/Northern Hemispher Lat vs Humidity.png\")   "
   ]
  },
  {
   "cell_type": "markdown",
   "metadata": {},
   "source": [
    "####  Southern Hemisphere - Humidity (%) vs. Latitude Linear Regression"
   ]
  },
  {
   "cell_type": "code",
   "execution_count": 21,
   "metadata": {},
   "outputs": [
    {
     "name": "stdout",
     "output_type": "stream",
     "text": [
      "The r-squared is : -0.0\n",
      "Regression line equation is: y = -0.0x + -21.08\n",
      "A low r value shows that there is no real correlation.\n"
     ]
    },
    {
     "data": {
      "image/png": "[encoded data removed]",
      "text/plain": [
       "<Figure size 432x288 with 1 Axes>"
      ]
     },
     "metadata": {
      "needs_background": "light"
     },
     "output_type": "display_data"
    }
   ],
   "source": [
    "# Define function for creating linear agression and scatter plot\n",
    "def linear_agression(x,y):\n",
    "    print(f\"The r-squared is : {round(st.pearsonr(x, y)[0],2)}\")\n",
    "    (slope, intercept, rvalue, pvalue, stderr) = linregress(x, y)\n",
    "    regress_values = x * slope + intercept\n",
    "    line_eq = \"y = \" + str(round(slope,2)) + \"x + \" + str(round(intercept,2))\n",
    "    plt.annotate(line_eq,(6,10),fontsize=15,color=\"red\")\n",
    "    print(f\"Regression line equation is: {line_eq}\")\n",
    "    print(f\"A low r value shows that there is no real correlation.\")\n",
    "    plt.scatter(x, y)\n",
    "    plt.plot(x,regress_values,\"r-\")\n",
    "    return line_eq\n",
    "\n",
    "# Define a fuction for annotating\n",
    "def annotate(line_eq, a, b):\n",
    "    plt.annotate(line_eq,(a,b),fontsize=15,color=\"red\")\n",
    "\n",
    "# Define a fuction for annotating\n",
    "def annotate(line_eq, a, b):\n",
    "    plt.annotate(line_eq,(a,b),fontsize=15,color=\"red\")\n",
    "    \n",
    "equation = linear_agression(southern_df[\"Humidity\"], southern_df[\"Latitude\"])\n",
    "\n",
    "# title\n",
    "plt.title(\"Southern Hemisphere - Humidity vs. Latitude Linear Regression\")\n",
    "\n",
    "# labels\n",
    "plt.xlabel(\"Latitude\")\n",
    "plt.ylabel(\"Humidity\")\n",
    "plt.xlim(-5, 120)\n",
    "plt.ylim(-70, 100)\n",
    "\n",
    "# Save the figure\n",
    "plt.savefig(\"../Images/Southern Hemisphere Lat vs Humidity.png\")    "
   ]
  },
  {
   "cell_type": "markdown",
   "metadata": {},
   "source": [
    "####  Northern Hemisphere - Cloudiness (%) vs. Latitude Linear Regression"
   ]
  },
  {
   "cell_type": "code",
   "execution_count": 22,
   "metadata": {},
   "outputs": [
    {
     "name": "stdout",
     "output_type": "stream",
     "text": [
      "The r-squared is : 0.07\n",
      "Regression line equation is: y = 0.04x + 37.33\n",
      "Appears to be no correlation.\n"
     ]
    },
    {
     "data": {
      "image/png": "[encoded data removed]",
      "text/plain": [
       "<Figure size 432x288 with 1 Axes>"
      ]
     },
     "metadata": {
      "needs_background": "light"
     },
     "output_type": "display_data"
    }
   ],
   "source": [
    "# Define function for creating linear agression and scatter plot\n",
    "def linear_agression(x,y):\n",
    "    print(f\"The r-squared is : {round(st.pearsonr(x, y)[0],2)}\")\n",
    "    (slope, intercept, rvalue, pvalue, stderr) = linregress(x, y)\n",
    "    regress_values = x * slope + intercept\n",
    "    line_eq = \"y = \" + str(round(slope,2)) + \"x + \" + str(round(intercept,2))\n",
    "    plt.annotate(line_eq,(6,10),fontsize=15,color=\"red\")\n",
    "    print(f\"Regression line equation is: {line_eq}\")\n",
    "    print(f\"Appears to be no correlation.\")\n",
    "    plt.scatter(x, y)\n",
    "    plt.plot(x,regress_values,\"r-\")\n",
    "    return line_eq\n",
    "\n",
    "# Define a fuction for annotating\n",
    "def annotate(line_eq, a, b):\n",
    "    plt.annotate(line_eq,(a,b),fontsize=15,color=\"red\")\n",
    "\n",
    "# Define a fuction for annotating\n",
    "def annotate(line_eq, a, b):\n",
    "    plt.annotate(line_eq,(a,b),fontsize=15,color=\"red\")\n",
    "    \n",
    "equation = linear_agression(northern_df[\"Cloudiness\"], northern_df[\"Latitude\"])\n",
    "\n",
    "# title\n",
    "plt.title(\"Northern Hemisphere - Cloudiness vs. Latitude Linear Regression\")\n",
    "\n",
    "# labels\n",
    "plt.xlabel(\"Latitude\")\n",
    "plt.ylabel(\"Cloudiness %\")\n",
    "plt.xlim(-10, 110)\n",
    "plt.ylim(-10, 90)\n",
    "\n",
    "# Save the figure\n",
    "plt.savefig(\"../Images/Northern Hemisphere Lat vs Cloudiness.png\")   "
   ]
  },
  {
   "cell_type": "markdown",
   "metadata": {},
   "source": [
    "####  Southern Hemisphere - Cloudiness (%) vs. Latitude Linear Regression"
   ]
  },
  {
   "cell_type": "code",
   "execution_count": 23,
   "metadata": {},
   "outputs": [
    {
     "name": "stdout",
     "output_type": "stream",
     "text": [
      "The r-squared is : -0.04\n",
      "Regression line equation is: y = -0.02x + -20.49\n",
      "Low r value shows a weak correlation.\n"
     ]
    },
    {
     "data": {
      "image/png": "[encoded data removed]",
      "text/plain": [
       "<Figure size 432x288 with 1 Axes>"
      ]
     },
     "metadata": {
      "needs_background": "light"
     },
     "output_type": "display_data"
    }
   ],
   "source": [
    "# Define function for creating linear agression and scatter plot\n",
    "def linear_agression(x,y):\n",
    "    print(f\"The r-squared is : {round(st.pearsonr(x, y)[0],2)}\")\n",
    "    (slope, intercept, rvalue, pvalue, stderr) = linregress(x, y)\n",
    "    regress_values = x * slope + intercept\n",
    "    line_eq = \"y = \" + str(round(slope,2)) + \"x + \" + str(round(intercept,2))\n",
    "    plt.annotate(line_eq,(6,10),fontsize=15,color=\"red\")\n",
    "    print(f\"Regression line equation is: {line_eq}\")\n",
    "    print(f\"Low r value shows a weak correlation.\")\n",
    "    plt.scatter(x, y)\n",
    "    plt.plot(x,regress_values,\"r-\")\n",
    "    return line_eq\n",
    "\n",
    "# Define a fuction for annotating\n",
    "def annotate(line_eq, a, b):\n",
    "    plt.annotate(line_eq,(a,b),fontsize=15,color=\"red\")\n",
    "# Define a fuction for annotating\n",
    "def annotate(line_eq, a, b):\n",
    "    plt.annotate(line_eq,(a,b),fontsize=15,color=\"red\")\n",
    "    \n",
    "equation = linear_agression(southern_df[\"Cloudiness\"], southern_df[\"Latitude\"])\n",
    "\n",
    "# title\n",
    "plt.title(\"Southern Hemisphere - Cloudiness vs. Latitude Linear Regression\")\n",
    "\n",
    "# labels\n",
    "plt.xlabel(\"Latitude\")\n",
    "plt.ylabel(\"Cloudiness %\")\n",
    "plt.xlim(-10, 110)\n",
    "plt.ylim(-60, 20)\n",
    "\n",
    "# Save the figure\n",
    "plt.savefig(\"../Images/Southern Hemisphere Lat vs Cloudiness.png\") "
   ]
  },
  {
   "cell_type": "markdown",
   "metadata": {},
   "source": [
    "####  Northern Hemisphere - Wind Speed (mph) vs. Latitude Linear Regression"
   ]
  },
  {
   "cell_type": "code",
   "execution_count": 24,
   "metadata": {},
   "outputs": [
    {
     "name": "stdout",
     "output_type": "stream",
     "text": [
      "The r-squared is : 0.08\n",
      "Regression line equation is: y = 0.29x + 36.98\n",
      "Low r value so no real correlation.\n"
     ]
    },
    {
     "data": {
      "image/png": "[encoded data removed]",
      "text/plain": [
       "<Figure size 432x288 with 1 Axes>"
      ]
     },
     "metadata": {
      "needs_background": "light"
     },
     "output_type": "display_data"
    }
   ],
   "source": [
    "# Define function for creating linear agression and scatter plot\n",
    "def linear_agression(x,y):\n",
    "    print(f\"The r-squared is : {round(st.pearsonr(x, y)[0],2)}\")\n",
    "    (slope, intercept, rvalue, pvalue, stderr) = linregress(x, y)\n",
    "    regress_values = x * slope + intercept\n",
    "    line_eq = \"y = \" + str(round(slope,2)) + \"x + \" + str(round(intercept,2))\n",
    "    plt.annotate(line_eq,(6,10),fontsize=15,color=\"red\")\n",
    "    print(f\"Regression line equation is: {line_eq}\")\n",
    "    print(f\"Low r value so no real correlation.\")\n",
    "    plt.scatter(x, y)\n",
    "    plt.plot(x,regress_values,\"r-\")\n",
    "    return line_eq\n",
    "\n",
    "# Define a fuction for annotating\n",
    "def annotate(line_eq, a, b):\n",
    "    plt.annotate(line_eq,(a,b),fontsize=15,color=\"red\")\n",
    "\n",
    "# Define a fuction for annotating\n",
    "def annotate(line_eq, a, b):\n",
    "    plt.annotate(line_eq,(a,b),fontsize=15,color=\"red\")\n",
    "    \n",
    "equation = linear_agression(northern_df[\"Wind Speed\"], northern_df[\"Latitude\"])\n",
    "\n",
    "# title\n",
    "plt.title(\"Northern Hemisphere - Wind Speed vs. Latitude Linear Regression\")\n",
    "\n",
    "# labels\n",
    "plt.xlabel(\"Latitude\")\n",
    "plt.ylabel(\"Wind Speed\")\n",
    "plt.xlim(-5, 40)\n",
    "plt.ylim(-20, 90)\n",
    "\n",
    "# Save the figure\n",
    "plt.savefig(\"../Images/Northern Hemisphere Lat vs Wind Speed.png\") "
   ]
  },
  {
   "cell_type": "markdown",
   "metadata": {},
   "source": [
    "####  Southern Hemisphere - Wind Speed (mph) vs. Latitude Linear Regression"
   ]
  },
  {
   "cell_type": "code",
   "execution_count": 25,
   "metadata": {},
   "outputs": [
    {
     "name": "stdout",
     "output_type": "stream",
     "text": [
      "The r-squared is : -0.11\n",
      "Regression line equation is: y = -0.24x + -18.98\n",
      "Lower r value indicates that there is no correlation between wind speed and latitude.\n"
     ]
    },
    {
     "data": {
      "image/png": "[encoded data removed]",
      "text/plain": [
       "<Figure size 432x288 with 1 Axes>"
      ]
     },
     "metadata": {
      "needs_background": "light"
     },
     "output_type": "display_data"
    }
   ],
   "source": [
    "# Define function for creating linear agression and scatter plot\n",
    "def linear_agression(x,y):\n",
    "    print(f\"The r-squared is : {round(st.pearsonr(x, y)[0],2)}\")\n",
    "    (slope, intercept, rvalue, pvalue, stderr) = linregress(x, y)\n",
    "    regress_values = x * slope + intercept\n",
    "    line_eq = \"y = \" + str(round(slope,2)) + \"x + \" + str(round(intercept,2))\n",
    "    plt.annotate(line_eq,(6,10),fontsize=15,color=\"red\")\n",
    "    print(f\"Regression line equation is: {line_eq}\")\n",
    "    print(f\"Lower r value indicates that there is no correlation between wind speed and latitude.\")\n",
    "    plt.scatter(x, y)\n",
    "    plt.plot(x,regress_values,\"r-\")\n",
    "    return line_eq\n",
    "\n",
    "# Define a fuction for annotating\n",
    "def annotate(line_eq, a, b):\n",
    "    plt.annotate(line_eq,(a,b),fontsize=15,color=\"red\")\n",
    "\n",
    "# Define a fuction for annotating\n",
    "def annotate(line_eq, a, b):\n",
    "    plt.annotate(line_eq,(a,b),fontsize=15,color=\"red\")\n",
    "    \n",
    "equation = linear_agression(southern_df[\"Wind Speed\"], southern_df[\"Latitude\"])\n",
    "\n",
    "# title\n",
    "plt.title(\"Southern Hemisphere - Wind Speed vs. Latitude Linear Regression\")\n",
    "\n",
    "# labels\n",
    "plt.xlabel(\"Latitude\")\n",
    "plt.ylabel(\"Wind Speed\")\n",
    "plt.xlim(-5, 30)\n",
    "plt.ylim(-50, 20)\n",
    "\n",
    "# Save the figure\n",
    "plt.savefig(\"../Images/Southern Hemisphere Lat vs Windspeed.png\") "
   ]
  },
  {
   "cell_type": "markdown",
   "metadata": {},
   "source": [
    "#Conclusions\n",
    "\n",
    "After completing the weather py analysis using the citipy module to pull in 500 random cities, the conclusions that can be drawn are that:\n",
    "•\tTemperature seems to have a clear correlation with latitude. \n",
    "•\tAs expected, the weather becomes significantly warmer as you approach the equator. On average the southern hemisphere tends to be warmer than the northern hemisphere.  \n",
    "•\tThere is no strong relationship between latitude and cloudiness or wind speed. \n",
    "•\tThere is no strong relationship between latitude and humidity. However, there is a slightly larger amount of northern hemisphere cities with higher humidity than cities in the southern hemisphere.\n"
   ]
  }
 ],
 "metadata": {
  "anaconda-cloud": {},
  "kernel_info": {
   "name": "python3"
  },
  "kernelspec": {
   "display_name": "Python 3",
   "language": "python",
   "name": "python3"
  },
  "language_info": {
   "codemirror_mode": {
    "name": "ipython",
    "version": 3
   },
   "file_extension": ".py",
   "mimetype": "text/x-python",
   "name": "python",
   "nbconvert_exporter": "python",
   "pygments_lexer": "ipython3",
   "version": "3.7.6"
  },
  "latex_envs": {
   "LaTeX_envs_menu_present": true,
   "autoclose": false,
   "autocomplete": true,
   "bibliofile": "biblio.bib",
   "cite_by": "apalike",
   "current_citInitial": 1,
   "eqLabelWithNumbers": true,
   "eqNumInitial": 1,
   "hotkeys": {
    "equation": "Ctrl-E",
    "itemize": "Ctrl-I"
   },
   "labels_anchors": false,
   "latex_user_defs": false,
   "report_style_numbering": false,
   "user_envs_cfg": false
  },
  "nteract": {
   "version": "0.12.3"
  }
 },
 "nbformat": 4,
 "nbformat_minor": 4
}
