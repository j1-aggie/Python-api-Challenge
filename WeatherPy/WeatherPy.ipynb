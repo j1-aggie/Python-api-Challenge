{
 "cells": [
  {
   "cell_type": "code",
   "execution_count": 3,
   "metadata": {},
   "outputs": [],
   "source": [
    "# WeatherPy\n",
    "\n",
    "#### Note\n",
    "# Instructions have been included for each segment. You do not have to follow them exactly, but they are included to help you think through the steps.\n",
    "\n",
    "#Dependencies \n",
    "import matplotlib.pyplot as plt\n",
    "import pandas as pd\n",
    "import numpy as np\n",
    "import requests\n",
    "import time\n",
    "from datetime import date\n",
    "from pprint import pprint\n",
    "\n",
    "# import API key\n",
    "from api_keys import weather_api_key\n",
    "\n",
    "# incorporated citipy to determine city based on lat and long\n",
    "from citipy import citipy\n",
    "\n",
    "# output file (csv)\n",
    "outputDataFile = \"Output/cities.csv\"\n",
    "\n",
    "# range of lat and long\n",
    "lat_range = (-90, 90)\n",
    "lng_range = (-180, 180)\n",
    "\n",
    "\n"
   ]
  },
  {
   "cell_type": "code",
   "execution_count": 4,
   "metadata": {},
   "outputs": [
    {
     "data": {
      "text/plain": [
       "615"
      ]
     },
     "execution_count": 4,
     "metadata": {},
     "output_type": "execute_result"
    }
   ],
   "source": [
    "## Generate Cities List\n",
    "\n",
    "lat_lngs = []\n",
    "cities = []\n",
    "\n",
    "# create a set of random lat and lng combinations\n",
    "lats = np.random.uniform(low=-90.000, high=90.000, size=1500)\n",
    "lngs = np.random.uniform(low=-180.000, high=180.000, size=1500)\n",
    "lat_lngs = zip(lats, lngs)\n",
    "\n",
    "# Identify nearest city for each lat, lng combination\n",
    "for lat_lng in lat_lngs:\n",
    "    city = citipy.nearest_city(lat_lng[0], lat_lng[1]).city_name\n",
    "    \n",
    "    # if the city is unique add to cities list\n",
    "    if city not in cities:\n",
    "        cities.append(city)\n",
    "        \n",
    "len(cities)"
   ]
  },
  {
   "cell_type": "code",
   "execution_count": 5,
   "metadata": {},
   "outputs": [
    {
     "data": {
      "text/plain": [
       "['fengrun',\n",
       " 'severo-kurilsk',\n",
       " 'ushuaia',\n",
       " 'emerald',\n",
       " 'marsh harbour',\n",
       " 'teacapan',\n",
       " 'puerto ayora',\n",
       " 'aviles',\n",
       " 'gornopravdinsk',\n",
       " 'yerbogachen',\n",
       " 'albany',\n",
       " 'leningradskiy',\n",
       " 'saleaula',\n",
       " 'deputatskiy',\n",
       " 'provideniya']"
      ]
     },
     "execution_count": 5,
     "metadata": {},
     "output_type": "execute_result"
    }
   ],
   "source": [
    "cities[0:15]"
   ]
  },
  {
   "cell_type": "code",
   "execution_count": null,
   "metadata": {},
   "outputs": [],
   "source": [
    "### Perform API Calls\n",
    "* Perform a weather check on each city using a series of successive API calls.\n",
    "* Include a print log of each city as it'sbeing processed (with the city number and city name).\n"
   ]
  },
  {
   "cell_type": "code",
   "execution_count": 6,
   "metadata": {
    "scrolled": true
   },
   "outputs": [
    {
     "name": "stdout",
     "output_type": "stream",
     "text": [
      "http://api.openweathermap.org/data/2.5/weather?units=Imperial&APPID=486a3f0a342100df108bae3ce4d66f0e\n"
     ]
    }
   ],
   "source": [
    "# OpenWeatherMap API Key\n",
    "api_key = weather_api_key\n",
    "\n",
    "# Starting URL for Weather Map API Call\n",
    "url = 'http://api.openweathermap.org/data/2.5/weather?units=Imperial&APPID=' + api_key\n",
    "print(url)\n"
   ]
  },
  {
   "cell_type": "code",
   "execution_count": 7,
   "metadata": {},
   "outputs": [
    {
     "name": "stdout",
     "output_type": "stream",
     "text": [
      "------------------------------\n",
      "Start of Records\n",
      "------------------------------\n",
      "City number 1 of 615 complete. | Added fengrun\n",
      "City number 2 of 615 complete. | Added severo-kurilsk\n",
      "City number 3 of 615 complete. | Added ushuaia\n",
      "City number 4 of 615 complete. | Added emerald\n",
      "City number 5 of 615 complete. | Added marsh harbour\n",
      "City number 6 of 615 complete. | Added teacapan\n",
      "City number 7 of 615 complete. | Added puerto ayora\n",
      "City number 8 of 615 complete. | Added aviles\n",
      "City number 9 of 615 complete. | Added gornopravdinsk\n",
      "City number 10 of 615 complete. | Added yerbogachen\n",
      "City number 11 of 615 complete. | Added albany\n",
      "City number 12 of 615 complete. | Added leningradskiy\n",
      "Missing data in city number 13 of 615. | Skipping saleaula\n",
      "City number 14 of 615 complete. | Added deputatskiy\n",
      "City number 15 of 615 complete. | Added provideniya\n",
      "City number 16 of 615 complete. | Added ixtapa\n",
      "City number 17 of 615 complete. | Added hithadhoo\n",
      "City number 18 of 615 complete. | Added mataura\n",
      "City number 19 of 615 complete. | Added kapaa\n",
      "City number 20 of 615 complete. | Added geraldton\n",
      "City number 21 of 615 complete. | Added upernavik\n",
      "City number 22 of 615 complete. | Added medvedevo\n",
      "City number 23 of 615 complete. | Added gisborne\n",
      "City number 24 of 615 complete. | Added brae\n",
      "City number 25 of 615 complete. | Added malakal\n",
      "City number 26 of 615 complete. | Added saskylakh\n",
      "City number 27 of 615 complete. | Added ribeira grande\n",
      "City number 28 of 615 complete. | Added port alfred\n",
      "City number 29 of 615 complete. | Added tshikapa\n",
      "City number 30 of 615 complete. | Added noyabrsk\n",
      "City number 31 of 615 complete. | Added kodiak\n",
      "City number 32 of 615 complete. | Added avarua\n",
      "City number 33 of 615 complete. | Added starosubkhangulovo\n",
      "City number 34 of 615 complete. | Added hasaki\n",
      "City number 35 of 615 complete. | Added atuona\n",
      "City number 36 of 615 complete. | Added bulawayo\n",
      "City number 37 of 615 complete. | Added kinkala\n",
      "City number 38 of 615 complete. | Added knysna\n",
      "City number 39 of 615 complete. | Added vaini\n",
      "City number 40 of 615 complete. | Added busselton\n",
      "City number 41 of 615 complete. | Added butaritari\n",
      "City number 42 of 615 complete. | Added robertsport\n",
      "City number 43 of 615 complete. | Added sterlibashevo\n",
      "City number 44 of 615 complete. | Added usinsk\n",
      "City number 45 of 615 complete. | Added new norfolk\n",
      "City number 46 of 615 complete. | Added chuy\n",
      "City number 47 of 615 complete. | Added san cristobal\n",
      "City number 48 of 615 complete. | Added katangli\n",
      "City number 49 of 615 complete. | Added solnechnyy\n",
      "City number 50 of 615 complete. | Added hobart\n",
      "City number 51 of 615 complete. | Added kavieng\n",
      "City number 52 of 615 complete. | Added mar del plata\n",
      "City number 53 of 615 complete. | Added dikson\n",
      "City number 54 of 615 complete. | Added castro\n",
      "City number 55 of 615 complete. | Added ambon\n",
      "City number 56 of 615 complete. | Added mecca\n",
      "City number 57 of 615 complete. | Added presidente medici\n",
      "City number 58 of 615 complete. | Added bredasdorp\n",
      "City number 59 of 615 complete. | Added coquimbo\n",
      "Missing data in city number 60 of 615. | Skipping unye\n",
      "City number 61 of 615 complete. | Added zhuanghe\n",
      "City number 62 of 615 complete. | Added port elizabeth\n",
      "City number 63 of 615 complete. | Added rikitea\n",
      "City number 64 of 615 complete. | Added tura\n",
      "City number 65 of 615 complete. | Added bethel\n",
      "City number 66 of 615 complete. | Added lebu\n",
      "City number 67 of 615 complete. | Added japura\n",
      "City number 68 of 615 complete. | Added airai\n",
      "City number 69 of 615 complete. | Added hilo\n",
      "City number 70 of 615 complete. | Added yellowknife\n",
      "City number 71 of 615 complete. | Added aksarka\n",
      "City number 72 of 615 complete. | Added zhigansk\n",
      "City number 73 of 615 complete. | Added punta arenas\n",
      "City number 74 of 615 complete. | Added ourem\n",
      "Missing data in city number 75 of 615. | Skipping vaitupu\n",
      "City number 76 of 615 complete. | Added abilene\n",
      "City number 77 of 615 complete. | Added mindelo\n",
      "City number 78 of 615 complete. | Added lata\n",
      "City number 79 of 615 complete. | Added rio gallegos\n",
      "City number 80 of 615 complete. | Added lagoa\n",
      "City number 81 of 615 complete. | Added vila velha\n",
      "City number 82 of 615 complete. | Added rincon\n",
      "City number 83 of 615 complete. | Added tiksi\n",
      "City number 84 of 615 complete. | Added hermanus\n",
      "City number 85 of 615 complete. | Added santander\n",
      "City number 86 of 615 complete. | Added takoradi\n",
      "City number 87 of 615 complete. | Added bengkulu\n",
      "City number 88 of 615 complete. | Added narsaq\n",
      "Missing data in city number 89 of 615. | Skipping attawapiskat\n",
      "City number 90 of 615 complete. | Added bubaque\n",
      "City number 91 of 615 complete. | Added carnarvon\n",
      "City number 92 of 615 complete. | Added pangnirtung\n",
      "City number 93 of 615 complete. | Added harwich\n",
      "City number 94 of 615 complete. | Added husavik\n",
      "City number 95 of 615 complete. | Added pedernales\n",
      "City number 96 of 615 complete. | Added golkoy\n",
      "Missing data in city number 97 of 615. | Skipping belushya guba\n",
      "City number 98 of 615 complete. | Added batemans bay\n",
      "City number 99 of 615 complete. | Added ilulissat\n",
      "City number 100 of 615 complete. | Added la ronge\n",
      "City number 101 of 615 complete. | Added sao jose da coroa grande\n",
      "City number 102 of 615 complete. | Added paragominas\n",
      "City number 103 of 615 complete. | Added isangel\n",
      "City number 104 of 615 complete. | Added moundou\n",
      "City number 105 of 615 complete. | Added severo-yeniseyskiy\n",
      "City number 106 of 615 complete. | Added kindu\n",
      "City number 107 of 615 complete. | Added manitouwadge\n",
      "City number 108 of 615 complete. | Added saint-denis\n",
      "City number 109 of 615 complete. | Added novyy urgal\n",
      "City number 110 of 615 complete. | Added petropavlovsk-kamchatskiy\n",
      "City number 111 of 615 complete. | Added skibbereen\n",
      "City number 112 of 615 complete. | Added cidreira\n",
      "City number 113 of 615 complete. | Added harrogate\n",
      "City number 114 of 615 complete. | Added dongsheng\n",
      "City number 115 of 615 complete. | Added vershino-darasunskiy\n",
      "City number 116 of 615 complete. | Added sakakah\n",
      "Missing data in city number 117 of 615. | Skipping sentyabrskiy\n",
      "Missing data in city number 118 of 615. | Skipping taolanaro\n",
      "City number 119 of 615 complete. | Added gainesville\n",
      "City number 120 of 615 complete. | Added novo aripuana\n",
      "City number 121 of 615 complete. | Added warri\n",
      "City number 122 of 615 complete. | Added kaitangata\n",
      "City number 123 of 615 complete. | Added cape town\n",
      "Missing data in city number 124 of 615. | Skipping mullaitivu\n",
      "Missing data in city number 125 of 615. | Skipping nizhneyansk\n",
      "City number 126 of 615 complete. | Added cairns\n",
      "City number 127 of 615 complete. | Added tiznit\n",
      "City number 128 of 615 complete. | Added khatanga\n",
      "City number 129 of 615 complete. | Added bluff\n",
      "City number 130 of 615 complete. | Added tuktoyaktuk\n",
      "City number 131 of 615 complete. | Added toul\n",
      "City number 132 of 615 complete. | Added vanimo\n",
      "Missing data in city number 133 of 615. | Skipping barentsburg\n",
      "City number 134 of 615 complete. | Added talara\n",
      "City number 135 of 615 complete. | Added luderitz\n",
      "City number 136 of 615 complete. | Added laguna\n",
      "City number 137 of 615 complete. | Added east london\n",
      "City number 138 of 615 complete. | Added cabo san lucas\n",
      "City number 139 of 615 complete. | Added phibun mangsahan\n",
      "City number 140 of 615 complete. | Added show low\n",
      "City number 141 of 615 complete. | Added troy\n",
      "City number 142 of 615 complete. | Added chokurdakh\n",
      "City number 143 of 615 complete. | Added hohoe\n",
      "City number 144 of 615 complete. | Added dingle\n",
      "City number 145 of 615 complete. | Added byron bay\n",
      "City number 146 of 615 complete. | Added haines junction\n",
      "City number 147 of 615 complete. | Added qaanaaq\n",
      "City number 148 of 615 complete. | Added amapa\n",
      "City number 149 of 615 complete. | Added manali\n",
      "City number 150 of 615 complete. | Added faya\n",
      "City number 151 of 615 complete. | Added teknaf\n",
      "Missing data in city number 152 of 615. | Skipping bolshoye soldatskoye\n",
      "City number 153 of 615 complete. | Added beihai\n",
      "City number 154 of 615 complete. | Added acapulco\n",
      "City number 155 of 615 complete. | Added dunedin\n",
      "City number 156 of 615 complete. | Added kalabo\n",
      "City number 157 of 615 complete. | Added hobyo\n",
      "City number 158 of 615 complete. | Added port hardy\n",
      "City number 159 of 615 complete. | Added mareeba\n",
      "Missing data in city number 160 of 615. | Skipping karaul\n",
      "City number 161 of 615 complete. | Added shetpe\n",
      "City number 162 of 615 complete. | Added prince george\n",
      "City number 163 of 615 complete. | Added mehamn\n",
      "City number 164 of 615 complete. | Added demidov\n",
      "City number 165 of 615 complete. | Added kharp\n",
      "Missing data in city number 166 of 615. | Skipping tsihombe\n",
      "City number 167 of 615 complete. | Added tabas\n",
      "City number 168 of 615 complete. | Added comodoro rivadavia\n",
      "City number 169 of 615 complete. | Added aripuana\n",
      "City number 170 of 615 complete. | Added tucurui\n",
      "City number 171 of 615 complete. | Added tautira\n",
      "City number 172 of 615 complete. | Added kruisfontein\n",
      "City number 173 of 615 complete. | Added nanao\n",
      "City number 174 of 615 complete. | Added jamestown\n",
      "City number 175 of 615 complete. | Added port lincoln\n",
      "City number 176 of 615 complete. | Added chapais\n",
      "City number 177 of 615 complete. | Added ponta do sol\n",
      "City number 178 of 615 complete. | Added armidale\n",
      "City number 179 of 615 complete. | Added constitucion\n",
      "City number 180 of 615 complete. | Added labuhan\n",
      "City number 181 of 615 complete. | Added barrow\n",
      "City number 182 of 615 complete. | Added diamantino\n",
      "City number 183 of 615 complete. | Added zhangye\n",
      "City number 184 of 615 complete. | Added srimushnam\n",
      "City number 185 of 615 complete. | Added alanya\n",
      "Missing data in city number 186 of 615. | Skipping amderma\n",
      "City number 187 of 615 complete. | Added souillac\n",
      "City number 188 of 615 complete. | Added talnakh\n",
      "City number 189 of 615 complete. | Added arraial do cabo\n",
      "City number 190 of 615 complete. | Added mingguang\n",
      "City number 191 of 615 complete. | Added pendra\n",
      "City number 192 of 615 complete. | Added dobrinka\n",
      "City number 193 of 615 complete. | Added hofn\n",
      "City number 194 of 615 complete. | Added tuatapere\n",
      "City number 195 of 615 complete. | Added athabasca\n",
      "City number 196 of 615 complete. | Added puerto escondido\n",
      "City number 197 of 615 complete. | Added chake chake\n",
      "City number 198 of 615 complete. | Added calama\n",
      "City number 199 of 615 complete. | Added mandurah\n",
      "City number 200 of 615 complete. | Added bambous virieux\n",
      "City number 201 of 615 complete. | Added khorixas\n",
      "City number 202 of 615 complete. | Added savonlinna\n",
      "City number 203 of 615 complete. | Added northam\n",
      "City number 204 of 615 complete. | Added clyde river\n",
      "City number 205 of 615 complete. | Added caltzontzin\n",
      "City number 206 of 615 complete. | Added shingu\n",
      "City number 207 of 615 complete. | Added gat\n",
      "City number 208 of 615 complete. | Added prince rupert\n",
      "City number 209 of 615 complete. | Added longyearbyen\n",
      "City number 210 of 615 complete. | Added bonthe\n",
      "City number 211 of 615 complete. | Added sitka\n",
      "Missing data in city number 212 of 615. | Skipping doctor pedro p. pena\n",
      "City number 213 of 615 complete. | Added ajdabiya\n",
      "City number 214 of 615 complete. | Added karasburg\n",
      "City number 215 of 615 complete. | Added mineros\n",
      "City number 216 of 615 complete. | Added humaita\n",
      "City number 217 of 615 complete. | Added nadvoitsy\n",
      "City number 218 of 615 complete. | Added crestview\n",
      "City number 219 of 615 complete. | Added pinawa\n",
      "City number 220 of 615 complete. | Added rafai\n",
      "City number 221 of 615 complete. | Added sao joao da barra\n",
      "City number 222 of 615 complete. | Added aklavik\n",
      "City number 223 of 615 complete. | Added liuzhou\n",
      "City number 224 of 615 complete. | Added pitanga\n",
      "City number 225 of 615 complete. | Added zarubino\n",
      "City number 226 of 615 complete. | Added tapejara\n",
      "City number 227 of 615 complete. | Added saint-philippe\n",
      "City number 228 of 615 complete. | Added olinda\n",
      "City number 229 of 615 complete. | Added valdivia\n",
      "City number 230 of 615 complete. | Added tobane\n",
      "City number 231 of 615 complete. | Added guerrero negro\n",
      "City number 232 of 615 complete. | Added alice springs\n",
      "City number 233 of 615 complete. | Added booue\n",
      "Missing data in city number 234 of 615. | Skipping rungata\n",
      "City number 235 of 615 complete. | Added izumo\n",
      "City number 236 of 615 complete. | Added thompson\n",
      "City number 237 of 615 complete. | Added bolshoy lug\n",
      "City number 238 of 615 complete. | Added sal rei\n",
      "City number 239 of 615 complete. | Added champerico\n",
      "City number 240 of 615 complete. | Added campos\n",
      "City number 241 of 615 complete. | Added fortuna\n",
      "City number 242 of 615 complete. | Added dudinka\n",
      "City number 243 of 615 complete. | Added pisco\n",
      "City number 244 of 615 complete. | Added roebourne\n",
      "City number 245 of 615 complete. | Added gouyave\n",
      "City number 246 of 615 complete. | Added bumbuna\n",
      "City number 247 of 615 complete. | Added juazeiro\n",
      "City number 248 of 615 complete. | Added beloha\n",
      "City number 249 of 615 complete. | Added port blair\n",
      "Missing data in city number 250 of 615. | Skipping palabuhanratu\n",
      "City number 251 of 615 complete. | Added codrington\n",
      "City number 252 of 615 complete. | Added priiskovyy\n",
      "City number 253 of 615 complete. | Added najran\n",
      "City number 254 of 615 complete. | Added alenquer\n",
      "City number 255 of 615 complete. | Added sura\n",
      "City number 256 of 615 complete. | Added oxbow\n",
      "City number 257 of 615 complete. | Added liwale\n",
      "City number 258 of 615 complete. | Added rapid valley\n",
      "Missing data in city number 259 of 615. | Skipping grand river south east\n",
      "City number 260 of 615 complete. | Added marzuq\n",
      "City number 261 of 615 complete. | Added sorland\n",
      "City number 262 of 615 complete. | Added bilibino\n",
      "Missing data in city number 263 of 615. | Skipping umzimvubu\n",
      "City number 264 of 615 complete. | Added penhold\n",
      "Missing data in city number 265 of 615. | Skipping illoqqortoormiut\n",
      "City number 266 of 615 complete. | Added nanortalik\n",
      "City number 267 of 615 complete. | Added seoul\n",
      "City number 268 of 615 complete. | Added malgrat de mar\n",
      "Missing data in city number 269 of 615. | Skipping chagda\n",
      "City number 270 of 615 complete. | Added hearst\n",
      "City number 271 of 615 complete. | Added wilmington\n",
      "City number 272 of 615 complete. | Added ludwigslust\n",
      "City number 273 of 615 complete. | Added moron\n",
      "Missing data in city number 274 of 615. | Skipping haibowan\n",
      "City number 275 of 615 complete. | Added udachnyy\n",
      "City number 276 of 615 complete. | Added chelno-vershiny\n",
      "City number 277 of 615 complete. | Added heishan\n",
      "City number 278 of 615 complete. | Added canico\n",
      "City number 279 of 615 complete. | Added yakymivka\n",
      "City number 280 of 615 complete. | Added yenagoa\n",
      "City number 281 of 615 complete. | Added kahului\n",
      "City number 282 of 615 complete. | Added unity\n",
      "City number 283 of 615 complete. | Added san patricio\n",
      "City number 284 of 615 complete. | Added pangkalanbuun\n",
      "City number 285 of 615 complete. | Added lawrence\n",
      "City number 286 of 615 complete. | Added bathsheba\n",
      "City number 287 of 615 complete. | Added quatre cocos\n",
      "City number 288 of 615 complete. | Added vostok\n",
      "City number 289 of 615 complete. | Added anadyr\n",
      "City number 290 of 615 complete. | Added rocha\n",
      "City number 291 of 615 complete. | Added shwebo\n",
      "City number 292 of 615 complete. | Added banda aceh\n",
      "City number 293 of 615 complete. | Added san juan de los lagos\n",
      "City number 294 of 615 complete. | Added kodinsk\n",
      "City number 295 of 615 complete. | Added amalapuram\n",
      "City number 296 of 615 complete. | Added svecha\n",
      "City number 297 of 615 complete. | Added kulhudhuffushi\n",
      "City number 298 of 615 complete. | Added wurzburg\n",
      "City number 299 of 615 complete. | Added wenling\n",
      "City number 300 of 615 complete. | Added bismarck\n",
      "City number 301 of 615 complete. | Added owando\n",
      "City number 302 of 615 complete. | Added phalodi\n",
      "City number 303 of 615 complete. | Added ferrol\n",
      "City number 304 of 615 complete. | Added hirara\n",
      "Missing data in city number 305 of 615. | Skipping barbar\n",
      "City number 306 of 615 complete. | Added kalianget\n",
      "City number 307 of 615 complete. | Added kontagora\n",
      "City number 308 of 615 complete. | Added baranain\n",
      "City number 309 of 615 complete. | Added kununurra\n",
      "City number 310 of 615 complete. | Added vaasa\n",
      "City number 311 of 615 complete. | Added road town\n",
      "City number 312 of 615 complete. | Added rabo de peixe\n",
      "City number 313 of 615 complete. | Added little current\n",
      "City number 314 of 615 complete. | Added san andres\n",
      "City number 315 of 615 complete. | Added poum\n",
      "City number 316 of 615 complete. | Added anisoc\n",
      "City number 317 of 615 complete. | Added lorengau\n",
      "City number 318 of 615 complete. | Added alihe\n",
      "City number 319 of 615 complete. | Added nuuk\n",
      "City number 320 of 615 complete. | Added aleksandrov gay\n",
      "City number 321 of 615 complete. | Added cherskiy\n",
      "City number 322 of 615 complete. | Added victoria\n",
      "City number 323 of 615 complete. | Added mitsamiouli\n",
      "City number 324 of 615 complete. | Added paysandu\n",
      "City number 325 of 615 complete. | Added vila franca do campo\n",
      "City number 326 of 615 complete. | Added los llanos de aridane\n",
      "City number 327 of 615 complete. | Added sabha\n",
      "City number 328 of 615 complete. | Added wainwright\n",
      "City number 329 of 615 complete. | Added muros\n",
      "Missing data in city number 330 of 615. | Skipping khonuu\n",
      "City number 331 of 615 complete. | Added lodwar\n",
      "City number 332 of 615 complete. | Added atasu\n",
      "City number 333 of 615 complete. | Added saldanha\n",
      "Missing data in city number 334 of 615. | Skipping mys shmidta\n",
      "City number 335 of 615 complete. | Added kavaratti\n",
      "City number 336 of 615 complete. | Added oxford\n",
      "City number 337 of 615 complete. | Added georgetown\n",
      "City number 338 of 615 complete. | Added kirakira\n",
      "City number 339 of 615 complete. | Added zakan-yurt\n",
      "City number 340 of 615 complete. | Added uvalde\n",
      "City number 341 of 615 complete. | Added boralday\n",
      "City number 342 of 615 complete. | Added banjar\n",
      "City number 343 of 615 complete. | Added bayanday\n",
      "City number 344 of 615 complete. | Added marsaxlokk\n",
      "City number 345 of 615 complete. | Added mount gambier\n",
      "City number 346 of 615 complete. | Added guder\n",
      "City number 347 of 615 complete. | Added trinidad\n",
      "City number 348 of 615 complete. | Added razole\n",
      "City number 349 of 615 complete. | Added korla\n",
      "City number 350 of 615 complete. | Added zyryanka\n",
      "City number 351 of 615 complete. | Added punta alta\n",
      "City number 352 of 615 complete. | Added benguela\n",
      "City number 353 of 615 complete. | Added solton\n",
      "City number 354 of 615 complete. | Added dergachi\n",
      "Missing data in city number 355 of 615. | Skipping ondorhaan\n",
      "City number 356 of 615 complete. | Added broken hill\n",
      "City number 357 of 615 complete. | Added esperance\n",
      "City number 358 of 615 complete. | Added tasiilaq\n",
      "City number 359 of 615 complete. | Added dusti\n",
      "City number 360 of 615 complete. | Added berlevag\n",
      "City number 361 of 615 complete. | Added senigallia\n",
      "City number 362 of 615 complete. | Added camacha\n",
      "City number 363 of 615 complete. | Added ascension\n",
      "City number 364 of 615 complete. | Added pevek\n",
      "City number 365 of 615 complete. | Added boone\n",
      "City number 366 of 615 complete. | Added paamiut\n",
      "City number 367 of 615 complete. | Added miri\n",
      "Missing data in city number 368 of 615. | Skipping scottsburgh\n",
      "City number 369 of 615 complete. | Added shuyskoye\n",
      "City number 370 of 615 complete. | Added puerto castilla\n",
      "City number 371 of 615 complete. | Added sao filipe\n",
      "City number 372 of 615 complete. | Added rio grande\n",
      "Missing data in city number 373 of 615. | Skipping marcona\n",
      "City number 374 of 615 complete. | Added chincha alta\n",
      "City number 375 of 615 complete. | Added baracoa\n",
      "City number 376 of 615 complete. | Added nyarlorinc\n",
      "City number 377 of 615 complete. | Added evensk\n",
      "Missing data in city number 378 of 615. | Skipping samusu\n",
      "City number 379 of 615 complete. | Added krasnogvardeyskoye\n",
      "City number 380 of 615 complete. | Added nova friburgo\n",
      "City number 381 of 615 complete. | Added fukue\n",
      "City number 382 of 615 complete. | Added port-gentil\n",
      "City number 383 of 615 complete. | Added flin flon\n",
      "City number 384 of 615 complete. | Added teguldet\n",
      "City number 385 of 615 complete. | Added alugan\n",
      "City number 386 of 615 complete. | Added filimonovo\n",
      "City number 387 of 615 complete. | Added shenzhen\n",
      "City number 388 of 615 complete. | Added axim\n",
      "City number 389 of 615 complete. | Added marang\n",
      "City number 390 of 615 complete. | Added hastings\n",
      "City number 391 of 615 complete. | Added fallon\n",
      "City number 392 of 615 complete. | Added quelimane\n",
      "City number 393 of 615 complete. | Added caravelas\n",
      "City number 394 of 615 complete. | Added sri madhopur\n",
      "City number 395 of 615 complete. | Added lompoc\n",
      "City number 396 of 615 complete. | Added yulara\n",
      "City number 397 of 615 complete. | Added egvekinot\n",
      "City number 398 of 615 complete. | Added broome\n",
      "City number 399 of 615 complete. | Added xiongyue\n",
      "City number 400 of 615 complete. | Added arlit\n",
      "City number 401 of 615 complete. | Added dong hoi\n",
      "City number 402 of 615 complete. | Added umm lajj\n",
      "City number 403 of 615 complete. | Added sao sebastiao\n",
      "City number 404 of 615 complete. | Added homer\n",
      "City number 405 of 615 complete. | Added shima\n",
      "City number 406 of 615 complete. | Added mount isa\n",
      "City number 407 of 615 complete. | Added namibe\n",
      "City number 408 of 615 complete. | Added bintulu\n",
      "City number 409 of 615 complete. | Added anloga\n",
      "City number 410 of 615 complete. | Added noumea\n",
      "City number 411 of 615 complete. | Added ayan\n",
      "City number 412 of 615 complete. | Added mahibadhoo\n",
      "City number 413 of 615 complete. | Added dubbo\n",
      "City number 414 of 615 complete. | Added carutapera\n",
      "City number 415 of 615 complete. | Added kanker\n",
      "City number 416 of 615 complete. | Added thinadhoo\n",
      "City number 417 of 615 complete. | Added iqaluit\n",
      "Missing data in city number 418 of 615. | Skipping jinchengjiang\n",
      "City number 419 of 615 complete. | Added klyuchi\n",
      "City number 420 of 615 complete. | Added avera\n",
      "City number 421 of 615 complete. | Added san diego de los banos\n",
      "Missing data in city number 422 of 615. | Skipping phrai bung\n",
      "City number 423 of 615 complete. | Added elizabeth city\n",
      "City number 424 of 615 complete. | Added houma\n",
      "City number 425 of 615 complete. | Added santa rosalia\n",
      "City number 426 of 615 complete. | Added nantucket\n",
      "City number 427 of 615 complete. | Added suntar\n",
      "City number 428 of 615 complete. | Added lakes entrance\n",
      "Missing data in city number 429 of 615. | Skipping galiwinku\n",
      "City number 430 of 615 complete. | Added tazmalt\n",
      "City number 431 of 615 complete. | Added maun\n",
      "City number 432 of 615 complete. | Added nizhniy odes\n",
      "City number 433 of 615 complete. | Added richards bay\n",
      "City number 434 of 615 complete. | Added namatanai\n",
      "City number 435 of 615 complete. | Added qaqortoq\n",
      "City number 436 of 615 complete. | Added kaniama\n",
      "City number 437 of 615 complete. | Added faanui\n",
      "City number 438 of 615 complete. | Added lavrentiya\n",
      "City number 439 of 615 complete. | Added honiara\n",
      "City number 440 of 615 complete. | Added fernley\n",
      "City number 441 of 615 complete. | Added karratha\n",
      "City number 442 of 615 complete. | Added iracoubo\n",
      "City number 443 of 615 complete. | Added lira\n",
      "City number 444 of 615 complete. | Added taber\n",
      "City number 445 of 615 complete. | Added vardo\n",
      "City number 446 of 615 complete. | Added mudanya\n",
      "City number 447 of 615 complete. | Added hami\n",
      "City number 448 of 615 complete. | Added balkhash\n",
      "City number 449 of 615 complete. | Added buala\n",
      "City number 450 of 615 complete. | Added sisimiut\n",
      "City number 451 of 615 complete. | Added nome\n",
      "City number 452 of 615 complete. | Added yar-sale\n",
      "City number 453 of 615 complete. | Added ankazobe\n",
      "City number 454 of 615 complete. | Added necochea\n",
      "City number 455 of 615 complete. | Added salina cruz\n",
      "City number 456 of 615 complete. | Added draguseni\n",
      "Missing data in city number 457 of 615. | Skipping zolotinka\n",
      "City number 458 of 615 complete. | Added la tuque\n",
      "City number 459 of 615 complete. | Added esmeralda\n",
      "City number 460 of 615 complete. | Added leh\n",
      "City number 461 of 615 complete. | Added ostrovnoy\n",
      "City number 462 of 615 complete. | Added havre-saint-pierre\n",
      "City number 463 of 615 complete. | Added kilemary\n",
      "City number 464 of 615 complete. | Added tara\n",
      "City number 465 of 615 complete. | Added nikolskoye\n",
      "City number 466 of 615 complete. | Added salalah\n",
      "City number 467 of 615 complete. | Added palmer\n",
      "City number 468 of 615 complete. | Added daru\n",
      "City number 469 of 615 complete. | Added bhadrachalam\n",
      "Missing data in city number 470 of 615. | Skipping lemesos\n",
      "Missing data in city number 471 of 615. | Skipping manzil tamim\n",
      "City number 472 of 615 complete. | Added mitu\n",
      "City number 473 of 615 complete. | Added pushkino\n",
      "City number 474 of 615 complete. | Added denpasar\n",
      "City number 475 of 615 complete. | Added puerto leguizamo\n",
      "City number 476 of 615 complete. | Added port macquarie\n",
      "City number 477 of 615 complete. | Added temerloh\n",
      "City number 478 of 615 complete. | Added grand forks\n",
      "City number 479 of 615 complete. | Added sotouboua\n",
      "City number 480 of 615 complete. | Added chyhyryn\n",
      "Missing data in city number 481 of 615. | Skipping aflu\n",
      "City number 482 of 615 complete. | Added karasuk\n",
      "City number 483 of 615 complete. | Added stornoway\n",
      "City number 484 of 615 complete. | Added katsuura\n",
      "City number 485 of 615 complete. | Added yeppoon\n",
      "City number 486 of 615 complete. | Added zemio\n",
      "City number 487 of 615 complete. | Added yarada\n",
      "City number 488 of 615 complete. | Added bossangoa\n",
      "City number 489 of 615 complete. | Added cheremukhovo\n",
      "City number 490 of 615 complete. | Added fairbanks\n",
      "City number 491 of 615 complete. | Added kismayo\n",
      "City number 492 of 615 complete. | Added torbay\n",
      "City number 493 of 615 complete. | Added fulton\n",
      "City number 494 of 615 complete. | Added abha\n",
      "City number 495 of 615 complete. | Added itarantim\n",
      "City number 496 of 615 complete. | Added mahon\n",
      "City number 497 of 615 complete. | Added preobrazheniye\n",
      "City number 498 of 615 complete. | Added makakilo city\n",
      "City number 499 of 615 complete. | Added beremend\n",
      "City number 500 of 615 complete. | Added palestine\n",
      "City number 501 of 615 complete. | Added vilhena\n",
      "City number 502 of 615 complete. | Added east wenatchee bench\n",
      "City number 503 of 615 complete. | Added saint-pierre\n",
      "City number 504 of 615 complete. | Added asfi\n",
      "City number 505 of 615 complete. | Added bay roberts\n",
      "City number 506 of 615 complete. | Added alur\n",
      "City number 507 of 615 complete. | Added toba\n",
      "City number 508 of 615 complete. | Added nadym\n",
      "City number 509 of 615 complete. | Added dakar\n",
      "City number 510 of 615 complete. | Added kristinehamn\n",
      "City number 511 of 615 complete. | Added norman wells\n",
      "City number 512 of 615 complete. | Added concepcion del oro\n",
      "City number 513 of 615 complete. | Added pran buri\n",
      "Missing data in city number 514 of 615. | Skipping mrirt\n",
      "City number 515 of 615 complete. | Added santa catarina de tepehuanes\n",
      "Missing data in city number 516 of 615. | Skipping louisbourg\n",
      "City number 517 of 615 complete. | Added komsomolskiy\n",
      "City number 518 of 615 complete. | Added bratsk\n",
      "City number 519 of 615 complete. | Added itacarambi\n",
      "City number 520 of 615 complete. | Added charlottetown\n",
      "City number 521 of 615 complete. | Added beidao\n",
      "City number 522 of 615 complete. | Added teguise\n",
      "City number 523 of 615 complete. | Added muravlenko\n",
      "City number 524 of 615 complete. | Added charagua\n",
      "City number 525 of 615 complete. | Added kudahuvadhoo\n",
      "City number 526 of 615 complete. | Added itoman\n",
      "City number 527 of 615 complete. | Added kastrakion\n",
      "City number 528 of 615 complete. | Added linxia\n",
      "City number 529 of 615 complete. | Added ahipara\n",
      "City number 530 of 615 complete. | Added maniitsoq\n",
      "City number 531 of 615 complete. | Added rovaniemi\n",
      "City number 532 of 615 complete. | Added kokopo\n",
      "City number 533 of 615 complete. | Added katherine\n",
      "City number 534 of 615 complete. | Added san jose\n",
      "City number 535 of 615 complete. | Added along\n",
      "City number 536 of 615 complete. | Added semey\n",
      "Missing data in city number 537 of 615. | Skipping utiroa\n",
      "City number 538 of 615 complete. | Added jambi\n",
      "City number 539 of 615 complete. | Added poopo\n",
      "City number 540 of 615 complete. | Added saint george\n",
      "City number 541 of 615 complete. | Added madras\n",
      "City number 542 of 615 complete. | Added aksu\n",
      "City number 543 of 615 complete. | Added bandarbeyla\n",
      "City number 544 of 615 complete. | Added pangai\n",
      "City number 545 of 615 complete. | Added ciudad bolivar\n",
      "City number 546 of 615 complete. | Added stege\n",
      "City number 547 of 615 complete. | Added chara\n",
      "City number 548 of 615 complete. | Added hovd\n",
      "City number 549 of 615 complete. | Added tahe\n",
      "City number 550 of 615 complete. | Added college\n",
      "City number 551 of 615 complete. | Added hambantota\n",
      "City number 552 of 615 complete. | Added opuwo\n",
      "City number 553 of 615 complete. | Added ugoofaaru\n",
      "City number 554 of 615 complete. | Added kholtoson\n",
      "City number 555 of 615 complete. | Added finnsnes\n",
      "City number 556 of 615 complete. | Added grand gaube\n",
      "City number 557 of 615 complete. | Added eucaliptus\n",
      "City number 558 of 615 complete. | Added isla vista\n",
      "Missing data in city number 559 of 615. | Skipping kamenskoye\n",
      "City number 560 of 615 complete. | Added neyshabur\n",
      "City number 561 of 615 complete. | Added pacific grove\n",
      "City number 562 of 615 complete. | Added fort smith\n",
      "City number 563 of 615 complete. | Added altus\n",
      "City number 564 of 615 complete. | Added tadine\n",
      "City number 565 of 615 complete. | Added majene\n",
      "City number 566 of 615 complete. | Added enshi\n",
      "City number 567 of 615 complete. | Added columbus\n",
      "City number 568 of 615 complete. | Added gazli\n",
      "City number 569 of 615 complete. | Added paso de los toros\n",
      "City number 570 of 615 complete. | Added buenaventura\n",
      "City number 571 of 615 complete. | Added santa maria\n",
      "City number 572 of 615 complete. | Added tres arroyos\n",
      "City number 573 of 615 complete. | Added ketchikan\n",
      "City number 574 of 615 complete. | Added dunda\n",
      "City number 575 of 615 complete. | Added kushiro\n",
      "City number 576 of 615 complete. | Added la romana\n",
      "City number 577 of 615 complete. | Added beringovskiy\n",
      "City number 578 of 615 complete. | Added jalu\n",
      "City number 579 of 615 complete. | Added merauke\n",
      "City number 580 of 615 complete. | Added dzhida\n",
      "City number 581 of 615 complete. | Added talcahuano\n",
      "City number 582 of 615 complete. | Added belmonte\n",
      "Missing data in city number 583 of 615. | Skipping tumannyy\n",
      "City number 584 of 615 complete. | Added kaili\n",
      "City number 585 of 615 complete. | Added villazon\n",
      "City number 586 of 615 complete. | Added klaksvik\n",
      "City number 587 of 615 complete. | Added sven\n",
      "City number 588 of 615 complete. | Added te anau\n",
      "City number 589 of 615 complete. | Added dawlatabad\n",
      "City number 590 of 615 complete. | Added sainte-marie\n",
      "City number 591 of 615 complete. | Added cortez\n",
      "City number 592 of 615 complete. | Added turukhansk\n",
      "City number 593 of 615 complete. | Added zhezkazgan\n",
      "City number 594 of 615 complete. | Added gao\n",
      "City number 595 of 615 complete. | Added ishinomaki\n",
      "City number 596 of 615 complete. | Added gizel\n",
      "City number 597 of 615 complete. | Added kralendijk\n",
      "City number 598 of 615 complete. | Added port hedland\n",
      "City number 599 of 615 complete. | Added impfondo\n",
      "City number 600 of 615 complete. | Added ponta delgada\n",
      "Missing data in city number 601 of 615. | Skipping burica\n",
      "City number 602 of 615 complete. | Added meulaboh\n",
      "City number 603 of 615 complete. | Added adrar\n",
      "City number 604 of 615 complete. | Added lerwick\n",
      "City number 605 of 615 complete. | Added gornyy\n",
      "City number 606 of 615 complete. | Added mahebourg\n",
      "City number 607 of 615 complete. | Added honningsvag\n",
      "City number 608 of 615 complete. | Added lancaster\n",
      "City number 609 of 615 complete. | Added khani\n",
      "City number 610 of 615 complete. | Added roald\n",
      "City number 611 of 615 complete. | Added melo\n",
      "City number 612 of 615 complete. | Added malabo\n",
      "City number 613 of 615 complete. | Added mana\n",
      "City number 614 of 615 complete. | Added mezhdurechensk\n",
      "City number 615 of 615 complete. | Added kanniyakumari\n",
      "------------------------------\n",
      "End of Records\n",
      "------------------------------\n"
     ]
    }
   ],
   "source": [
    "#Initiate counter for city number below\n",
    "number = 1\n",
    "\n",
    "#Lists for holding required items\n",
    "city_name = []\n",
    "lat = []\n",
    "lng = []\n",
    "temp = []\n",
    "humid = []\n",
    "clouds = []\n",
    "wind = []\n",
    "\n",
    "\n",
    "#Loop through each city, extract required items, and print result\n",
    "print('------------------------------')\n",
    "print('Start of Records')\n",
    "print('------------------------------')\n",
    "\n",
    "for city in cities:\n",
    "    try:\n",
    "        city_data = (requests.get(url + '&q=' + city)).json()\n",
    "        city_name.append(city_data['name'])\n",
    "        lat.append(city_data['coord']['lat'])\n",
    "        lng.append(city_data['coord']['lon'])\n",
    "        temp.append(city_data['main']['temp'])\n",
    "        humid.append(city_data['main']['humidity'])\n",
    "        clouds.append(city_data['clouds']['all'])\n",
    "        wind.append(city_data['wind']['speed'])\n",
    "        \n",
    "        print(f'City number {number} of {len(cities)} complete. | Added {city}')\n",
    "        number = number + 1\n",
    "    \n",
    "    except KeyError:\n",
    "        print(f'Missing data in city number {number} of {len(cities)}. | Skipping {city}')\n",
    "        number = number + 1\n",
    "        \n",
    "print('------------------------------')\n",
    "print('End of Records')\n",
    "print('------------------------------')"
   ]
  },
  {
   "cell_type": "code",
   "execution_count": 11,
   "metadata": {},
   "outputs": [
    {
     "data": {
      "text/plain": [
       "13"
      ]
     },
     "execution_count": 11,
     "metadata": {},
     "output_type": "execute_result"
    }
   ],
   "source": [
    "len(city_data)"
   ]
  },
  {
   "cell_type": "code",
   "execution_count": null,
   "metadata": {},
   "outputs": [],
   "source": [
    "### Convert Raw Data to DataFrame\n",
    "* Export the city data into a .csv.\n",
    "* Display the DataFrame"
   ]
  },
  {
   "cell_type": "code",
   "execution_count": 12,
   "metadata": {},
   "outputs": [
    {
     "data": {
      "text/plain": [
       "City          573\n",
       "Latitude      573\n",
       "Longitude     573\n",
       "Max Temp      573\n",
       "Humidity      573\n",
       "Cloudiness    573\n",
       "Wind Speed    573\n",
       "dtype: int64"
      ]
     },
     "execution_count": 12,
     "metadata": {},
     "output_type": "execute_result"
    }
   ],
   "source": [
    "weather_dict = {\n",
    "    \n",
    "    \"City\": city_name, \n",
    "    \"Latitude\": lat, \n",
    "    \"Longitude\": lng,\n",
    "    \"Max Temp\": temp,\n",
    "    \"Humidity\": humid,\n",
    "    \"Cloudiness\": clouds, \n",
    "    \"Wind Speed\": wind,\n",
    "   \n",
    "    \n",
    "}\n",
    "\n",
    "weather_data = pd.DataFrame(weather_dict)\n",
    "weather_data.count()"
   ]
  },
  {
   "cell_type": "code",
   "execution_count": 48,
   "metadata": {},
   "outputs": [
    {
     "data": {
      "text/html": [
       "<div>\n",
       "<style scoped>\n",
       "    .dataframe tbody tr th:only-of-type {\n",
       "        vertical-align: middle;\n",
       "    }\n",
       "\n",
       "    .dataframe tbody tr th {\n",
       "        vertical-align: top;\n",
       "    }\n",
       "\n",
       "    .dataframe thead th {\n",
       "        text-align: right;\n",
       "    }\n",
       "</style>\n",
       "<table border=\"1\" class=\"dataframe\">\n",
       "  <thead>\n",
       "    <tr style=\"text-align: right;\">\n",
       "      <th></th>\n",
       "      <th>City</th>\n",
       "      <th>Latitude</th>\n",
       "      <th>Longitude</th>\n",
       "      <th>Max Temp</th>\n",
       "      <th>Humidity</th>\n",
       "      <th>Cloudiness</th>\n",
       "      <th>Wind Speed</th>\n",
       "    </tr>\n",
       "  </thead>\n",
       "  <tbody>\n",
       "    <tr>\n",
       "      <th>0</th>\n",
       "      <td>Hithadhoo</td>\n",
       "      <td>-0.60</td>\n",
       "      <td>73.08</td>\n",
       "      <td>81.99</td>\n",
       "      <td>76</td>\n",
       "      <td>55</td>\n",
       "      <td>10.65</td>\n",
       "    </tr>\n",
       "    <tr>\n",
       "      <th>1</th>\n",
       "      <td>Saint-Philippe</td>\n",
       "      <td>-21.36</td>\n",
       "      <td>55.77</td>\n",
       "      <td>70.57</td>\n",
       "      <td>57</td>\n",
       "      <td>48</td>\n",
       "      <td>3.36</td>\n",
       "    </tr>\n",
       "    <tr>\n",
       "      <th>2</th>\n",
       "      <td>Bluff</td>\n",
       "      <td>-46.60</td>\n",
       "      <td>168.33</td>\n",
       "      <td>50.00</td>\n",
       "      <td>63</td>\n",
       "      <td>0</td>\n",
       "      <td>4.00</td>\n",
       "    </tr>\n",
       "    <tr>\n",
       "      <th>3</th>\n",
       "      <td>Iqaluit</td>\n",
       "      <td>63.75</td>\n",
       "      <td>-68.51</td>\n",
       "      <td>37.20</td>\n",
       "      <td>69</td>\n",
       "      <td>40</td>\n",
       "      <td>5.82</td>\n",
       "    </tr>\n",
       "    <tr>\n",
       "      <th>4</th>\n",
       "      <td>Rikitea</td>\n",
       "      <td>-23.12</td>\n",
       "      <td>-134.97</td>\n",
       "      <td>73.63</td>\n",
       "      <td>86</td>\n",
       "      <td>78</td>\n",
       "      <td>13.00</td>\n",
       "    </tr>\n",
       "  </tbody>\n",
       "</table>\n",
       "</div>"
      ],
      "text/plain": [
       "             City  Latitude  Longitude  Max Temp  Humidity  Cloudiness  \\\n",
       "0       Hithadhoo     -0.60      73.08     81.99        76          55   \n",
       "1  Saint-Philippe    -21.36      55.77     70.57        57          48   \n",
       "2           Bluff    -46.60     168.33     50.00        63           0   \n",
       "3         Iqaluit     63.75     -68.51     37.20        69          40   \n",
       "4         Rikitea    -23.12    -134.97     73.63        86          78   \n",
       "\n",
       "   Wind Speed  \n",
       "0       10.65  \n",
       "1        3.36  \n",
       "2        4.00  \n",
       "3        5.82  \n",
       "4       13.00  "
      ]
     },
     "execution_count": 48,
     "metadata": {},
     "output_type": "execute_result"
    }
   ],
   "source": [
    "weather_data = pd.DataFrame(weather_dict)\n",
    "weather_data.head(5)"
   ]
  },
  {
   "cell_type": "code",
   "execution_count": 16,
   "metadata": {},
   "outputs": [
    {
     "data": {
      "text/html": [
       "<div>\n",
       "<style scoped>\n",
       "    .dataframe tbody tr th:only-of-type {\n",
       "        vertical-align: middle;\n",
       "    }\n",
       "\n",
       "    .dataframe tbody tr th {\n",
       "        vertical-align: top;\n",
       "    }\n",
       "\n",
       "    .dataframe thead th {\n",
       "        text-align: right;\n",
       "    }\n",
       "</style>\n",
       "<table border=\"1\" class=\"dataframe\">\n",
       "  <thead>\n",
       "    <tr style=\"text-align: right;\">\n",
       "      <th></th>\n",
       "      <th>Lat</th>\n",
       "      <th>Lng</th>\n",
       "      <th>Max Temp</th>\n",
       "      <th>Humidity</th>\n",
       "      <th>Cloudiness</th>\n",
       "      <th>Wind Speed</th>\n",
       "      <th>Date</th>\n",
       "    </tr>\n",
       "  </thead>\n",
       "  <tbody>\n",
       "    <tr>\n",
       "      <td>count</td>\n",
       "      <td>599.000000</td>\n",
       "      <td>599.000000</td>\n",
       "      <td>599.000000</td>\n",
       "      <td>599.000000</td>\n",
       "      <td>599.000000</td>\n",
       "      <td>599.000000</td>\n",
       "      <td>5.990000e+02</td>\n",
       "    </tr>\n",
       "    <tr>\n",
       "      <td>mean</td>\n",
       "      <td>19.877028</td>\n",
       "      <td>19.568998</td>\n",
       "      <td>69.794808</td>\n",
       "      <td>69.353923</td>\n",
       "      <td>51.569282</td>\n",
       "      <td>7.979416</td>\n",
       "      <td>1.593605e+09</td>\n",
       "    </tr>\n",
       "    <tr>\n",
       "      <td>std</td>\n",
       "      <td>33.262944</td>\n",
       "      <td>91.418472</td>\n",
       "      <td>15.678452</td>\n",
       "      <td>22.704698</td>\n",
       "      <td>35.405602</td>\n",
       "      <td>5.660694</td>\n",
       "      <td>5.738815e+01</td>\n",
       "    </tr>\n",
       "    <tr>\n",
       "      <td>min</td>\n",
       "      <td>-54.800000</td>\n",
       "      <td>-179.170000</td>\n",
       "      <td>12.200000</td>\n",
       "      <td>7.000000</td>\n",
       "      <td>0.000000</td>\n",
       "      <td>0.360000</td>\n",
       "      <td>1.593605e+09</td>\n",
       "    </tr>\n",
       "    <tr>\n",
       "      <td>25%</td>\n",
       "      <td>-8.540000</td>\n",
       "      <td>-61.210000</td>\n",
       "      <td>59.000000</td>\n",
       "      <td>55.000000</td>\n",
       "      <td>20.000000</td>\n",
       "      <td>3.620000</td>\n",
       "      <td>1.593605e+09</td>\n",
       "    </tr>\n",
       "    <tr>\n",
       "      <td>50%</td>\n",
       "      <td>24.370000</td>\n",
       "      <td>24.670000</td>\n",
       "      <td>73.110000</td>\n",
       "      <td>75.000000</td>\n",
       "      <td>59.000000</td>\n",
       "      <td>6.730000</td>\n",
       "      <td>1.593605e+09</td>\n",
       "    </tr>\n",
       "    <tr>\n",
       "      <td>75%</td>\n",
       "      <td>46.585000</td>\n",
       "      <td>102.255000</td>\n",
       "      <td>80.600000</td>\n",
       "      <td>87.000000</td>\n",
       "      <td>85.000000</td>\n",
       "      <td>11.050000</td>\n",
       "      <td>1.593605e+09</td>\n",
       "    </tr>\n",
       "    <tr>\n",
       "      <td>max</td>\n",
       "      <td>78.220000</td>\n",
       "      <td>179.320000</td>\n",
       "      <td>116.600000</td>\n",
       "      <td>100.000000</td>\n",
       "      <td>100.000000</td>\n",
       "      <td>42.500000</td>\n",
       "      <td>1.593605e+09</td>\n",
       "    </tr>\n",
       "  </tbody>\n",
       "</table>\n",
       "</div>"
      ],
      "text/plain": [
       "              Lat         Lng    Max Temp    Humidity  Cloudiness  Wind Speed  \\\n",
       "count  599.000000  599.000000  599.000000  599.000000  599.000000  599.000000   \n",
       "mean    19.877028   19.568998   69.794808   69.353923   51.569282    7.979416   \n",
       "std     33.262944   91.418472   15.678452   22.704698   35.405602    5.660694   \n",
       "min    -54.800000 -179.170000   12.200000    7.000000    0.000000    0.360000   \n",
       "25%     -8.540000  -61.210000   59.000000   55.000000   20.000000    3.620000   \n",
       "50%     24.370000   24.670000   73.110000   75.000000   59.000000    6.730000   \n",
       "75%     46.585000  102.255000   80.600000   87.000000   85.000000   11.050000   \n",
       "max     78.220000  179.320000  116.600000  100.000000  100.000000   42.500000   \n",
       "\n",
       "               Date  \n",
       "count  5.990000e+02  \n",
       "mean   1.593605e+09  \n",
       "std    5.738815e+01  \n",
       "min    1.593605e+09  \n",
       "25%    1.593605e+09  \n",
       "50%    1.593605e+09  \n",
       "75%    1.593605e+09  \n",
       "max    1.593605e+09  "
      ]
     },
     "execution_count": 16,
     "metadata": {},
     "output_type": "execute_result"
    }
   ],
   "source": [
    "#stats"
   ]
  },
  {
   "cell_type": "markdown",
   "metadata": {},
   "source": [
    "## Inspect the data and remove the cities where the humidity > 100%.\n",
    "----\n",
    "Skip this step if there are no cities that have humidity > 100%. "
   ]
  },
  {
   "cell_type": "code",
   "execution_count": 6,
   "metadata": {},
   "outputs": [
    {
     "data": {
      "text/html": [
       "<div>\n",
       "<style scoped>\n",
       "    .dataframe tbody tr th:only-of-type {\n",
       "        vertical-align: middle;\n",
       "    }\n",
       "\n",
       "    .dataframe tbody tr th {\n",
       "        vertical-align: top;\n",
       "    }\n",
       "\n",
       "    .dataframe thead th {\n",
       "        text-align: right;\n",
       "    }\n",
       "</style>\n",
       "<table border=\"1\" class=\"dataframe\">\n",
       "  <thead>\n",
       "    <tr style=\"text-align: right;\">\n",
       "      <th></th>\n",
       "      <th>Lat</th>\n",
       "      <th>Lng</th>\n",
       "      <th>Max Temp</th>\n",
       "      <th>Humidity</th>\n",
       "      <th>Cloudiness</th>\n",
       "      <th>Wind Speed</th>\n",
       "      <th>Date</th>\n",
       "    </tr>\n",
       "  </thead>\n",
       "  <tbody>\n",
       "    <tr>\n",
       "      <th>count</th>\n",
       "      <td>550.000000</td>\n",
       "      <td>550.000000</td>\n",
       "      <td>550.000000</td>\n",
       "      <td>550.000000</td>\n",
       "      <td>550.000000</td>\n",
       "      <td>550.000000</td>\n",
       "      <td>5.500000e+02</td>\n",
       "    </tr>\n",
       "    <tr>\n",
       "      <th>mean</th>\n",
       "      <td>19.973545</td>\n",
       "      <td>17.124400</td>\n",
       "      <td>58.331400</td>\n",
       "      <td>67.890909</td>\n",
       "      <td>52.141818</td>\n",
       "      <td>8.544800</td>\n",
       "      <td>1.585764e+09</td>\n",
       "    </tr>\n",
       "    <tr>\n",
       "      <th>std</th>\n",
       "      <td>33.284840</td>\n",
       "      <td>91.595451</td>\n",
       "      <td>25.795297</td>\n",
       "      <td>20.864881</td>\n",
       "      <td>35.766469</td>\n",
       "      <td>6.078869</td>\n",
       "      <td>5.539674e+01</td>\n",
       "    </tr>\n",
       "    <tr>\n",
       "      <th>min</th>\n",
       "      <td>-54.800000</td>\n",
       "      <td>-179.170000</td>\n",
       "      <td>-11.340000</td>\n",
       "      <td>9.000000</td>\n",
       "      <td>0.000000</td>\n",
       "      <td>0.160000</td>\n",
       "      <td>1.585764e+09</td>\n",
       "    </tr>\n",
       "    <tr>\n",
       "      <th>25%</th>\n",
       "      <td>-8.077500</td>\n",
       "      <td>-64.627500</td>\n",
       "      <td>42.800000</td>\n",
       "      <td>55.000000</td>\n",
       "      <td>20.000000</td>\n",
       "      <td>4.525000</td>\n",
       "      <td>1.585764e+09</td>\n",
       "    </tr>\n",
       "    <tr>\n",
       "      <th>50%</th>\n",
       "      <td>23.630000</td>\n",
       "      <td>19.635000</td>\n",
       "      <td>64.940000</td>\n",
       "      <td>72.000000</td>\n",
       "      <td>57.000000</td>\n",
       "      <td>7.325000</td>\n",
       "      <td>1.585764e+09</td>\n",
       "    </tr>\n",
       "    <tr>\n",
       "      <th>75%</th>\n",
       "      <td>48.672500</td>\n",
       "      <td>97.350000</td>\n",
       "      <td>78.800000</td>\n",
       "      <td>83.000000</td>\n",
       "      <td>86.750000</td>\n",
       "      <td>11.410000</td>\n",
       "      <td>1.585764e+09</td>\n",
       "    </tr>\n",
       "    <tr>\n",
       "      <th>max</th>\n",
       "      <td>78.220000</td>\n",
       "      <td>179.320000</td>\n",
       "      <td>102.200000</td>\n",
       "      <td>100.000000</td>\n",
       "      <td>100.000000</td>\n",
       "      <td>46.080000</td>\n",
       "      <td>1.585764e+09</td>\n",
       "    </tr>\n",
       "  </tbody>\n",
       "</table>\n",
       "</div>"
      ],
      "text/plain": [
       "              Lat         Lng    Max Temp    Humidity  Cloudiness  Wind Speed  \\\n",
       "count  550.000000  550.000000  550.000000  550.000000  550.000000  550.000000   \n",
       "mean    19.973545   17.124400   58.331400   67.890909   52.141818    8.544800   \n",
       "std     33.284840   91.595451   25.795297   20.864881   35.766469    6.078869   \n",
       "min    -54.800000 -179.170000  -11.340000    9.000000    0.000000    0.160000   \n",
       "25%     -8.077500  -64.627500   42.800000   55.000000   20.000000    4.525000   \n",
       "50%     23.630000   19.635000   64.940000   72.000000   57.000000    7.325000   \n",
       "75%     48.672500   97.350000   78.800000   83.000000   86.750000   11.410000   \n",
       "max     78.220000  179.320000  102.200000  100.000000  100.000000   46.080000   \n",
       "\n",
       "               Date  \n",
       "count  5.500000e+02  \n",
       "mean   1.585764e+09  \n",
       "std    5.539674e+01  \n",
       "min    1.585764e+09  \n",
       "25%    1.585764e+09  \n",
       "50%    1.585764e+09  \n",
       "75%    1.585764e+09  \n",
       "max    1.585764e+09  "
      ]
     },
     "execution_count": 6,
     "metadata": {},
     "output_type": "execute_result"
    }
   ],
   "source": []
  },
  {
   "cell_type": "code",
   "execution_count": 17,
   "metadata": {},
   "outputs": [
    {
     "data": {
      "text/plain": [
       "Int64Index([], dtype='int64')"
      ]
     },
     "execution_count": 17,
     "metadata": {},
     "output_type": "execute_result"
    }
   ],
   "source": [
    "#  Get the indices of cities that have humidity over 100%.\n"
   ]
  },
  {
   "cell_type": "code",
   "execution_count": 19,
   "metadata": {},
   "outputs": [
    {
     "data": {
      "text/html": [
       "<div>\n",
       "<style scoped>\n",
       "    .dataframe tbody tr th:only-of-type {\n",
       "        vertical-align: middle;\n",
       "    }\n",
       "\n",
       "    .dataframe tbody tr th {\n",
       "        vertical-align: top;\n",
       "    }\n",
       "\n",
       "    .dataframe thead th {\n",
       "        text-align: right;\n",
       "    }\n",
       "</style>\n",
       "<table border=\"1\" class=\"dataframe\">\n",
       "  <thead>\n",
       "    <tr style=\"text-align: right;\">\n",
       "      <th></th>\n",
       "      <th>City</th>\n",
       "      <th>Lat</th>\n",
       "      <th>Lng</th>\n",
       "      <th>Max Temp</th>\n",
       "      <th>Humidity</th>\n",
       "      <th>Cloudiness</th>\n",
       "      <th>Wind Speed</th>\n",
       "      <th>Country</th>\n",
       "      <th>Date</th>\n",
       "    </tr>\n",
       "  </thead>\n",
       "  <tbody>\n",
       "    <tr>\n",
       "      <td>0</td>\n",
       "      <td>butaritari</td>\n",
       "      <td>3.07</td>\n",
       "      <td>172.79</td>\n",
       "      <td>83.32</td>\n",
       "      <td>74</td>\n",
       "      <td>84</td>\n",
       "      <td>10.42</td>\n",
       "      <td>KI</td>\n",
       "      <td>1593605283</td>\n",
       "    </tr>\n",
       "    <tr>\n",
       "      <td>1</td>\n",
       "      <td>yerbogachen</td>\n",
       "      <td>61.28</td>\n",
       "      <td>108.01</td>\n",
       "      <td>79.52</td>\n",
       "      <td>58</td>\n",
       "      <td>20</td>\n",
       "      <td>7.70</td>\n",
       "      <td>RU</td>\n",
       "      <td>1593605121</td>\n",
       "    </tr>\n",
       "    <tr>\n",
       "      <td>2</td>\n",
       "      <td>cape town</td>\n",
       "      <td>-33.93</td>\n",
       "      <td>18.42</td>\n",
       "      <td>73.00</td>\n",
       "      <td>77</td>\n",
       "      <td>27</td>\n",
       "      <td>4.70</td>\n",
       "      <td>ZA</td>\n",
       "      <td>1593605039</td>\n",
       "    </tr>\n",
       "    <tr>\n",
       "      <td>3</td>\n",
       "      <td>touba</td>\n",
       "      <td>8.28</td>\n",
       "      <td>-7.68</td>\n",
       "      <td>79.97</td>\n",
       "      <td>75</td>\n",
       "      <td>82</td>\n",
       "      <td>3.58</td>\n",
       "      <td>CI</td>\n",
       "      <td>1593605284</td>\n",
       "    </tr>\n",
       "    <tr>\n",
       "      <td>4</td>\n",
       "      <td>jamestown</td>\n",
       "      <td>42.10</td>\n",
       "      <td>-79.24</td>\n",
       "      <td>64.00</td>\n",
       "      <td>88</td>\n",
       "      <td>1</td>\n",
       "      <td>6.93</td>\n",
       "      <td>US</td>\n",
       "      <td>1593605284</td>\n",
       "    </tr>\n",
       "  </tbody>\n",
       "</table>\n",
       "</div>"
      ],
      "text/plain": [
       "          City    Lat     Lng  Max Temp  Humidity  Cloudiness  Wind Speed  \\\n",
       "0   butaritari   3.07  172.79     83.32        74          84       10.42   \n",
       "1  yerbogachen  61.28  108.01     79.52        58          20        7.70   \n",
       "2    cape town -33.93   18.42     73.00        77          27        4.70   \n",
       "3        touba   8.28   -7.68     79.97        75          82        3.58   \n",
       "4    jamestown  42.10  -79.24     64.00        88           1        6.93   \n",
       "\n",
       "  Country        Date  \n",
       "0      KI  1593605283  \n",
       "1      RU  1593605121  \n",
       "2      ZA  1593605039  \n",
       "3      CI  1593605284  \n",
       "4      US  1593605284  "
      ]
     },
     "execution_count": 19,
     "metadata": {},
     "output_type": "execute_result"
    }
   ],
   "source": [
    "# Make a new DataFrame equal to the city data to drop all humidity outliers by index.\n",
    "# Passing \"inplace=False\" will make a copy of the city_data DataFrame, which we call \"clean_city_data\".\n"
   ]
  },
  {
   "cell_type": "code",
   "execution_count": null,
   "metadata": {},
   "outputs": [],
   "source": [
    "\n"
   ]
  },
  {
   "cell_type": "markdown",
   "metadata": {},
   "source": [
    "## Plotting the Data\n",
    "* Use proper labeling of the plots using plot titles (including date of analysis) and axes labels.\n",
    "* Save the plotted figures as .pngs."
   ]
  },
  {
   "cell_type": "markdown",
   "metadata": {},
   "source": [
    "## Latitude vs. Temperature Plot"
   ]
  },
  {
   "cell_type": "code",
   "execution_count": 16,
   "metadata": {
    "scrolled": true
   },
   "outputs": [
    {
     "ename": "KeyError",
     "evalue": "'Temperature'",
     "output_type": "error",
     "traceback": [
      "\u001b[1;31m---------------------------------------------------------------------------\u001b[0m",
      "\u001b[1;31mKeyError\u001b[0m                                  Traceback (most recent call last)",
      "\u001b[1;32m~\\anaconda3\\lib\\site-packages\\pandas\\core\\indexes\\base.py\u001b[0m in \u001b[0;36mget_loc\u001b[1;34m(self, key, method, tolerance)\u001b[0m\n\u001b[0;32m   2645\u001b[0m             \u001b[1;32mtry\u001b[0m\u001b[1;33m:\u001b[0m\u001b[1;33m\u001b[0m\u001b[1;33m\u001b[0m\u001b[0m\n\u001b[1;32m-> 2646\u001b[1;33m                 \u001b[1;32mreturn\u001b[0m \u001b[0mself\u001b[0m\u001b[1;33m.\u001b[0m\u001b[0m_engine\u001b[0m\u001b[1;33m.\u001b[0m\u001b[0mget_loc\u001b[0m\u001b[1;33m(\u001b[0m\u001b[0mkey\u001b[0m\u001b[1;33m)\u001b[0m\u001b[1;33m\u001b[0m\u001b[1;33m\u001b[0m\u001b[0m\n\u001b[0m\u001b[0;32m   2647\u001b[0m             \u001b[1;32mexcept\u001b[0m \u001b[0mKeyError\u001b[0m\u001b[1;33m:\u001b[0m\u001b[1;33m\u001b[0m\u001b[1;33m\u001b[0m\u001b[0m\n",
      "\u001b[1;32mpandas\\_libs\\index.pyx\u001b[0m in \u001b[0;36mpandas._libs.index.IndexEngine.get_loc\u001b[1;34m()\u001b[0m\n",
      "\u001b[1;32mpandas\\_libs\\index.pyx\u001b[0m in \u001b[0;36mpandas._libs.index.IndexEngine.get_loc\u001b[1;34m()\u001b[0m\n",
      "\u001b[1;32mpandas\\_libs\\hashtable_class_helper.pxi\u001b[0m in \u001b[0;36mpandas._libs.hashtable.PyObjectHashTable.get_item\u001b[1;34m()\u001b[0m\n",
      "\u001b[1;32mpandas\\_libs\\hashtable_class_helper.pxi\u001b[0m in \u001b[0;36mpandas._libs.hashtable.PyObjectHashTable.get_item\u001b[1;34m()\u001b[0m\n",
      "\u001b[1;31mKeyError\u001b[0m: 'Temperature'",
      "\nDuring handling of the above exception, another exception occurred:\n",
      "\u001b[1;31mKeyError\u001b[0m                                  Traceback (most recent call last)",
      "\u001b[1;32m<ipython-input-16-64087717b243>\u001b[0m in \u001b[0;36m<module>\u001b[1;34m\u001b[0m\n\u001b[1;32m----> 1\u001b[1;33m \u001b[0mplt\u001b[0m\u001b[1;33m.\u001b[0m\u001b[0mscatter\u001b[0m\u001b[1;33m(\u001b[0m\u001b[0mweather_data\u001b[0m\u001b[1;33m[\u001b[0m\u001b[1;34m'Latitude'\u001b[0m\u001b[1;33m]\u001b[0m\u001b[1;33m,\u001b[0m \u001b[0mweather_data\u001b[0m\u001b[1;33m[\u001b[0m\u001b[1;34m'Temperature'\u001b[0m\u001b[1;33m]\u001b[0m\u001b[1;33m)\u001b[0m\u001b[1;33m\u001b[0m\u001b[1;33m\u001b[0m\u001b[0m\n\u001b[0m\u001b[0;32m      2\u001b[0m \u001b[0mplt\u001b[0m\u001b[1;33m.\u001b[0m\u001b[0mtitle\u001b[0m\u001b[1;33m(\u001b[0m\u001b[1;34mf'City Latitude vs. Temperature {date.today()}'\u001b[0m\u001b[1;33m)\u001b[0m\u001b[1;33m\u001b[0m\u001b[1;33m\u001b[0m\u001b[0m\n\u001b[0;32m      3\u001b[0m \u001b[0mplt\u001b[0m\u001b[1;33m.\u001b[0m\u001b[0mxlabel\u001b[0m\u001b[1;33m(\u001b[0m\u001b[1;34m'Latitude'\u001b[0m\u001b[1;33m)\u001b[0m\u001b[1;33m\u001b[0m\u001b[1;33m\u001b[0m\u001b[0m\n\u001b[0;32m      4\u001b[0m \u001b[0mplt\u001b[0m\u001b[1;33m.\u001b[0m\u001b[0mylabel\u001b[0m\u001b[1;33m(\u001b[0m\u001b[1;34m'Temperature (F)'\u001b[0m\u001b[1;33m)\u001b[0m\u001b[1;33m\u001b[0m\u001b[1;33m\u001b[0m\u001b[0m\n\u001b[0;32m      5\u001b[0m \u001b[0mplt\u001b[0m\u001b[1;33m.\u001b[0m\u001b[0mgrid\u001b[0m\u001b[1;33m(\u001b[0m\u001b[1;32mTrue\u001b[0m\u001b[1;33m)\u001b[0m\u001b[1;33m\u001b[0m\u001b[1;33m\u001b[0m\u001b[0m\n",
      "\u001b[1;32m~\\anaconda3\\lib\\site-packages\\pandas\\core\\frame.py\u001b[0m in \u001b[0;36m__getitem__\u001b[1;34m(self, key)\u001b[0m\n\u001b[0;32m   2798\u001b[0m             \u001b[1;32mif\u001b[0m \u001b[0mself\u001b[0m\u001b[1;33m.\u001b[0m\u001b[0mcolumns\u001b[0m\u001b[1;33m.\u001b[0m\u001b[0mnlevels\u001b[0m \u001b[1;33m>\u001b[0m \u001b[1;36m1\u001b[0m\u001b[1;33m:\u001b[0m\u001b[1;33m\u001b[0m\u001b[1;33m\u001b[0m\u001b[0m\n\u001b[0;32m   2799\u001b[0m                 \u001b[1;32mreturn\u001b[0m \u001b[0mself\u001b[0m\u001b[1;33m.\u001b[0m\u001b[0m_getitem_multilevel\u001b[0m\u001b[1;33m(\u001b[0m\u001b[0mkey\u001b[0m\u001b[1;33m)\u001b[0m\u001b[1;33m\u001b[0m\u001b[1;33m\u001b[0m\u001b[0m\n\u001b[1;32m-> 2800\u001b[1;33m             \u001b[0mindexer\u001b[0m \u001b[1;33m=\u001b[0m \u001b[0mself\u001b[0m\u001b[1;33m.\u001b[0m\u001b[0mcolumns\u001b[0m\u001b[1;33m.\u001b[0m\u001b[0mget_loc\u001b[0m\u001b[1;33m(\u001b[0m\u001b[0mkey\u001b[0m\u001b[1;33m)\u001b[0m\u001b[1;33m\u001b[0m\u001b[1;33m\u001b[0m\u001b[0m\n\u001b[0m\u001b[0;32m   2801\u001b[0m             \u001b[1;32mif\u001b[0m \u001b[0mis_integer\u001b[0m\u001b[1;33m(\u001b[0m\u001b[0mindexer\u001b[0m\u001b[1;33m)\u001b[0m\u001b[1;33m:\u001b[0m\u001b[1;33m\u001b[0m\u001b[1;33m\u001b[0m\u001b[0m\n\u001b[0;32m   2802\u001b[0m                 \u001b[0mindexer\u001b[0m \u001b[1;33m=\u001b[0m \u001b[1;33m[\u001b[0m\u001b[0mindexer\u001b[0m\u001b[1;33m]\u001b[0m\u001b[1;33m\u001b[0m\u001b[1;33m\u001b[0m\u001b[0m\n",
      "\u001b[1;32m~\\anaconda3\\lib\\site-packages\\pandas\\core\\indexes\\base.py\u001b[0m in \u001b[0;36mget_loc\u001b[1;34m(self, key, method, tolerance)\u001b[0m\n\u001b[0;32m   2646\u001b[0m                 \u001b[1;32mreturn\u001b[0m \u001b[0mself\u001b[0m\u001b[1;33m.\u001b[0m\u001b[0m_engine\u001b[0m\u001b[1;33m.\u001b[0m\u001b[0mget_loc\u001b[0m\u001b[1;33m(\u001b[0m\u001b[0mkey\u001b[0m\u001b[1;33m)\u001b[0m\u001b[1;33m\u001b[0m\u001b[1;33m\u001b[0m\u001b[0m\n\u001b[0;32m   2647\u001b[0m             \u001b[1;32mexcept\u001b[0m \u001b[0mKeyError\u001b[0m\u001b[1;33m:\u001b[0m\u001b[1;33m\u001b[0m\u001b[1;33m\u001b[0m\u001b[0m\n\u001b[1;32m-> 2648\u001b[1;33m                 \u001b[1;32mreturn\u001b[0m \u001b[0mself\u001b[0m\u001b[1;33m.\u001b[0m\u001b[0m_engine\u001b[0m\u001b[1;33m.\u001b[0m\u001b[0mget_loc\u001b[0m\u001b[1;33m(\u001b[0m\u001b[0mself\u001b[0m\u001b[1;33m.\u001b[0m\u001b[0m_maybe_cast_indexer\u001b[0m\u001b[1;33m(\u001b[0m\u001b[0mkey\u001b[0m\u001b[1;33m)\u001b[0m\u001b[1;33m)\u001b[0m\u001b[1;33m\u001b[0m\u001b[1;33m\u001b[0m\u001b[0m\n\u001b[0m\u001b[0;32m   2649\u001b[0m         \u001b[0mindexer\u001b[0m \u001b[1;33m=\u001b[0m \u001b[0mself\u001b[0m\u001b[1;33m.\u001b[0m\u001b[0mget_indexer\u001b[0m\u001b[1;33m(\u001b[0m\u001b[1;33m[\u001b[0m\u001b[0mkey\u001b[0m\u001b[1;33m]\u001b[0m\u001b[1;33m,\u001b[0m \u001b[0mmethod\u001b[0m\u001b[1;33m=\u001b[0m\u001b[0mmethod\u001b[0m\u001b[1;33m,\u001b[0m \u001b[0mtolerance\u001b[0m\u001b[1;33m=\u001b[0m\u001b[0mtolerance\u001b[0m\u001b[1;33m)\u001b[0m\u001b[1;33m\u001b[0m\u001b[1;33m\u001b[0m\u001b[0m\n\u001b[0;32m   2650\u001b[0m         \u001b[1;32mif\u001b[0m \u001b[0mindexer\u001b[0m\u001b[1;33m.\u001b[0m\u001b[0mndim\u001b[0m \u001b[1;33m>\u001b[0m \u001b[1;36m1\u001b[0m \u001b[1;32mor\u001b[0m \u001b[0mindexer\u001b[0m\u001b[1;33m.\u001b[0m\u001b[0msize\u001b[0m \u001b[1;33m>\u001b[0m \u001b[1;36m1\u001b[0m\u001b[1;33m:\u001b[0m\u001b[1;33m\u001b[0m\u001b[1;33m\u001b[0m\u001b[0m\n",
      "\u001b[1;32mpandas\\_libs\\index.pyx\u001b[0m in \u001b[0;36mpandas._libs.index.IndexEngine.get_loc\u001b[1;34m()\u001b[0m\n",
      "\u001b[1;32mpandas\\_libs\\index.pyx\u001b[0m in \u001b[0;36mpandas._libs.index.IndexEngine.get_loc\u001b[1;34m()\u001b[0m\n",
      "\u001b[1;32mpandas\\_libs\\hashtable_class_helper.pxi\u001b[0m in \u001b[0;36mpandas._libs.hashtable.PyObjectHashTable.get_item\u001b[1;34m()\u001b[0m\n",
      "\u001b[1;32mpandas\\_libs\\hashtable_class_helper.pxi\u001b[0m in \u001b[0;36mpandas._libs.hashtable.PyObjectHashTable.get_item\u001b[1;34m()\u001b[0m\n",
      "\u001b[1;31mKeyError\u001b[0m: 'Temperature'"
     ]
    }
   ],
   "source": [
    "plt.scatter(weather_data['Latitude'], weather_data['Temperature'])\n",
    "plt.title(f'City Latitude vs. Temperature {date.today()}')\n",
    "plt.xlabel('Latitude')\n",
    "plt.ylabel('Temperature (F)')\n",
    "plt.grid(True)\n",
    "plt.savefig('lat_temp.png', bbox_inches='tight')"
   ]
  },
  {
   "cell_type": "code",
   "execution_count": null,
   "metadata": {},
   "outputs": [],
   "source": [
    "## Latitude vs. Humidity Plot"
   ]
  },
  {
   "cell_type": "code",
   "execution_count": 15,
   "metadata": {},
   "outputs": [
    {
     "data": {
      "image/png": "[encoded data removed]",
      "text/plain": [
       "<Figure size 432x288 with 1 Axes>"
      ]
     },
     "metadata": {
      "needs_background": "light"
     },
     "output_type": "display_data"
    }
   ],
   "source": [
    "plt.scatter(weather_data['Latitude'], weather_data['Humidity'])\n",
    "plt.title(f'City Latitude vs. Humidity {date.today()}')\n",
    "plt.xlabel('Latitude')\n",
    "plt.ylabel('Humidity')\n",
    "plt.grid(True)\n",
    "plt.savefig('lat_humid.png', bbox_inches='tight')"
   ]
  },
  {
   "cell_type": "markdown",
   "metadata": {},
   "source": [
    "## Latitude vs. Cloudiness Plot"
   ]
  },
  {
   "cell_type": "code",
   "execution_count": 17,
   "metadata": {},
   "outputs": [
    {
     "data": {
      "image/png": "[encoded data removed]",
      "text/plain": [
       "<Figure size 432x288 with 1 Axes>"
      ]
     },
     "metadata": {
      "needs_background": "light"
     },
     "output_type": "display_data"
    }
   ],
   "source": [
    "plt.scatter(weather_data['Latitude'], weather_data['Cloudiness'])\n",
    "plt.title(f'City Latitude vs. Cloudiness {date.today()}')\n",
    "plt.xlabel('Latitude')\n",
    "plt.ylabel('Cloudiness')\n",
    "plt.grid(True)\n",
    "plt.savefig('lat_cloud.png', bbox_inches='tight')"
   ]
  },
  {
   "cell_type": "markdown",
   "metadata": {},
   "source": [
    "## Latitude vs. Wind Speed Plot"
   ]
  },
  {
   "cell_type": "code",
   "execution_count": 18,
   "metadata": {},
   "outputs": [
    {
     "data": {
      "image/png": "[encoded data removed]",
      "text/plain": [
       "<Figure size 432x288 with 1 Axes>"
      ]
     },
     "metadata": {
      "needs_background": "light"
     },
     "output_type": "display_data"
    }
   ],
   "source": [
    "plt.scatter(weather_data['Latitude'], weather_data['Wind Speed'])\n",
    "plt.title(f'City Latitude vs. Wind Speed {date.today()}')\n",
    "plt.xlabel('Latitude')\n",
    "plt.ylabel('Wind Speed')\n",
    "plt.grid(True)\n",
    "plt.savefig('lat_wind.png', bbox_inches='tight')"
   ]
  },
  {
   "cell_type": "markdown",
   "metadata": {},
   "source": [
    "## Linear Regression"
   ]
  },
  {
   "cell_type": "code",
   "execution_count": 24,
   "metadata": {},
   "outputs": [],
   "source": []
  },
  {
   "cell_type": "markdown",
   "metadata": {},
   "source": [
    "####  Northern Hemisphere - Max Temp vs. Latitude Linear Regression"
   ]
  },
  {
   "cell_type": "code",
   "execution_count": 25,
   "metadata": {},
   "outputs": [
    {
     "name": "stdout",
     "output_type": "stream",
     "text": [
      "The r-value is: 0.46937863826630627\n"
     ]
    },
    {
     "data": {
      "image/png": "[encoded data removed]",
      "text/plain": [
       "<Figure size 432x288 with 1 Axes>"
      ]
     },
     "metadata": {
      "needs_background": "light"
     },
     "output_type": "display_data"
    }
   ],
   "source": []
  },
  {
   "cell_type": "markdown",
   "metadata": {},
   "source": [
    "####  Southern Hemisphere - Max Temp vs. Latitude Linear Regression"
   ]
  },
  {
   "cell_type": "code",
   "execution_count": 26,
   "metadata": {},
   "outputs": [
    {
     "name": "stdout",
     "output_type": "stream",
     "text": [
      "The r-value is: 0.6082708688906918\n"
     ]
    },
    {
     "data": {
      "image/png": "[encoded data removed]",
      "text/plain": [
       "<Figure size 432x288 with 1 Axes>"
      ]
     },
     "metadata": {
      "needs_background": "light"
     },
     "output_type": "display_data"
    }
   ],
   "source": []
  },
  {
   "cell_type": "markdown",
   "metadata": {},
   "source": [
    "####  Northern Hemisphere - Humidity (%) vs. Latitude Linear Regression"
   ]
  },
  {
   "cell_type": "code",
   "execution_count": 27,
   "metadata": {},
   "outputs": [
    {
     "name": "stdout",
     "output_type": "stream",
     "text": [
      "The r-value is: 0.000543987878808455\n"
     ]
    },
    {
     "data": {
      "image/png": "[encoded data removed]",
      "text/plain": [
       "<Figure size 432x288 with 1 Axes>"
      ]
     },
     "metadata": {
      "needs_background": "light"
     },
     "output_type": "display_data"
    }
   ],
   "source": []
  },
  {
   "cell_type": "markdown",
   "metadata": {},
   "source": [
    "####  Southern Hemisphere - Humidity (%) vs. Latitude Linear Regression"
   ]
  },
  {
   "cell_type": "code",
   "execution_count": 28,
   "metadata": {},
   "outputs": [
    {
     "name": "stdout",
     "output_type": "stream",
     "text": [
      "The r-value is: 0.014985174297345524\n"
     ]
    },
    {
     "data": {
      "image/png": "[encoded data removed]",
      "text/plain": [
       "<Figure size 432x288 with 1 Axes>"
      ]
     },
     "metadata": {
      "needs_background": "light"
     },
     "output_type": "display_data"
    }
   ],
   "source": []
  },
  {
   "cell_type": "markdown",
   "metadata": {},
   "source": [
    "####  Northern Hemisphere - Cloudiness (%) vs. Latitude Linear Regression"
   ]
  },
  {
   "cell_type": "code",
   "execution_count": 29,
   "metadata": {},
   "outputs": [
    {
     "name": "stdout",
     "output_type": "stream",
     "text": [
      "The r-value is: 0.0020898727664228514\n"
     ]
    },
    {
     "data": {
      "image/png": "[encoded data removed]",
      "text/plain": [
       "<Figure size 432x288 with 1 Axes>"
      ]
     },
     "metadata": {
      "needs_background": "light"
     },
     "output_type": "display_data"
    }
   ],
   "source": []
  },
  {
   "cell_type": "markdown",
   "metadata": {},
   "source": [
    "####  Southern Hemisphere - Cloudiness (%) vs. Latitude Linear Regression"
   ]
  },
  {
   "cell_type": "code",
   "execution_count": 30,
   "metadata": {},
   "outputs": [
    {
     "name": "stdout",
     "output_type": "stream",
     "text": [
      "The r-value is: 0.0035263772085582894\n"
     ]
    },
    {
     "data": {
      "image/png": "[encoded data removed]",
      "text/plain": [
       "<Figure size 432x288 with 1 Axes>"
      ]
     },
     "metadata": {
      "needs_background": "light"
     },
     "output_type": "display_data"
    }
   ],
   "source": []
  },
  {
   "cell_type": "markdown",
   "metadata": {},
   "source": [
    "####  Northern Hemisphere - Wind Speed (mph) vs. Latitude Linear Regression"
   ]
  },
  {
   "cell_type": "code",
   "execution_count": 31,
   "metadata": {},
   "outputs": [
    {
     "name": "stdout",
     "output_type": "stream",
     "text": [
      "The r-value is: 0.04019723576144484\n"
     ]
    },
    {
     "data": {
      "image/png": "[encoded data removed]",
      "text/plain": [
       "<Figure size 432x288 with 1 Axes>"
      ]
     },
     "metadata": {
      "needs_background": "light"
     },
     "output_type": "display_data"
    }
   ],
   "source": []
  },
  {
   "cell_type": "markdown",
   "metadata": {},
   "source": [
    "####  Southern Hemisphere - Wind Speed (mph) vs. Latitude Linear Regression"
   ]
  },
  {
   "cell_type": "code",
   "execution_count": 32,
   "metadata": {},
   "outputs": [
    {
     "name": "stdout",
     "output_type": "stream",
     "text": [
      "The r-value is: 0.017128274759839232\n"
     ]
    },
    {
     "data": {
      "image/png": "[encoded data removed]",
      "text/plain": [
       "<Figure size 432x288 with 1 Axes>"
      ]
     },
     "metadata": {
      "needs_background": "light"
     },
     "output_type": "display_data"
    }
   ],
   "source": []
  },
  {
   "cell_type": "code",
   "execution_count": null,
   "metadata": {},
   "outputs": [],
   "source": []
  }
 ],
 "metadata": {
  "anaconda-cloud": {},
  "kernel_info": {
   "name": "python3"
  },
  "kernelspec": {
   "display_name": "Python 3",
   "language": "python",
   "name": "python3"
  },
  "language_info": {
   "codemirror_mode": {
    "name": "ipython",
    "version": 3
   },
   "file_extension": ".py",
   "mimetype": "text/x-python",
   "name": "python",
   "nbconvert_exporter": "python",
   "pygments_lexer": "ipython3",
   "version": "3.7.6"
  },
  "latex_envs": {
   "LaTeX_envs_menu_present": true,
   "autoclose": false,
   "autocomplete": true,
   "bibliofile": "biblio.bib",
   "cite_by": "apalike",
   "current_citInitial": 1,
   "eqLabelWithNumbers": true,
   "eqNumInitial": 1,
   "hotkeys": {
    "equation": "Ctrl-E",
    "itemize": "Ctrl-I"
   },
   "labels_anchors": false,
   "latex_user_defs": false,
   "report_style_numbering": false,
   "user_envs_cfg": false
  },
  "nteract": {
   "version": "0.12.3"
  }
 },
 "nbformat": 4,
 "nbformat_minor": 4
}
