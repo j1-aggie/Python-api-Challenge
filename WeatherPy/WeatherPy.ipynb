{
 "cells": [
  {
   "cell_type": "code",
   "execution_count": 1,
   "metadata": {},
   "outputs": [],
   "source": [
    "# WeatherPy\n",
    "\n",
    "#### Note\n",
    "# Instructions have been included for each segment. You do not have to follow them exactly, but they are included to help you think through the steps.\n",
    "\n",
    "#Dependencies \n",
    "import matplotlib.pyplot as plt\n",
    "import pandas as pd\n",
    "import numpy as np\n",
    "import requests\n",
    "import time\n",
    "from datetime import date\n",
    "from pprint import pprint\n",
    "from scipy.stats import linregress\n",
    "import scipy.stats as st\n",
    "\n",
    "# import API key\n",
    "from api_keys import weather_api_key\n",
    "from api_keys import g_key\n",
    "\n",
    "# incorporated citipy to determine city based on lat and long\n",
    "from citipy import citipy\n",
    "\n",
    "# output file (csv)\n",
    "#outputdatafile = \"Output_data/weather_data.csv\"\n",
    "\n",
    "# range of lat and long\n",
    "lat_range = (-90, 90)\n",
    "lng_range = (-180, 180)\n",
    "\n",
    "\n"
   ]
  },
  {
   "cell_type": "code",
   "execution_count": 2,
   "metadata": {},
   "outputs": [
    {
     "data": {
      "text/plain": [
       "624"
      ]
     },
     "execution_count": 2,
     "metadata": {},
     "output_type": "execute_result"
    }
   ],
   "source": [
    "## Generate Cities List\n",
    "\n",
    "lat_lngs = []\n",
    "cities = []\n",
    "\n",
    "# create a set of random lat and lng combinations\n",
    "lats = np.random.uniform(low=-90.000, high=90.000, size=1500)\n",
    "lngs = np.random.uniform(low=-180.000, high=180.000, size=1500)\n",
    "lat_lngs = zip(lats, lngs)\n",
    "\n",
    "# Identify nearest city for each lat, lng combination\n",
    "for lat_lng in lat_lngs:\n",
    "    city = citipy.nearest_city(lat_lng[0], lat_lng[1]).city_name\n",
    "    \n",
    "    # if the city is unique add to cities list\n",
    "    if city not in cities:\n",
    "        cities.append(city)\n",
    "        \n",
    "len(cities)"
   ]
  },
  {
   "cell_type": "code",
   "execution_count": 3,
   "metadata": {},
   "outputs": [
    {
     "data": {
      "text/plain": [
       "['chara',\n",
       " 'kapaa',\n",
       " 'solsvik',\n",
       " 'mys shmidta',\n",
       " 'vaini',\n",
       " 'butaritari',\n",
       " 'huanta',\n",
       " 'belushya guba',\n",
       " 'avarua',\n",
       " 'ruatoria',\n",
       " 'thompson',\n",
       " 'darhan',\n",
       " 'tumannyy',\n",
       " 'jardim',\n",
       " 'miracema do tocantins']"
      ]
     },
     "execution_count": 3,
     "metadata": {},
     "output_type": "execute_result"
    }
   ],
   "source": [
    "cities[0:15]"
   ]
  },
  {
   "cell_type": "markdown",
   "metadata": {},
   "source": [
    "### Perform API Calls\n",
    "* Perform a weather check on each city using a series of successive API calls.\n",
    "* Include a print log of each city as it'sbeing processed (with the city number and city name).\n"
   ]
  },
  {
   "cell_type": "code",
   "execution_count": 5,
   "metadata": {
    "scrolled": true
   },
   "outputs": [
    {
     "name": "stdout",
     "output_type": "stream",
     "text": [
      "http://api.openweathermap.org/data/2.5/weather?units=Imperial&APPID=486a3f0a342100df108bae3ce4d66f0e\n"
     ]
    }
   ],
   "source": [
    "# OpenWeatherMap API Key\n",
    "api_key = weather_api_key\n",
    "\n",
    "# Starting URL for Weather Map API Call\n",
    "url = 'http://api.openweathermap.org/data/2.5/weather?units=Imperial&APPID=' + api_key\n",
    "print(url)\n"
   ]
  },
  {
   "cell_type": "code",
   "execution_count": 6,
   "metadata": {},
   "outputs": [
    {
     "name": "stdout",
     "output_type": "stream",
     "text": [
      "------------------------------\n",
      "Start of Records\n",
      "------------------------------\n",
      "City number 1 of 624 complete. | Added chara\n",
      "City number 2 of 624 complete. | Added kapaa\n",
      "Missing data in city number 3 of 624. | Skipping solsvik\n",
      "Missing data in city number 4 of 624. | Skipping mys shmidta\n",
      "City number 5 of 624 complete. | Added vaini\n",
      "City number 6 of 624 complete. | Added butaritari\n",
      "City number 7 of 624 complete. | Added huanta\n",
      "Missing data in city number 8 of 624. | Skipping belushya guba\n",
      "City number 9 of 624 complete. | Added avarua\n",
      "Missing data in city number 10 of 624. | Skipping ruatoria\n",
      "City number 11 of 624 complete. | Added thompson\n",
      "City number 12 of 624 complete. | Added darhan\n",
      "Missing data in city number 13 of 624. | Skipping tumannyy\n",
      "City number 14 of 624 complete. | Added jardim\n",
      "City number 15 of 624 complete. | Added miracema do tocantins\n",
      "City number 16 of 624 complete. | Added nemuro\n",
      "City number 17 of 624 complete. | Added mattawa\n",
      "City number 18 of 624 complete. | Added mar del plata\n",
      "City number 19 of 624 complete. | Added port alfred\n",
      "City number 20 of 624 complete. | Added chokurdakh\n",
      "City number 21 of 624 complete. | Added hilo\n",
      "City number 22 of 624 complete. | Added leh\n",
      "City number 23 of 624 complete. | Added faanui\n",
      "City number 24 of 624 complete. | Added punta arenas\n",
      "City number 25 of 624 complete. | Added de land\n",
      "City number 26 of 624 complete. | Added bambous virieux\n",
      "City number 27 of 624 complete. | Added mecca\n",
      "City number 28 of 624 complete. | Added castro\n",
      "City number 29 of 624 complete. | Added flower mound\n",
      "City number 30 of 624 complete. | Added rikitea\n",
      "City number 31 of 624 complete. | Added ushuaia\n",
      "City number 32 of 624 complete. | Added port lincoln\n",
      "City number 33 of 624 complete. | Added kruisfontein\n",
      "City number 34 of 624 complete. | Added solnechnyy\n",
      "City number 35 of 624 complete. | Added arraial do cabo\n",
      "City number 36 of 624 complete. | Added high level\n",
      "City number 37 of 624 complete. | Added paracatu\n",
      "City number 38 of 624 complete. | Added new norfolk\n",
      "City number 39 of 624 complete. | Added praia\n",
      "City number 40 of 624 complete. | Added dikson\n",
      "City number 41 of 624 complete. | Added poum\n",
      "City number 42 of 624 complete. | Added tasiilaq\n",
      "City number 43 of 624 complete. | Added kodiak\n",
      "Missing data in city number 44 of 624. | Skipping vaitupu\n",
      "City number 45 of 624 complete. | Added bluff\n",
      "City number 46 of 624 complete. | Added shingu\n",
      "City number 47 of 624 complete. | Added port macquarie\n",
      "City number 48 of 624 complete. | Added walvis bay\n",
      "City number 49 of 624 complete. | Added ustek\n",
      "City number 50 of 624 complete. | Added ponta do sol\n",
      "City number 51 of 624 complete. | Added cabo san lucas\n",
      "City number 52 of 624 complete. | Added narsaq\n",
      "City number 53 of 624 complete. | Added tuktoyaktuk\n",
      "City number 54 of 624 complete. | Added cape town\n",
      "City number 55 of 624 complete. | Added sao filipe\n",
      "City number 56 of 624 complete. | Added otavi\n",
      "City number 57 of 624 complete. | Added albany\n",
      "City number 58 of 624 complete. | Added sharjah\n",
      "City number 59 of 624 complete. | Added san blas\n",
      "City number 60 of 624 complete. | Added stornoway\n",
      "City number 61 of 624 complete. | Added pacifica\n",
      "City number 62 of 624 complete. | Added santa rosa\n",
      "City number 63 of 624 complete. | Added cidreira\n",
      "City number 64 of 624 complete. | Added chico\n",
      "City number 65 of 624 complete. | Added mataura\n",
      "City number 66 of 624 complete. | Added atuona\n",
      "City number 67 of 624 complete. | Added makakilo city\n",
      "City number 68 of 624 complete. | Added fairbanks\n",
      "City number 69 of 624 complete. | Added barrow\n",
      "City number 70 of 624 complete. | Added ankang\n",
      "City number 71 of 624 complete. | Added kaitangata\n",
      "City number 72 of 624 complete. | Added lagoa\n",
      "City number 73 of 624 complete. | Added meulaboh\n",
      "City number 74 of 624 complete. | Added tiarei\n",
      "Missing data in city number 75 of 624. | Skipping amderma\n",
      "City number 76 of 624 complete. | Added nalut\n",
      "City number 77 of 624 complete. | Added clyde river\n",
      "City number 78 of 624 complete. | Added dali\n",
      "City number 79 of 624 complete. | Added montrose\n",
      "City number 80 of 624 complete. | Added upernavik\n",
      "Missing data in city number 81 of 624. | Skipping illoqqortoormiut\n",
      "Missing data in city number 82 of 624. | Skipping tsihombe\n",
      "City number 83 of 624 complete. | Added ilulissat\n",
      "City number 84 of 624 complete. | Added sibolga\n",
      "City number 85 of 624 complete. | Added victoria\n",
      "City number 86 of 624 complete. | Added fare\n",
      "Missing data in city number 87 of 624. | Skipping bur gabo\n",
      "Missing data in city number 88 of 624. | Skipping kegayli\n",
      "Missing data in city number 89 of 624. | Skipping taolanaro\n",
      "City number 90 of 624 complete. | Added qaanaaq\n",
      "City number 91 of 624 complete. | Added kansanshi\n",
      "City number 92 of 624 complete. | Added sopelana\n",
      "City number 93 of 624 complete. | Added zhigansk\n",
      "City number 94 of 624 complete. | Added hobart\n",
      "City number 95 of 624 complete. | Added alyangula\n",
      "City number 96 of 624 complete. | Added misratah\n",
      "City number 97 of 624 complete. | Added chuy\n",
      "City number 98 of 624 complete. | Added pangnirtung\n",
      "City number 99 of 624 complete. | Added saint george\n",
      "City number 100 of 624 complete. | Added salalah\n",
      "City number 101 of 624 complete. | Added esperance\n",
      "City number 102 of 624 complete. | Added isangel\n",
      "City number 103 of 624 complete. | Added mana\n",
      "Missing data in city number 104 of 624. | Skipping sentyabrskiy\n",
      "City number 105 of 624 complete. | Added hasaki\n",
      "City number 106 of 624 complete. | Added guerrero negro\n",
      "City number 107 of 624 complete. | Added hermanus\n",
      "City number 108 of 624 complete. | Added pitimbu\n",
      "City number 109 of 624 complete. | Added bathsheba\n",
      "Missing data in city number 110 of 624. | Skipping attawapiskat\n",
      "City number 111 of 624 complete. | Added dingle\n",
      "City number 112 of 624 complete. | Added touros\n",
      "City number 113 of 624 complete. | Added camocim\n",
      "City number 114 of 624 complete. | Added harper\n",
      "City number 115 of 624 complete. | Added sal rei\n",
      "City number 116 of 624 complete. | Added tilichiki\n",
      "City number 117 of 624 complete. | Added leningradskiy\n",
      "City number 118 of 624 complete. | Added plouzane\n",
      "City number 119 of 624 complete. | Added iqaluit\n",
      "City number 120 of 624 complete. | Added okhotsk\n",
      "City number 121 of 624 complete. | Added shache\n",
      "City number 122 of 624 complete. | Added alice springs\n",
      "Missing data in city number 123 of 624. | Skipping satitoa\n",
      "City number 124 of 624 complete. | Added lavrentiya\n",
      "City number 125 of 624 complete. | Added ribeira grande\n",
      "City number 126 of 624 complete. | Added busselton\n",
      "City number 127 of 624 complete. | Added saint-philippe\n",
      "City number 128 of 624 complete. | Added kolondieba\n",
      "City number 129 of 624 complete. | Added nkhata bay\n",
      "City number 130 of 624 complete. | Added geraldton\n",
      "City number 131 of 624 complete. | Added souillac\n",
      "City number 132 of 624 complete. | Added nikolskoye\n",
      "City number 133 of 624 complete. | Added torbat-e jam\n",
      "Missing data in city number 134 of 624. | Skipping ondorhaan\n",
      "City number 135 of 624 complete. | Added karasjok\n",
      "City number 136 of 624 complete. | Added luderitz\n",
      "City number 137 of 624 complete. | Added ostrovnoy\n",
      "City number 138 of 624 complete. | Added gamba\n",
      "City number 139 of 624 complete. | Added padang\n",
      "City number 140 of 624 complete. | Added lompoc\n",
      "City number 141 of 624 complete. | Added hambantota\n",
      "Missing data in city number 142 of 624. | Skipping nizhneyansk\n",
      "City number 143 of 624 complete. | Added constantine\n",
      "City number 144 of 624 complete. | Added georgetown\n",
      "City number 145 of 624 complete. | Added kenai\n",
      "Missing data in city number 146 of 624. | Skipping palabuhanratu\n",
      "City number 147 of 624 complete. | Added talnakh\n",
      "City number 148 of 624 complete. | Added banda aceh\n",
      "City number 149 of 624 complete. | Added sioux lookout\n",
      "Missing data in city number 150 of 624. | Skipping warqla\n",
      "City number 151 of 624 complete. | Added lorengau\n",
      "City number 152 of 624 complete. | Added agucadoura\n",
      "City number 153 of 624 complete. | Added marzuq\n",
      "City number 154 of 624 complete. | Added gogrial\n",
      "City number 155 of 624 complete. | Added yicheng\n",
      "City number 156 of 624 complete. | Added bredasdorp\n",
      "City number 157 of 624 complete. | Added mount gambier\n",
      "City number 158 of 624 complete. | Added keffi\n",
      "City number 159 of 624 complete. | Added oranjestad\n",
      "City number 160 of 624 complete. | Added saldanha\n",
      "City number 161 of 624 complete. | Added rawson\n",
      "City number 162 of 624 complete. | Added ponta delgada\n",
      "City number 163 of 624 complete. | Added bella union\n",
      "City number 164 of 624 complete. | Added puerto ayora\n",
      "City number 165 of 624 complete. | Added sovetskiy\n",
      "City number 166 of 624 complete. | Added te anau\n",
      "City number 167 of 624 complete. | Added loreto\n",
      "City number 168 of 624 complete. | Added naron\n",
      "City number 169 of 624 complete. | Added oranjemund\n",
      "City number 170 of 624 complete. | Added evensk\n",
      "City number 171 of 624 complete. | Added san policarpo\n",
      "City number 172 of 624 complete. | Added matara\n",
      "City number 173 of 624 complete. | Added lebu\n",
      "City number 174 of 624 complete. | Added nanortalik\n",
      "City number 175 of 624 complete. | Added husavik\n",
      "City number 176 of 624 complete. | Added delijan\n",
      "City number 177 of 624 complete. | Added mahebourg\n",
      "City number 178 of 624 complete. | Added port-gentil\n",
      "City number 179 of 624 complete. | Added dolores\n",
      "City number 180 of 624 complete. | Added lar\n",
      "City number 181 of 624 complete. | Added aklavik\n",
      "City number 182 of 624 complete. | Added jamestown\n",
      "City number 183 of 624 complete. | Added itarema\n",
      "City number 184 of 624 complete. | Added grenfell\n",
      "City number 185 of 624 complete. | Added manicore\n",
      "City number 186 of 624 complete. | Added tommot\n",
      "City number 187 of 624 complete. | Added nizwa\n",
      "City number 188 of 624 complete. | Added khartoum\n",
      "City number 189 of 624 complete. | Added san cristobal\n",
      "City number 190 of 624 complete. | Added mahanoro\n",
      "City number 191 of 624 complete. | Added yellowknife\n",
      "City number 192 of 624 complete. | Added brusque\n",
      "City number 193 of 624 complete. | Added bethel\n",
      "City number 194 of 624 complete. | Added khokhryaki\n",
      "City number 195 of 624 complete. | Added makat\n",
      "City number 196 of 624 complete. | Added copiapo\n",
      "City number 197 of 624 complete. | Added deputatskiy\n",
      "City number 198 of 624 complete. | Added floriano\n",
      "City number 199 of 624 complete. | Added lamu\n",
      "City number 200 of 624 complete. | Added buala\n",
      "City number 201 of 624 complete. | Added alakurtti\n",
      "Missing data in city number 202 of 624. | Skipping samalaeulu\n",
      "City number 203 of 624 complete. | Added pantelimon\n",
      "City number 204 of 624 complete. | Added east london\n",
      "City number 205 of 624 complete. | Added the valley\n",
      "Missing data in city number 206 of 624. | Skipping mentok\n",
      "City number 207 of 624 complete. | Added severo-kurilsk\n",
      "City number 208 of 624 complete. | Added vangaindrano\n",
      "City number 209 of 624 complete. | Added batemans bay\n",
      "City number 210 of 624 complete. | Added tharad\n",
      "City number 211 of 624 complete. | Added tigzirt\n",
      "City number 212 of 624 complete. | Added north las vegas\n",
      "City number 213 of 624 complete. | Added arman\n",
      "City number 214 of 624 complete. | Added klaksvik\n",
      "City number 215 of 624 complete. | Added lerwick\n",
      "Missing data in city number 216 of 624. | Skipping phnum penh\n",
      "City number 217 of 624 complete. | Added vestmannaeyjar\n",
      "City number 218 of 624 complete. | Added vila do maio\n",
      "City number 219 of 624 complete. | Added yar-sale\n",
      "City number 220 of 624 complete. | Added kavieng\n",
      "City number 221 of 624 complete. | Added oga\n",
      "City number 222 of 624 complete. | Added nizhnevartovsk\n",
      "City number 223 of 624 complete. | Added carnarvon\n",
      "City number 224 of 624 complete. | Added pevek\n",
      "City number 225 of 624 complete. | Added ambilobe\n",
      "City number 226 of 624 complete. | Added coahuayana\n",
      "City number 227 of 624 complete. | Added bonnyville\n",
      "City number 228 of 624 complete. | Added berlevag\n",
      "City number 229 of 624 complete. | Added morehead\n",
      "Missing data in city number 230 of 624. | Skipping karaul\n",
      "City number 231 of 624 complete. | Added torbay\n",
      "City number 232 of 624 complete. | Added caravelas\n",
      "City number 233 of 624 complete. | Added kathmandu\n",
      "City number 234 of 624 complete. | Added virginia beach\n",
      "City number 235 of 624 complete. | Added rorvik\n",
      "City number 236 of 624 complete. | Added bilma\n",
      "City number 237 of 624 complete. | Added comodoro rivadavia\n",
      "City number 238 of 624 complete. | Added omboue\n",
      "City number 239 of 624 complete. | Added benghazi\n",
      "City number 240 of 624 complete. | Added fujin\n",
      "City number 241 of 624 complete. | Added airai\n",
      "City number 242 of 624 complete. | Added shymkent\n",
      "City number 243 of 624 complete. | Added eucaliptus\n",
      "City number 244 of 624 complete. | Added doha\n",
      "City number 245 of 624 complete. | Added tura\n",
      "City number 246 of 624 complete. | Added longyearbyen\n",
      "City number 247 of 624 complete. | Added aswan\n",
      "City number 248 of 624 complete. | Added suntar\n",
      "City number 249 of 624 complete. | Added mayo\n",
      "City number 250 of 624 complete. | Added nisia floresta\n",
      "City number 251 of 624 complete. | Added portland\n",
      "City number 252 of 624 complete. | Added atar\n",
      "City number 253 of 624 complete. | Added francisco sa\n",
      "City number 254 of 624 complete. | Added cotonou\n",
      "City number 255 of 624 complete. | Added korla\n",
      "City number 256 of 624 complete. | Added kendari\n",
      "City number 257 of 624 complete. | Added garissa\n",
      "City number 258 of 624 complete. | Added tuatapere\n",
      "Missing data in city number 259 of 624. | Skipping marcona\n",
      "City number 260 of 624 complete. | Added suamico\n",
      "City number 261 of 624 complete. | Added davila\n",
      "Missing data in city number 262 of 624. | Skipping samusu\n",
      "City number 263 of 624 complete. | Added jutai\n",
      "City number 264 of 624 complete. | Added bambanglipuro\n",
      "City number 265 of 624 complete. | Added tucuman\n",
      "City number 266 of 624 complete. | Added sorland\n",
      "City number 267 of 624 complete. | Added vardo\n",
      "City number 268 of 624 complete. | Added kaabong\n",
      "City number 269 of 624 complete. | Added boende\n",
      "City number 270 of 624 complete. | Added necochea\n",
      "City number 271 of 624 complete. | Added otane\n",
      "City number 272 of 624 complete. | Added sisimiut\n",
      "City number 273 of 624 complete. | Added rabo de peixe\n",
      "City number 274 of 624 complete. | Added tonj\n",
      "City number 275 of 624 complete. | Added mastic beach\n",
      "City number 276 of 624 complete. | Added la asuncion\n",
      "City number 277 of 624 complete. | Added itamaraju\n",
      "City number 278 of 624 complete. | Added margate\n",
      "City number 279 of 624 complete. | Added hofn\n",
      "City number 280 of 624 complete. | Added esso\n",
      "City number 281 of 624 complete. | Added pacific grove\n",
      "City number 282 of 624 complete. | Added komsomolskiy\n",
      "City number 283 of 624 complete. | Added fortuna\n",
      "City number 284 of 624 complete. | Added baykit\n",
      "City number 285 of 624 complete. | Added conway\n",
      "City number 286 of 624 complete. | Added qujing\n",
      "City number 287 of 624 complete. | Added los llanos de aridane\n",
      "City number 288 of 624 complete. | Added manado\n",
      "City number 289 of 624 complete. | Added naze\n",
      "City number 290 of 624 complete. | Added yulara\n",
      "City number 291 of 624 complete. | Added turochak\n",
      "City number 292 of 624 complete. | Added richards bay\n",
      "City number 293 of 624 complete. | Added narrabri\n",
      "City number 294 of 624 complete. | Added ancud\n",
      "City number 295 of 624 complete. | Added waterloo\n",
      "City number 296 of 624 complete. | Added guadalupe y calvo\n",
      "City number 297 of 624 complete. | Added marawi\n",
      "City number 298 of 624 complete. | Added nome\n",
      "City number 299 of 624 complete. | Added la ronge\n",
      "City number 300 of 624 complete. | Added akureyri\n",
      "City number 301 of 624 complete. | Added progreso\n",
      "City number 302 of 624 complete. | Added coihaique\n",
      "City number 303 of 624 complete. | Added sur\n",
      "Missing data in city number 304 of 624. | Skipping brajrajnagar\n",
      "City number 305 of 624 complete. | Added egvekinot\n",
      "City number 306 of 624 complete. | Added ulaangom\n",
      "City number 307 of 624 complete. | Added alofi\n",
      "City number 308 of 624 complete. | Added tezu\n",
      "City number 309 of 624 complete. | Added bengkulu\n",
      "City number 310 of 624 complete. | Added hithadhoo\n",
      "City number 311 of 624 complete. | Added constitucion\n",
      "City number 312 of 624 complete. | Added peniche\n",
      "City number 313 of 624 complete. | Added ballina\n",
      "Missing data in city number 314 of 624. | Skipping tidore\n",
      "City number 315 of 624 complete. | Added vila velha\n",
      "City number 316 of 624 complete. | Added vanimo\n",
      "Missing data in city number 317 of 624. | Skipping bargal\n",
      "City number 318 of 624 complete. | Added esna\n",
      "City number 319 of 624 complete. | Added morag\n",
      "City number 320 of 624 complete. | Added shimoda\n",
      "City number 321 of 624 complete. | Added jaciara\n",
      "City number 322 of 624 complete. | Added spring\n",
      "City number 323 of 624 complete. | Added cusuna\n",
      "City number 324 of 624 complete. | Added terrace\n",
      "City number 325 of 624 complete. | Added drayton valley\n",
      "City number 326 of 624 complete. | Added lexington\n",
      "City number 327 of 624 complete. | Added guiren\n",
      "City number 328 of 624 complete. | Added uray\n",
      "City number 329 of 624 complete. | Added haines junction\n",
      "City number 330 of 624 complete. | Added tateyama\n",
      "Missing data in city number 331 of 624. | Skipping barentsburg\n",
      "Missing data in city number 332 of 624. | Skipping hvammstangi\n",
      "City number 333 of 624 complete. | Added khatanga\n",
      "City number 334 of 624 complete. | Added romblon\n",
      "City number 335 of 624 complete. | Added bassila\n",
      "City number 336 of 624 complete. | Added nago\n",
      "City number 337 of 624 complete. | Added vila franca do campo\n",
      "City number 338 of 624 complete. | Added urusha\n",
      "City number 339 of 624 complete. | Added pecos\n",
      "City number 340 of 624 complete. | Added taman\n",
      "City number 341 of 624 complete. | Added ishinomaki\n",
      "City number 342 of 624 complete. | Added hope\n",
      "City number 343 of 624 complete. | Added apache junction\n",
      "City number 344 of 624 complete. | Added rehoboth\n",
      "City number 345 of 624 complete. | Added araouane\n",
      "Missing data in city number 346 of 624. | Skipping saleaula\n",
      "City number 347 of 624 complete. | Added dalmatovo\n",
      "City number 348 of 624 complete. | Added artvin\n",
      "City number 349 of 624 complete. | Added teguise\n",
      "City number 350 of 624 complete. | Added provideniya\n",
      "City number 351 of 624 complete. | Added vostochnyy\n",
      "City number 352 of 624 complete. | Added porto empedocle\n",
      "City number 353 of 624 complete. | Added muisne\n",
      "City number 354 of 624 complete. | Added belaya gora\n",
      "City number 355 of 624 complete. | Added lillooet\n",
      "City number 356 of 624 complete. | Added thinadhoo\n",
      "City number 357 of 624 complete. | Added mayumba\n",
      "City number 358 of 624 complete. | Added inuvik\n",
      "City number 359 of 624 complete. | Added sabha\n",
      "Missing data in city number 360 of 624. | Skipping grand river south east\n",
      "City number 361 of 624 complete. | Added mandalgovi\n",
      "City number 362 of 624 complete. | Added bemidji\n",
      "City number 363 of 624 complete. | Added saskylakh\n",
      "City number 364 of 624 complete. | Added myitkyina\n",
      "City number 365 of 624 complete. | Added pizarro\n",
      "City number 366 of 624 complete. | Added codrington\n",
      "City number 367 of 624 complete. | Added chumikan\n",
      "City number 368 of 624 complete. | Added kazachinskoye\n",
      "City number 369 of 624 complete. | Added kavaratti\n",
      "City number 370 of 624 complete. | Added cherskiy\n",
      "City number 371 of 624 complete. | Added xuzhou\n",
      "City number 372 of 624 complete. | Added puerto leguizamo\n",
      "City number 373 of 624 complete. | Added asau\n",
      "City number 374 of 624 complete. | Added xuddur\n",
      "City number 375 of 624 complete. | Added gornopravdinsk\n",
      "City number 376 of 624 complete. | Added brae\n",
      "City number 377 of 624 complete. | Added isabela\n",
      "City number 378 of 624 complete. | Added cacule\n",
      "City number 379 of 624 complete. | Added zhezkazgan\n",
      "City number 380 of 624 complete. | Added drochia\n",
      "City number 381 of 624 complete. | Added nishihara\n",
      "City number 382 of 624 complete. | Added bocana de paiwas\n",
      "City number 383 of 624 complete. | Added karratha\n",
      "Missing data in city number 384 of 624. | Skipping nykobing\n",
      "City number 385 of 624 complete. | Added pervomayskiy\n",
      "City number 386 of 624 complete. | Added gasa\n",
      "City number 387 of 624 complete. | Added belen\n",
      "City number 388 of 624 complete. | Added vaitape\n",
      "City number 389 of 624 complete. | Added marsa matruh\n",
      "City number 390 of 624 complete. | Added dorfen\n",
      "City number 391 of 624 complete. | Added aripuana\n",
      "City number 392 of 624 complete. | Added calama\n",
      "City number 393 of 624 complete. | Added katsuura\n",
      "City number 394 of 624 complete. | Added montepuez\n",
      "City number 395 of 624 complete. | Added pisco\n",
      "City number 396 of 624 complete. | Added ornskoldsvik\n",
      "City number 397 of 624 complete. | Added warrington\n",
      "City number 398 of 624 complete. | Added tamiahua\n",
      "City number 399 of 624 complete. | Added paamiut\n",
      "City number 400 of 624 complete. | Added llangefni\n",
      "City number 401 of 624 complete. | Added port blair\n",
      "City number 402 of 624 complete. | Added verkhoyansk\n",
      "City number 403 of 624 complete. | Added sangolqui\n",
      "City number 404 of 624 complete. | Added estelle\n",
      "City number 405 of 624 complete. | Added palmer\n",
      "City number 406 of 624 complete. | Added arlit\n",
      "City number 407 of 624 complete. | Added romny\n",
      "City number 408 of 624 complete. | Added fuling\n",
      "Missing data in city number 409 of 624. | Skipping mocambique\n",
      "City number 410 of 624 complete. | Added coromandel\n",
      "City number 411 of 624 complete. | Added lazi\n",
      "City number 412 of 624 complete. | Added lakatoro\n",
      "City number 413 of 624 complete. | Added biak\n",
      "City number 414 of 624 complete. | Added beroroha\n",
      "City number 415 of 624 complete. | Added loubomo\n",
      "City number 416 of 624 complete. | Added jacksonville\n",
      "City number 417 of 624 complete. | Added ochakiv\n",
      "City number 418 of 624 complete. | Added nelson bay\n",
      "City number 419 of 624 complete. | Added grand gaube\n",
      "City number 420 of 624 complete. | Added tautira\n",
      "City number 421 of 624 complete. | Added sinnamary\n",
      "City number 422 of 624 complete. | Added saint-ambroise\n",
      "City number 423 of 624 complete. | Added abengourou\n",
      "Missing data in city number 424 of 624. | Skipping lolua\n",
      "City number 425 of 624 complete. | Added amahai\n",
      "City number 426 of 624 complete. | Added mahibadhoo\n",
      "City number 427 of 624 complete. | Added cap malheureux\n",
      "City number 428 of 624 complete. | Added georgiyevka\n",
      "City number 429 of 624 complete. | Added noumea\n",
      "Missing data in city number 430 of 624. | Skipping kuche\n",
      "City number 431 of 624 complete. | Added scarborough\n",
      "City number 432 of 624 complete. | Added saint anthony\n",
      "City number 433 of 624 complete. | Added kvarkeno\n",
      "Missing data in city number 434 of 624. | Skipping umzimvubu\n",
      "City number 435 of 624 complete. | Added brokopondo\n",
      "City number 436 of 624 complete. | Added waverly\n",
      "City number 437 of 624 complete. | Added porto torres\n",
      "City number 438 of 624 complete. | Added eenhana\n",
      "City number 439 of 624 complete. | Added anadyr\n",
      "City number 440 of 624 complete. | Added henderson\n",
      "City number 441 of 624 complete. | Added tiksi\n",
      "City number 442 of 624 complete. | Added rockland\n",
      "City number 443 of 624 complete. | Added vilhena\n",
      "City number 444 of 624 complete. | Added whitehorse\n",
      "City number 445 of 624 complete. | Added ostersund\n",
      "City number 446 of 624 complete. | Added kunzelsau\n",
      "City number 447 of 624 complete. | Added zhuanghe\n",
      "City number 448 of 624 complete. | Added samarai\n",
      "City number 449 of 624 complete. | Added kloulklubed\n",
      "City number 450 of 624 complete. | Added salinas\n",
      "City number 451 of 624 complete. | Added ketchikan\n",
      "City number 452 of 624 complete. | Added feldkirchen\n",
      "City number 453 of 624 complete. | Added jackson\n",
      "City number 454 of 624 complete. | Added port hardy\n",
      "City number 455 of 624 complete. | Added aden\n",
      "City number 456 of 624 complete. | Added labuhan\n",
      "City number 457 of 624 complete. | Added amaraji\n",
      "City number 458 of 624 complete. | Added moerai\n",
      "City number 459 of 624 complete. | Added yugorsk\n",
      "Missing data in city number 460 of 624. | Skipping galiwinku\n",
      "City number 461 of 624 complete. | Added voloshka\n",
      "City number 462 of 624 complete. | Added alekseyevsk\n",
      "City number 463 of 624 complete. | Added loiza\n",
      "City number 464 of 624 complete. | Added akyab\n",
      "City number 465 of 624 complete. | Added molepolole\n",
      "City number 466 of 624 complete. | Added morros\n",
      "City number 467 of 624 complete. | Added uni\n",
      "Missing data in city number 468 of 624. | Skipping phan rang\n",
      "City number 469 of 624 complete. | Added manoel urbano\n",
      "City number 470 of 624 complete. | Added angoche\n",
      "City number 471 of 624 complete. | Added port augusta\n",
      "City number 472 of 624 complete. | Added horki\n",
      "City number 473 of 624 complete. | Added namibe\n",
      "City number 474 of 624 complete. | Added cayenne\n",
      "City number 475 of 624 complete. | Added sitka\n",
      "City number 476 of 624 complete. | Added mangaratiba\n",
      "City number 477 of 624 complete. | Added mayya\n",
      "City number 478 of 624 complete. | Added mount isa\n",
      "City number 479 of 624 complete. | Added new richmond\n",
      "City number 480 of 624 complete. | Added kaukauna\n",
      "City number 481 of 624 complete. | Added oksfjord\n",
      "City number 482 of 624 complete. | Added ust-kulom\n",
      "City number 483 of 624 complete. | Added rocha\n",
      "City number 484 of 624 complete. | Added basco\n",
      "City number 485 of 624 complete. | Added kattivakkam\n",
      "City number 486 of 624 complete. | Added batagay\n",
      "City number 487 of 624 complete. | Added mbale\n",
      "City number 488 of 624 complete. | Added pokaran\n",
      "City number 489 of 624 complete. | Added umiray\n",
      "City number 490 of 624 complete. | Added las tunas\n",
      "City number 491 of 624 complete. | Added kamenka\n",
      "City number 492 of 624 complete. | Added lisieux\n",
      "City number 493 of 624 complete. | Added saint pete beach\n",
      "City number 494 of 624 complete. | Added thunder bay\n",
      "City number 495 of 624 complete. | Added hojai\n",
      "City number 496 of 624 complete. | Added taraz\n",
      "City number 497 of 624 complete. | Added oktyabrskiy\n",
      "City number 498 of 624 complete. | Added novyy nekouz\n",
      "Missing data in city number 499 of 624. | Skipping nguiu\n",
      "City number 500 of 624 complete. | Added imeni poliny osipenko\n",
      "City number 501 of 624 complete. | Added terebovlya\n",
      "City number 502 of 624 complete. | Added maniitsoq\n",
      "City number 503 of 624 complete. | Added zlotow\n",
      "City number 504 of 624 complete. | Added natal\n",
      "City number 505 of 624 complete. | Added jaguaruna\n",
      "City number 506 of 624 complete. | Added lagos\n",
      "City number 507 of 624 complete. | Added kutum\n",
      "Missing data in city number 508 of 624. | Skipping barbar\n",
      "City number 509 of 624 complete. | Added hihya\n",
      "City number 510 of 624 complete. | Added sao jose da coroa grande\n",
      "City number 511 of 624 complete. | Added igrim\n",
      "City number 512 of 624 complete. | Added balkhash\n",
      "City number 513 of 624 complete. | Added magadi\n",
      "City number 514 of 624 complete. | Added klang\n",
      "City number 515 of 624 complete. | Added drumheller\n",
      "City number 516 of 624 complete. | Added ekhabi\n",
      "City number 517 of 624 complete. | Added upata\n",
      "City number 518 of 624 complete. | Added peabiru\n",
      "City number 519 of 624 complete. | Added mezen\n",
      "City number 520 of 624 complete. | Added barda\n",
      "City number 521 of 624 complete. | Added cumra\n",
      "City number 522 of 624 complete. | Added sanok\n",
      "City number 523 of 624 complete. | Added bouna\n",
      "City number 524 of 624 complete. | Added ferrol\n",
      "City number 525 of 624 complete. | Added daru\n",
      "City number 526 of 624 complete. | Added dembi dolo\n",
      "City number 527 of 624 complete. | Added yumen\n",
      "City number 528 of 624 complete. | Added dzhankoy\n",
      "City number 529 of 624 complete. | Added la sarre\n",
      "Missing data in city number 530 of 624. | Skipping afgoye\n",
      "Missing data in city number 531 of 624. | Skipping mrirt\n",
      "City number 532 of 624 complete. | Added garden city\n",
      "City number 533 of 624 complete. | Added lucapa\n",
      "City number 534 of 624 complete. | Added carlagan\n",
      "Missing data in city number 535 of 624. | Skipping borlange\n",
      "City number 536 of 624 complete. | Added maceio\n",
      "City number 537 of 624 complete. | Added borogontsy\n",
      "City number 538 of 624 complete. | Added sira\n",
      "City number 539 of 624 complete. | Added mehamn\n",
      "City number 540 of 624 complete. | Added miri\n",
      "City number 541 of 624 complete. | Added elko\n",
      "City number 542 of 624 complete. | Added kargasok\n",
      "City number 543 of 624 complete. | Added warri\n",
      "City number 544 of 624 complete. | Added burns lake\n",
      "City number 545 of 624 complete. | Added horta\n",
      "City number 546 of 624 complete. | Added port elizabeth\n",
      "City number 547 of 624 complete. | Added minot\n",
      "City number 548 of 624 complete. | Added milkovo\n",
      "City number 549 of 624 complete. | Added andenes\n",
      "City number 550 of 624 complete. | Added baker city\n",
      "City number 551 of 624 complete. | Added mogadishu\n",
      "City number 552 of 624 complete. | Added hualmay\n",
      "City number 553 of 624 complete. | Added karoi\n",
      "City number 554 of 624 complete. | Added tazovskiy\n",
      "City number 555 of 624 complete. | Added sanmenxia\n",
      "City number 556 of 624 complete. | Added riyadh\n",
      "City number 557 of 624 complete. | Added nunoa\n",
      "City number 558 of 624 complete. | Added yemtsa\n",
      "City number 559 of 624 complete. | Added dakar\n",
      "City number 560 of 624 complete. | Added sterling\n",
      "City number 561 of 624 complete. | Added emerald\n",
      "City number 562 of 624 complete. | Added troitskoye\n",
      "City number 563 of 624 complete. | Added monopoli\n",
      "City number 564 of 624 complete. | Added yakhroma\n",
      "City number 565 of 624 complete. | Added havre-saint-pierre\n",
      "Missing data in city number 566 of 624. | Skipping tasbuget\n",
      "City number 567 of 624 complete. | Added beloha\n",
      "City number 568 of 624 complete. | Added carutapera\n",
      "City number 569 of 624 complete. | Added hamilton\n",
      "City number 570 of 624 complete. | Added mehran\n",
      "City number 571 of 624 complete. | Added micheweni\n",
      "City number 572 of 624 complete. | Added imeni babushkina\n",
      "City number 573 of 624 complete. | Added jiancheng\n",
      "City number 574 of 624 complete. | Added lahan\n",
      "City number 575 of 624 complete. | Added dauphin\n",
      "City number 576 of 624 complete. | Added marsh harbour\n",
      "Missing data in city number 577 of 624. | Skipping ksenyevka\n",
      "City number 578 of 624 complete. | Added ngong\n",
      "City number 579 of 624 complete. | Added middelfart\n",
      "City number 580 of 624 complete. | Added nizhniy baskunchak\n",
      "City number 581 of 624 complete. | Added viedma\n",
      "City number 582 of 624 complete. | Added worthington\n",
      "City number 583 of 624 complete. | Added kudahuvadhoo\n",
      "City number 584 of 624 complete. | Added santa marta\n",
      "City number 585 of 624 complete. | Added athens\n",
      "City number 586 of 624 complete. | Added le vauclin\n",
      "City number 587 of 624 complete. | Added zhigalovo\n",
      "City number 588 of 624 complete. | Added havelock\n",
      "City number 589 of 624 complete. | Added tevriz\n",
      "City number 590 of 624 complete. | Added ixtapa\n",
      "City number 591 of 624 complete. | Added svetlogorsk\n",
      "Missing data in city number 592 of 624. | Skipping karkaralinsk\n",
      "Missing data in city number 593 of 624. | Skipping bocaranga\n",
      "City number 594 of 624 complete. | Added piacabucu\n",
      "City number 595 of 624 complete. | Added itamarandiba\n",
      "City number 596 of 624 complete. | Added eirunepe\n",
      "City number 597 of 624 complete. | Added sola\n",
      "City number 598 of 624 complete. | Added kaduna\n",
      "City number 599 of 624 complete. | Added bahia blanca\n",
      "City number 600 of 624 complete. | Added sao francisco de paula\n",
      "City number 601 of 624 complete. | Added seoul\n",
      "City number 602 of 624 complete. | Added capinopolis\n",
      "City number 603 of 624 complete. | Added cravo norte\n",
      "City number 604 of 624 complete. | Added chardara\n",
      "City number 605 of 624 complete. | Added abha\n",
      "City number 606 of 624 complete. | Added merauke\n",
      "City number 607 of 624 complete. | Added fort nelson\n",
      "City number 608 of 624 complete. | Added castel san pietro terme\n",
      "City number 609 of 624 complete. | Added sokoto\n",
      "City number 610 of 624 complete. | Added murakeresztur\n",
      "City number 611 of 624 complete. | Added westport\n",
      "City number 612 of 624 complete. | Added alpena\n",
      "City number 613 of 624 complete. | Added amudat\n",
      "City number 614 of 624 complete. | Added halifax\n",
      "City number 615 of 624 complete. | Added mudgee\n",
      "City number 616 of 624 complete. | Added hirara\n",
      "City number 617 of 624 complete. | Added salinopolis\n",
      "City number 618 of 624 complete. | Added dunda\n",
      "City number 619 of 624 complete. | Added ojinaga\n",
      "City number 620 of 624 complete. | Added puerto baquerizo moreno\n",
      "City number 621 of 624 complete. | Added kokstad\n",
      "City number 622 of 624 complete. | Added bonfim\n",
      "Missing data in city number 623 of 624. | Skipping falealupo\n",
      "City number 624 of 624 complete. | Added wagga wagga\n",
      "------------------------------\n",
      "End of Records\n",
      "------------------------------\n"
     ]
    }
   ],
   "source": [
    "#Initiate counter for city number below\n",
    "number = 1\n",
    "\n",
    "#Lists for holding required items\n",
    "city_name = []\n",
    "lat = []\n",
    "lng = []\n",
    "temp = []\n",
    "humid = []\n",
    "clouds = []\n",
    "wind = []\n",
    "dates = []\n",
    "countries = []\n",
    "\n",
    "\n",
    "#Loop through each city, extract required items, and print result\n",
    "print('------------------------------')\n",
    "print('Start of Records')\n",
    "print('------------------------------')\n",
    "\n",
    "for city in cities:\n",
    "    try:\n",
    "        city_data = (requests.get(url + '&q=' + city)).json()\n",
    "        city_name.append(city_data['name'])\n",
    "        lat.append(city_data['coord']['lat'])\n",
    "        lng.append(city_data['coord']['lon'])\n",
    "        temp.append(city_data['main']['temp'])\n",
    "        humid.append(city_data['main']['humidity'])\n",
    "        clouds.append(city_data['clouds']['all'])\n",
    "        wind.append(city_data['wind']['speed'])\n",
    "        dates.append(city_data['dt'])\n",
    "        countries.append(city_data['sys']['country'])\n",
    "        \n",
    "        print(f'City number {number} of {len(cities)} complete. | Added {city}')\n",
    "        number = number + 1\n",
    "    \n",
    "    except KeyError:\n",
    "        print(f'Missing data in city number {number} of {len(cities)}. | Skipping {city}')\n",
    "        number = number + 1\n",
    "        \n",
    "print('------------------------------')\n",
    "print('End of Records')\n",
    "print('------------------------------')"
   ]
  },
  {
   "cell_type": "code",
   "execution_count": 8,
   "metadata": {},
   "outputs": [
    {
     "data": {
      "text/plain": [
       "13"
      ]
     },
     "execution_count": 8,
     "metadata": {},
     "output_type": "execute_result"
    }
   ],
   "source": [
    "len(city_data)"
   ]
  },
  {
   "cell_type": "markdown",
   "metadata": {},
   "source": [
    "### Convert Raw Data to DataFrame\n",
    "* Export the city data into a .csv.\n",
    "* Display the DataFrame"
   ]
  },
  {
   "cell_type": "code",
   "execution_count": 9,
   "metadata": {},
   "outputs": [
    {
     "data": {
      "text/plain": [
       "City          575\n",
       "Latitude      575\n",
       "Longitude     575\n",
       "Max Temp      575\n",
       "Humidity      575\n",
       "Cloudiness    575\n",
       "Wind Speed    575\n",
       "Date          575\n",
       "Country       575\n",
       "dtype: int64"
      ]
     },
     "execution_count": 9,
     "metadata": {},
     "output_type": "execute_result"
    }
   ],
   "source": [
    "weather_dict = {\n",
    "    \n",
    "    \"City\": city_name, \n",
    "    \"Latitude\": lat, \n",
    "    \"Longitude\": lng,\n",
    "    \"Max Temp\": temp,\n",
    "    \"Humidity\": humid,\n",
    "    \"Cloudiness\": clouds, \n",
    "    \"Wind Speed\": wind,\n",
    "    \"Date\":dates,\n",
    "    \"Country\":countries\n",
    "   \n",
    "    \n",
    "}\n",
    "\n",
    "weather_data = pd.DataFrame(weather_dict)\n",
    "weather_data.count()\n"
   ]
  },
  {
   "cell_type": "code",
   "execution_count": 10,
   "metadata": {},
   "outputs": [
    {
     "data": {
      "text/html": [
       "<div>\n",
       "<style scoped>\n",
       "    .dataframe tbody tr th:only-of-type {\n",
       "        vertical-align: middle;\n",
       "    }\n",
       "\n",
       "    .dataframe tbody tr th {\n",
       "        vertical-align: top;\n",
       "    }\n",
       "\n",
       "    .dataframe thead th {\n",
       "        text-align: right;\n",
       "    }\n",
       "</style>\n",
       "<table border=\"1\" class=\"dataframe\">\n",
       "  <thead>\n",
       "    <tr style=\"text-align: right;\">\n",
       "      <th></th>\n",
       "      <th>City</th>\n",
       "      <th>Latitude</th>\n",
       "      <th>Longitude</th>\n",
       "      <th>Max Temp</th>\n",
       "      <th>Humidity</th>\n",
       "      <th>Cloudiness</th>\n",
       "      <th>Wind Speed</th>\n",
       "      <th>Date</th>\n",
       "      <th>Country</th>\n",
       "    </tr>\n",
       "  </thead>\n",
       "  <tbody>\n",
       "    <tr>\n",
       "      <th>0</th>\n",
       "      <td>Chara</td>\n",
       "      <td>56.91</td>\n",
       "      <td>118.26</td>\n",
       "      <td>45.28</td>\n",
       "      <td>82</td>\n",
       "      <td>100</td>\n",
       "      <td>4.83</td>\n",
       "      <td>1600202962</td>\n",
       "      <td>RU</td>\n",
       "    </tr>\n",
       "    <tr>\n",
       "      <th>1</th>\n",
       "      <td>Kapaa</td>\n",
       "      <td>22.08</td>\n",
       "      <td>-159.32</td>\n",
       "      <td>82.65</td>\n",
       "      <td>62</td>\n",
       "      <td>40</td>\n",
       "      <td>12.75</td>\n",
       "      <td>1600202938</td>\n",
       "      <td>US</td>\n",
       "    </tr>\n",
       "    <tr>\n",
       "      <th>2</th>\n",
       "      <td>Vaini</td>\n",
       "      <td>-21.20</td>\n",
       "      <td>-175.20</td>\n",
       "      <td>75.20</td>\n",
       "      <td>73</td>\n",
       "      <td>40</td>\n",
       "      <td>12.75</td>\n",
       "      <td>1600202925</td>\n",
       "      <td>TO</td>\n",
       "    </tr>\n",
       "    <tr>\n",
       "      <th>3</th>\n",
       "      <td>Butaritari</td>\n",
       "      <td>3.07</td>\n",
       "      <td>172.79</td>\n",
       "      <td>83.70</td>\n",
       "      <td>72</td>\n",
       "      <td>87</td>\n",
       "      <td>19.30</td>\n",
       "      <td>1600202964</td>\n",
       "      <td>KI</td>\n",
       "    </tr>\n",
       "    <tr>\n",
       "      <th>4</th>\n",
       "      <td>Huanta</td>\n",
       "      <td>-12.93</td>\n",
       "      <td>-74.25</td>\n",
       "      <td>75.20</td>\n",
       "      <td>25</td>\n",
       "      <td>40</td>\n",
       "      <td>10.29</td>\n",
       "      <td>1600202964</td>\n",
       "      <td>PE</td>\n",
       "    </tr>\n",
       "  </tbody>\n",
       "</table>\n",
       "</div>"
      ],
      "text/plain": [
       "         City  Latitude  Longitude  Max Temp  Humidity  Cloudiness  \\\n",
       "0       Chara     56.91     118.26     45.28        82         100   \n",
       "1       Kapaa     22.08    -159.32     82.65        62          40   \n",
       "2       Vaini    -21.20    -175.20     75.20        73          40   \n",
       "3  Butaritari      3.07     172.79     83.70        72          87   \n",
       "4      Huanta    -12.93     -74.25     75.20        25          40   \n",
       "\n",
       "   Wind Speed        Date Country  \n",
       "0        4.83  1600202962      RU  \n",
       "1       12.75  1600202938      US  \n",
       "2       12.75  1600202925      TO  \n",
       "3       19.30  1600202964      KI  \n",
       "4       10.29  1600202964      PE  "
      ]
     },
     "execution_count": 10,
     "metadata": {},
     "output_type": "execute_result"
    }
   ],
   "source": [
    "weather_data.head()"
   ]
  },
  {
   "cell_type": "code",
   "execution_count": 11,
   "metadata": {},
   "outputs": [],
   "source": [
    "#output file \n",
    "weather_data.to_csv(r'output_data\\weather_data.csv')"
   ]
  },
  {
   "cell_type": "code",
   "execution_count": 12,
   "metadata": {},
   "outputs": [
    {
     "data": {
      "text/html": [
       "<div>\n",
       "<style scoped>\n",
       "    .dataframe tbody tr th:only-of-type {\n",
       "        vertical-align: middle;\n",
       "    }\n",
       "\n",
       "    .dataframe tbody tr th {\n",
       "        vertical-align: top;\n",
       "    }\n",
       "\n",
       "    .dataframe thead th {\n",
       "        text-align: right;\n",
       "    }\n",
       "</style>\n",
       "<table border=\"1\" class=\"dataframe\">\n",
       "  <thead>\n",
       "    <tr style=\"text-align: right;\">\n",
       "      <th></th>\n",
       "      <th>City</th>\n",
       "      <th>Latitude</th>\n",
       "      <th>Longitude</th>\n",
       "      <th>Max Temp</th>\n",
       "      <th>Humidity</th>\n",
       "      <th>Cloudiness</th>\n",
       "      <th>Wind Speed</th>\n",
       "      <th>Date</th>\n",
       "      <th>Country</th>\n",
       "    </tr>\n",
       "  </thead>\n",
       "  <tbody>\n",
       "    <tr>\n",
       "      <th>0</th>\n",
       "      <td>Chara</td>\n",
       "      <td>56.91</td>\n",
       "      <td>118.26</td>\n",
       "      <td>45.28</td>\n",
       "      <td>82</td>\n",
       "      <td>100</td>\n",
       "      <td>4.83</td>\n",
       "      <td>1600202962</td>\n",
       "      <td>RU</td>\n",
       "    </tr>\n",
       "    <tr>\n",
       "      <th>1</th>\n",
       "      <td>Kapaa</td>\n",
       "      <td>22.08</td>\n",
       "      <td>-159.32</td>\n",
       "      <td>82.65</td>\n",
       "      <td>62</td>\n",
       "      <td>40</td>\n",
       "      <td>12.75</td>\n",
       "      <td>1600202938</td>\n",
       "      <td>US</td>\n",
       "    </tr>\n",
       "    <tr>\n",
       "      <th>2</th>\n",
       "      <td>Vaini</td>\n",
       "      <td>-21.20</td>\n",
       "      <td>-175.20</td>\n",
       "      <td>75.20</td>\n",
       "      <td>73</td>\n",
       "      <td>40</td>\n",
       "      <td>12.75</td>\n",
       "      <td>1600202925</td>\n",
       "      <td>TO</td>\n",
       "    </tr>\n",
       "    <tr>\n",
       "      <th>3</th>\n",
       "      <td>Butaritari</td>\n",
       "      <td>3.07</td>\n",
       "      <td>172.79</td>\n",
       "      <td>83.70</td>\n",
       "      <td>72</td>\n",
       "      <td>87</td>\n",
       "      <td>19.30</td>\n",
       "      <td>1600202964</td>\n",
       "      <td>KI</td>\n",
       "    </tr>\n",
       "    <tr>\n",
       "      <th>4</th>\n",
       "      <td>Huanta</td>\n",
       "      <td>-12.93</td>\n",
       "      <td>-74.25</td>\n",
       "      <td>75.20</td>\n",
       "      <td>25</td>\n",
       "      <td>40</td>\n",
       "      <td>10.29</td>\n",
       "      <td>1600202964</td>\n",
       "      <td>PE</td>\n",
       "    </tr>\n",
       "  </tbody>\n",
       "</table>\n",
       "</div>"
      ],
      "text/plain": [
       "         City  Latitude  Longitude  Max Temp  Humidity  Cloudiness  \\\n",
       "0       Chara     56.91     118.26     45.28        82         100   \n",
       "1       Kapaa     22.08    -159.32     82.65        62          40   \n",
       "2       Vaini    -21.20    -175.20     75.20        73          40   \n",
       "3  Butaritari      3.07     172.79     83.70        72          87   \n",
       "4      Huanta    -12.93     -74.25     75.20        25          40   \n",
       "\n",
       "   Wind Speed        Date Country  \n",
       "0        4.83  1600202962      RU  \n",
       "1       12.75  1600202938      US  \n",
       "2       12.75  1600202925      TO  \n",
       "3       19.30  1600202964      KI  \n",
       "4       10.29  1600202964      PE  "
      ]
     },
     "execution_count": 12,
     "metadata": {},
     "output_type": "execute_result"
    }
   ],
   "source": [
    "weather_data = pd.DataFrame(weather_dict)\n",
    "weather_data.head(5)"
   ]
  },
  {
   "cell_type": "code",
   "execution_count": 13,
   "metadata": {},
   "outputs": [
    {
     "data": {
      "text/html": [
       "<div>\n",
       "<style scoped>\n",
       "    .dataframe tbody tr th:only-of-type {\n",
       "        vertical-align: middle;\n",
       "    }\n",
       "\n",
       "    .dataframe tbody tr th {\n",
       "        vertical-align: top;\n",
       "    }\n",
       "\n",
       "    .dataframe thead th {\n",
       "        text-align: right;\n",
       "    }\n",
       "</style>\n",
       "<table border=\"1\" class=\"dataframe\">\n",
       "  <thead>\n",
       "    <tr style=\"text-align: right;\">\n",
       "      <th></th>\n",
       "      <th>Latitude</th>\n",
       "      <th>Longitude</th>\n",
       "      <th>Max Temp</th>\n",
       "      <th>Humidity</th>\n",
       "      <th>Cloudiness</th>\n",
       "      <th>Wind Speed</th>\n",
       "      <th>Date</th>\n",
       "    </tr>\n",
       "  </thead>\n",
       "  <tbody>\n",
       "    <tr>\n",
       "      <th>count</th>\n",
       "      <td>575.000000</td>\n",
       "      <td>575.000000</td>\n",
       "      <td>575.000000</td>\n",
       "      <td>575.000000</td>\n",
       "      <td>575.000000</td>\n",
       "      <td>575.000000</td>\n",
       "      <td>5.750000e+02</td>\n",
       "    </tr>\n",
       "    <tr>\n",
       "      <th>mean</th>\n",
       "      <td>21.170487</td>\n",
       "      <td>11.939096</td>\n",
       "      <td>66.150435</td>\n",
       "      <td>70.504348</td>\n",
       "      <td>51.377391</td>\n",
       "      <td>8.215078</td>\n",
       "      <td>1.600203e+09</td>\n",
       "    </tr>\n",
       "    <tr>\n",
       "      <th>std</th>\n",
       "      <td>33.050140</td>\n",
       "      <td>89.363000</td>\n",
       "      <td>15.306855</td>\n",
       "      <td>21.669908</td>\n",
       "      <td>38.846681</td>\n",
       "      <td>5.303702</td>\n",
       "      <td>8.499163e+01</td>\n",
       "    </tr>\n",
       "    <tr>\n",
       "      <th>min</th>\n",
       "      <td>-54.800000</td>\n",
       "      <td>-179.170000</td>\n",
       "      <td>21.780000</td>\n",
       "      <td>9.000000</td>\n",
       "      <td>0.000000</td>\n",
       "      <td>0.270000</td>\n",
       "      <td>1.600203e+09</td>\n",
       "    </tr>\n",
       "    <tr>\n",
       "      <th>25%</th>\n",
       "      <td>-6.375000</td>\n",
       "      <td>-64.480000</td>\n",
       "      <td>53.035000</td>\n",
       "      <td>58.000000</td>\n",
       "      <td>8.000000</td>\n",
       "      <td>4.280000</td>\n",
       "      <td>1.600203e+09</td>\n",
       "    </tr>\n",
       "    <tr>\n",
       "      <th>50%</th>\n",
       "      <td>26.180000</td>\n",
       "      <td>16.880000</td>\n",
       "      <td>67.910000</td>\n",
       "      <td>76.000000</td>\n",
       "      <td>55.000000</td>\n",
       "      <td>6.930000</td>\n",
       "      <td>1.600203e+09</td>\n",
       "    </tr>\n",
       "    <tr>\n",
       "      <th>75%</th>\n",
       "      <td>48.985000</td>\n",
       "      <td>82.545000</td>\n",
       "      <td>77.970000</td>\n",
       "      <td>87.000000</td>\n",
       "      <td>90.000000</td>\n",
       "      <td>11.180000</td>\n",
       "      <td>1.600203e+09</td>\n",
       "    </tr>\n",
       "    <tr>\n",
       "      <th>max</th>\n",
       "      <td>78.220000</td>\n",
       "      <td>178.420000</td>\n",
       "      <td>103.080000</td>\n",
       "      <td>100.000000</td>\n",
       "      <td>100.000000</td>\n",
       "      <td>35.520000</td>\n",
       "      <td>1.600203e+09</td>\n",
       "    </tr>\n",
       "  </tbody>\n",
       "</table>\n",
       "</div>"
      ],
      "text/plain": [
       "         Latitude   Longitude    Max Temp    Humidity  Cloudiness  Wind Speed  \\\n",
       "count  575.000000  575.000000  575.000000  575.000000  575.000000  575.000000   \n",
       "mean    21.170487   11.939096   66.150435   70.504348   51.377391    8.215078   \n",
       "std     33.050140   89.363000   15.306855   21.669908   38.846681    5.303702   \n",
       "min    -54.800000 -179.170000   21.780000    9.000000    0.000000    0.270000   \n",
       "25%     -6.375000  -64.480000   53.035000   58.000000    8.000000    4.280000   \n",
       "50%     26.180000   16.880000   67.910000   76.000000   55.000000    6.930000   \n",
       "75%     48.985000   82.545000   77.970000   87.000000   90.000000   11.180000   \n",
       "max     78.220000  178.420000  103.080000  100.000000  100.000000   35.520000   \n",
       "\n",
       "               Date  \n",
       "count  5.750000e+02  \n",
       "mean   1.600203e+09  \n",
       "std    8.499163e+01  \n",
       "min    1.600203e+09  \n",
       "25%    1.600203e+09  \n",
       "50%    1.600203e+09  \n",
       "75%    1.600203e+09  \n",
       "max    1.600203e+09  "
      ]
     },
     "execution_count": 13,
     "metadata": {},
     "output_type": "execute_result"
    }
   ],
   "source": [
    "#stats\n",
    "weather_data.describe()"
   ]
  },
  {
   "cell_type": "markdown",
   "metadata": {},
   "source": [
    "## Inspect the data and remove the cities where the humidity > 100%.\n",
    "----\n",
    "Skip this step if there are no cities that have humidity > 100%. \n",
    "\n",
    "The Max Humidity is 100% so therefore by directions the analysis below is not needed. "
   ]
  },
  {
   "cell_type": "code",
   "execution_count": 14,
   "metadata": {},
   "outputs": [],
   "source": [
    "#NA"
   ]
  },
  {
   "cell_type": "code",
   "execution_count": 15,
   "metadata": {},
   "outputs": [],
   "source": [
    "#  Get the indices of cities that have humidity over 100%.\n",
    "#NA"
   ]
  },
  {
   "cell_type": "code",
   "execution_count": 16,
   "metadata": {},
   "outputs": [],
   "source": [
    "# Make a new DataFrame equal to the city data to drop all humidity outliers by index.\n",
    "# Passing \"inplace=False\" will make a copy of the city_data DataFrame, which we call \"clean_city_data\".\n",
    "#NA"
   ]
  },
  {
   "cell_type": "code",
   "execution_count": 17,
   "metadata": {},
   "outputs": [],
   "source": [
    "#NA\n"
   ]
  },
  {
   "cell_type": "markdown",
   "metadata": {},
   "source": [
    "## Plotting the Data\n",
    "* Use proper labeling of the plots using plot titles (including date of analysis) and axes labels.\n",
    "* Save the plotted figures as .pngs."
   ]
  },
  {
   "cell_type": "markdown",
   "metadata": {},
   "source": [
    "## Latitude vs. Temperature Plot"
   ]
  },
  {
   "cell_type": "code",
   "execution_count": 18,
   "metadata": {
    "scrolled": true
   },
   "outputs": [
    {
     "name": "stdout",
     "output_type": "stream",
     "text": [
      "Temperature plot creates a curve that shows how the temperature increase as you move closer to the equator.\n"
     ]
    },
    {
     "data": {
      "image/png": "[encoded data removed]",
      "text/plain": [
       "<Figure size 432x288 with 1 Axes>"
      ]
     },
     "metadata": {
      "needs_background": "light"
     },
     "output_type": "display_data"
    }
   ],
   "source": [
    "plt.scatter(weather_data['Latitude'], weather_data['Max Temp'])\n",
    "plt.title(f'City Latitude vs. Temperature {date.today()}')\n",
    "plt.xlabel('Latitude')\n",
    "plt.ylabel('Temperature (F)')\n",
    "plt.grid(True)\n",
    "print(f\"Temperature plot creates a curve that shows how the temperature increase as you move closer to the equator.\")\n",
    "plt.savefig(\"../Images/Lat vs Temp.png\")"
   ]
  },
  {
   "cell_type": "code",
   "execution_count": null,
   "metadata": {},
   "outputs": [],
   "source": [
    "## Latitude vs. Humidity Plot"
   ]
  },
  {
   "cell_type": "code",
   "execution_count": 19,
   "metadata": {},
   "outputs": [
    {
     "name": "stdout",
     "output_type": "stream",
     "text": [
      "Humidity appears to be higher away from the equator in the southern hemisphere.\n"
     ]
    },
    {
     "data": {
      "image/png": "[encoded data removed]",
      "text/plain": [
       "<Figure size 432x288 with 1 Axes>"
      ]
     },
     "metadata": {
      "needs_background": "light"
     },
     "output_type": "display_data"
    }
   ],
   "source": [
    "plt.scatter(weather_data['Latitude'], weather_data['Humidity'])\n",
    "plt.title(f'City Latitude vs. Humidity {date.today()}')\n",
    "plt.xlabel('Latitude')\n",
    "plt.ylabel('Humidity')\n",
    "plt.grid(True)\n",
    "print(f\"Humidity appears to be higher away from the equator in the southern hemisphere.\")\n",
    "plt.savefig(\"../Images/Lat vs Humidity.png\")"
   ]
  },
  {
   "cell_type": "markdown",
   "metadata": {},
   "source": [
    "## Latitude vs. Cloudiness Plot"
   ]
  },
  {
   "cell_type": "code",
   "execution_count": 20,
   "metadata": {},
   "outputs": [
    {
     "name": "stdout",
     "output_type": "stream",
     "text": [
      "Cloudiness appears to be widespread across the plot.\n"
     ]
    },
    {
     "data": {
      "image/png": "[encoded data removed]",
      "text/plain": [
       "<Figure size 432x288 with 1 Axes>"
      ]
     },
     "metadata": {
      "needs_background": "light"
     },
     "output_type": "display_data"
    }
   ],
   "source": [
    "plt.scatter(weather_data['Latitude'], weather_data['Cloudiness'])\n",
    "plt.title(f'City Latitude vs. Cloudiness {date.today()}')\n",
    "plt.xlabel('Latitude')\n",
    "plt.ylabel('Cloudiness %')\n",
    "plt.grid(True)\n",
    "print(f\"Cloudiness appears to be widespread across the plot.\")\n",
    "plt.savefig(\"../Images/Lat vs Cloudiness.png\")"
   ]
  },
  {
   "cell_type": "markdown",
   "metadata": {},
   "source": [
    "## Latitude vs. Wind Speed Plot"
   ]
  },
  {
   "cell_type": "code",
   "execution_count": 21,
   "metadata": {},
   "outputs": [
    {
     "name": "stdout",
     "output_type": "stream",
     "text": [
      "Wind speed data is widely spread across the plot.\n"
     ]
    },
    {
     "data": {
      "image/png": "[encoded data removed]",
      "text/plain": [
       "<Figure size 432x288 with 1 Axes>"
      ]
     },
     "metadata": {
      "needs_background": "light"
     },
     "output_type": "display_data"
    }
   ],
   "source": [
    "plt.scatter(weather_data['Latitude'], weather_data['Wind Speed'])\n",
    "plt.title(f'City Latitude vs. Wind Speed {date.today()}')\n",
    "plt.xlabel('Latitude')\n",
    "plt.ylabel('Wind Speed')\n",
    "plt.grid(True)\n",
    "print(f\"Wind speed data is widely spread across the plot.\")\n",
    "plt.savefig(\"../Images/Lat vs Wind Speed.png\")"
   ]
  },
  {
   "cell_type": "markdown",
   "metadata": {},
   "source": [
    "## Linear Regression"
   ]
  },
  {
   "cell_type": "code",
   "execution_count": 22,
   "metadata": {},
   "outputs": [],
   "source": [
    "#create northern and southern hemisphere dataframes\n",
    "northern_df = weather_data.loc[weather_data[\"Latitude\"] >= 0]\n",
    "southern_df = weather_data.loc[weather_data[\"Latitude\"] <= 0]"
   ]
  },
  {
   "cell_type": "markdown",
   "metadata": {},
   "source": [
    "####  Northern Hemisphere - Max Temp vs. Latitude Linear Regression"
   ]
  },
  {
   "cell_type": "code",
   "execution_count": 23,
   "metadata": {},
   "outputs": [],
   "source": [
    "# Define function for creating linear agression and scatter plot\n",
    "def linear_agression(x,y):\n",
    "    print(f\"The r-squared is : {round(st.pearsonr(x, y)[0],2)}\")\n",
    "    (slope, intercept, rvalue, pvalue, stderr) = linregress(x, y)\n",
    "    regress_values = x * slope + intercept\n",
    "    line_eq = \"y = \" + str(round(slope,2)) + \"x + \" + str(round(intercept,2))\n",
    "    plt.annotate(line_eq,(6,10),fontsize=15,color=\"red\")\n",
    "    print(f\"Regression line equation is: {line_eq}\")\n",
    "    print(f\"Temps increase as you get closer to the equator.\")\n",
    "    plt.scatter(x, y)\n",
    "    plt.plot(x,regress_values,\"r-\")\n",
    "    return line_eq\n",
    "\n",
    "# Define a fuction for annotating\n",
    "def annotate(line_eq, a, b):\n",
    "    plt.annotate(line_eq,(a,b),fontsize=15,color=\"red\")"
   ]
  },
  {
   "cell_type": "code",
   "execution_count": 24,
   "metadata": {},
   "outputs": [
    {
     "name": "stdout",
     "output_type": "stream",
     "text": [
      "The r-squared is : -0.83\n",
      "Regression line equation is: y = -0.67x + 91.86\n",
      "Temps increase as you get closer to the equator.\n"
     ]
    },
    {
     "data": {
      "image/png": "[encoded data removed]",
      "text/plain": [
       "<Figure size 432x288 with 1 Axes>"
      ]
     },
     "metadata": {
      "needs_background": "light"
     },
     "output_type": "display_data"
    }
   ],
   "source": [
    "equation = linear_agression(northern_df[\"Latitude\"], northern_df[\"Max Temp\"])\n",
    "\n",
    "# title\n",
    "plt.title(\"Northern Hemisphere - Max Temp vs. Latitude Linear Regression\")\n",
    "\n",
    "# labels\n",
    "plt.xlabel(\"Latitude\")\n",
    "plt.ylabel(\"Max Temp (F)\")\n",
    "plt.xlim(-10, 90)\n",
    "plt.ylim(0, 150)\n",
    "\n",
    "# Save the figure\n",
    "plt.savefig(\"../Images/Northern Hemisphere Lat vs Temp.png\")"
   ]
  },
  {
   "cell_type": "markdown",
   "metadata": {},
   "source": [
    "####  Southern Hemisphere - Max Temp vs. Latitude Linear Regression"
   ]
  },
  {
   "cell_type": "code",
   "execution_count": 25,
   "metadata": {},
   "outputs": [
    {
     "name": "stdout",
     "output_type": "stream",
     "text": [
      "The r-squared is : 0.77\n",
      "Regression line equation is: y = 0.75x + 82.93\n",
      "Higher r value shows, as expected, the temp increases the closer you get to the equater.\n"
     ]
    },
    {
     "data": {
      "image/png": "[encoded data removed]",
      "text/plain": [
       "<Figure size 432x288 with 1 Axes>"
      ]
     },
     "metadata": {
      "needs_background": "light"
     },
     "output_type": "display_data"
    }
   ],
   "source": [
    "# Define function for creating linear agression and scatter plot\n",
    "def linear_agression(x,y):\n",
    "    print(f\"The r-squared is : {round(st.pearsonr(x, y)[0],2)}\")\n",
    "    (slope, intercept, rvalue, pvalue, stderr) = linregress(x, y)\n",
    "    regress_values = x * slope + intercept\n",
    "    line_eq = \"y = \" + str(round(slope,2)) + \"x + \" + str(round(intercept,2))\n",
    "    plt.annotate(line_eq,(6,10),fontsize=15,color=\"red\")\n",
    "    print(f\"Regression line equation is: {line_eq}\")\n",
    "    print(f\"Higher r value shows, as expected, the temp increases the closer you get to the equater.\")\n",
    "    plt.scatter(x, y)\n",
    "    plt.plot(x,regress_values,\"r-\")\n",
    "    return line_eq\n",
    "\n",
    "# Define a fuction for annotating\n",
    "def annotate(line_eq, a, b):\n",
    "    plt.annotate(line_eq,(a,b),fontsize=15,color=\"red\")\n",
    "    \n",
    "equation = linear_agression(southern_df[\"Latitude\"], southern_df[\"Max Temp\"])\n",
    "\n",
    "# title\n",
    "plt.title(\"Southern Hemisphere - Max Temp vs. Latitude Linear Regression\")\n",
    "\n",
    "# labels\n",
    "plt.xlabel(\"Latitude\")\n",
    "plt.ylabel(\"Max Temp (F)\")\n",
    "plt.xlim(-75, 75)\n",
    "plt.ylim(0, 120)\n",
    "\n",
    "# Save the figure\n",
    "plt.savefig(\"../Images/Southern Hemisphere Lat vs Temp.png\")"
   ]
  },
  {
   "cell_type": "markdown",
   "metadata": {},
   "source": [
    "####  Northern Hemisphere - Humidity (%) vs. Latitude Linear Regression"
   ]
  },
  {
   "cell_type": "code",
   "execution_count": 26,
   "metadata": {},
   "outputs": [
    {
     "name": "stdout",
     "output_type": "stream",
     "text": [
      "The r-squared is : 0.09\n",
      "Regression line equation is: y = 0.08x + 33.62\n",
      "Low r value shows no correlation.\n"
     ]
    },
    {
     "data": {
      "image/png": "[encoded data removed]",
      "text/plain": [
       "<Figure size 432x288 with 1 Axes>"
      ]
     },
     "metadata": {
      "needs_background": "light"
     },
     "output_type": "display_data"
    }
   ],
   "source": [
    "# Define function for creating linear agression and scatter plot\n",
    "def linear_agression(x,y):\n",
    "    print(f\"The r-squared is : {round(st.pearsonr(x, y)[0],2)}\")\n",
    "    (slope, intercept, rvalue, pvalue, stderr) = linregress(x, y)\n",
    "    regress_values = x * slope + intercept\n",
    "    line_eq = \"y = \" + str(round(slope,2)) + \"x + \" + str(round(intercept,2))\n",
    "    plt.annotate(line_eq,(6,10),fontsize=15,color=\"red\")\n",
    "    print(f\"Regression line equation is: {line_eq}\")\n",
    "    print(f\"Low r value shows no correlation.\")\n",
    "    plt.scatter(x, y)\n",
    "    plt.plot(x,regress_values,\"r-\")\n",
    "    return line_eq\n",
    "\n",
    "# Define a fuction for annotating\n",
    "def annotate(line_eq, a, b):\n",
    "    plt.annotate(line_eq,(a,b),fontsize=15,color=\"red\")\n",
    "\n",
    "# Define a fuction for annotating\n",
    "def annotate(line_eq, a, b):\n",
    "    plt.annotate(line_eq,(a,b),fontsize=15,color=\"red\")\n",
    "    \n",
    "equation = linear_agression(northern_df[\"Humidity\"], northern_df[\"Latitude\"])\n",
    "\n",
    "# title\n",
    "plt.title(\"Northern Hemisphere - Humidity vs. Latitude Linear Regression\")\n",
    "\n",
    "# labels\n",
    "plt.xlabel(\"Latitude\")\n",
    "plt.ylabel(\"Humidity\")\n",
    "plt.xlim(0, 110)\n",
    "plt.ylim(-10, 100)\n",
    "\n",
    "# Save the figure\n",
    "plt.savefig(\"../Images/Northern Hemispher Lat vs Humidity.png\")   "
   ]
  },
  {
   "cell_type": "markdown",
   "metadata": {},
   "source": [
    "####  Southern Hemisphere - Humidity (%) vs. Latitude Linear Regression"
   ]
  },
  {
   "cell_type": "code",
   "execution_count": 27,
   "metadata": {},
   "outputs": [
    {
     "name": "stdout",
     "output_type": "stream",
     "text": [
      "The r-squared is : 0.0\n",
      "Regression line equation is: y = 0.0x + -20.4\n",
      "A low r value shows that there is no real correlation.\n"
     ]
    },
    {
     "data": {
      "image/png": "[encoded data removed]",
      "text/plain": [
       "<Figure size 432x288 with 1 Axes>"
      ]
     },
     "metadata": {
      "needs_background": "light"
     },
     "output_type": "display_data"
    }
   ],
   "source": [
    "# Define function for creating linear agression and scatter plot\n",
    "def linear_agression(x,y):\n",
    "    print(f\"The r-squared is : {round(st.pearsonr(x, y)[0],2)}\")\n",
    "    (slope, intercept, rvalue, pvalue, stderr) = linregress(x, y)\n",
    "    regress_values = x * slope + intercept\n",
    "    line_eq = \"y = \" + str(round(slope,2)) + \"x + \" + str(round(intercept,2))\n",
    "    plt.annotate(line_eq,(6,10),fontsize=15,color=\"red\")\n",
    "    print(f\"Regression line equation is: {line_eq}\")\n",
    "    print(f\"A low r value shows that there is no real correlation.\")\n",
    "    plt.scatter(x, y)\n",
    "    plt.plot(x,regress_values,\"r-\")\n",
    "    return line_eq\n",
    "\n",
    "# Define a fuction for annotating\n",
    "def annotate(line_eq, a, b):\n",
    "    plt.annotate(line_eq,(a,b),fontsize=15,color=\"red\")\n",
    "\n",
    "# Define a fuction for annotating\n",
    "def annotate(line_eq, a, b):\n",
    "    plt.annotate(line_eq,(a,b),fontsize=15,color=\"red\")\n",
    "    \n",
    "equation = linear_agression(southern_df[\"Humidity\"], southern_df[\"Latitude\"])\n",
    "\n",
    "# title\n",
    "plt.title(\"Southern Hemisphere - Humidity vs. Latitude Linear Regression\")\n",
    "\n",
    "# labels\n",
    "plt.xlabel(\"Latitude\")\n",
    "plt.ylabel(\"Humidity\")\n",
    "plt.xlim(-5, 120)\n",
    "plt.ylim(-70, 100)\n",
    "\n",
    "# Save the figure\n",
    "plt.savefig(\"../Images/Southern Hemisphere Lat vs Humidity.png\")    "
   ]
  },
  {
   "cell_type": "markdown",
   "metadata": {},
   "source": [
    "####  Northern Hemisphere - Cloudiness (%) vs. Latitude Linear Regression"
   ]
  },
  {
   "cell_type": "code",
   "execution_count": 28,
   "metadata": {},
   "outputs": [
    {
     "name": "stdout",
     "output_type": "stream",
     "text": [
      "The r-squared is : 0.06\n",
      "Regression line equation is: y = 0.03x + 37.89\n",
      "Appears to be no correlation.\n"
     ]
    },
    {
     "data": {
      "image/png": "[encoded data removed]",
      "text/plain": [
       "<Figure size 432x288 with 1 Axes>"
      ]
     },
     "metadata": {
      "needs_background": "light"
     },
     "output_type": "display_data"
    }
   ],
   "source": [
    "# Define function for creating linear agression and scatter plot\n",
    "def linear_agression(x,y):\n",
    "    print(f\"The r-squared is : {round(st.pearsonr(x, y)[0],2)}\")\n",
    "    (slope, intercept, rvalue, pvalue, stderr) = linregress(x, y)\n",
    "    regress_values = x * slope + intercept\n",
    "    line_eq = \"y = \" + str(round(slope,2)) + \"x + \" + str(round(intercept,2))\n",
    "    plt.annotate(line_eq,(6,10),fontsize=15,color=\"red\")\n",
    "    print(f\"Regression line equation is: {line_eq}\")\n",
    "    print(f\"Appears to be no correlation.\")\n",
    "    plt.scatter(x, y)\n",
    "    plt.plot(x,regress_values,\"r-\")\n",
    "    return line_eq\n",
    "\n",
    "# Define a fuction for annotating\n",
    "def annotate(line_eq, a, b):\n",
    "    plt.annotate(line_eq,(a,b),fontsize=15,color=\"red\")\n",
    "\n",
    "# Define a fuction for annotating\n",
    "def annotate(line_eq, a, b):\n",
    "    plt.annotate(line_eq,(a,b),fontsize=15,color=\"red\")\n",
    "    \n",
    "equation = linear_agression(northern_df[\"Cloudiness\"], northern_df[\"Latitude\"])\n",
    "\n",
    "# title\n",
    "plt.title(\"Northern Hemisphere - Cloudiness vs. Latitude Linear Regression\")\n",
    "\n",
    "# labels\n",
    "plt.xlabel(\"Latitude\")\n",
    "plt.ylabel(\"Cloudiness %\")\n",
    "plt.xlim(-10, 110)\n",
    "plt.ylim(-10, 90)\n",
    "\n",
    "# Save the figure\n",
    "plt.savefig(\"../Images/Northern Hemisphere Lat vs Cloudiness.png\")   "
   ]
  },
  {
   "cell_type": "markdown",
   "metadata": {},
   "source": [
    "####  Southern Hemisphere - Cloudiness (%) vs. Latitude Linear Regression"
   ]
  },
  {
   "cell_type": "code",
   "execution_count": 29,
   "metadata": {},
   "outputs": [
    {
     "name": "stdout",
     "output_type": "stream",
     "text": [
      "The r-squared is : -0.04\n",
      "Regression line equation is: y = -0.01x + -19.65\n",
      "Low r value shows a weak correlation.\n"
     ]
    },
    {
     "data": {
      "image/png": "[encoded data removed]",
      "text/plain": [
       "<Figure size 432x288 with 1 Axes>"
      ]
     },
     "metadata": {
      "needs_background": "light"
     },
     "output_type": "display_data"
    }
   ],
   "source": [
    "# Define function for creating linear agression and scatter plot\n",
    "def linear_agression(x,y):\n",
    "    print(f\"The r-squared is : {round(st.pearsonr(x, y)[0],2)}\")\n",
    "    (slope, intercept, rvalue, pvalue, stderr) = linregress(x, y)\n",
    "    regress_values = x * slope + intercept\n",
    "    line_eq = \"y = \" + str(round(slope,2)) + \"x + \" + str(round(intercept,2))\n",
    "    plt.annotate(line_eq,(6,10),fontsize=15,color=\"red\")\n",
    "    print(f\"Regression line equation is: {line_eq}\")\n",
    "    print(f\"Low r value shows a weak correlation.\")\n",
    "    plt.scatter(x, y)\n",
    "    plt.plot(x,regress_values,\"r-\")\n",
    "    return line_eq\n",
    "\n",
    "# Define a fuction for annotating\n",
    "def annotate(line_eq, a, b):\n",
    "    plt.annotate(line_eq,(a,b),fontsize=15,color=\"red\")\n",
    "# Define a fuction for annotating\n",
    "def annotate(line_eq, a, b):\n",
    "    plt.annotate(line_eq,(a,b),fontsize=15,color=\"red\")\n",
    "    \n",
    "equation = linear_agression(southern_df[\"Cloudiness\"], southern_df[\"Latitude\"])\n",
    "\n",
    "# title\n",
    "plt.title(\"Southern Hemisphere - Cloudiness vs. Latitude Linear Regression\")\n",
    "\n",
    "# labels\n",
    "plt.xlabel(\"Latitude\")\n",
    "plt.ylabel(\"Cloudiness %\")\n",
    "plt.xlim(-10, 110)\n",
    "plt.ylim(-60, 20)\n",
    "\n",
    "# Save the figure\n",
    "plt.savefig(\"../Images/Southern Hemisphere Lat vs Cloudiness.png\") "
   ]
  },
  {
   "cell_type": "markdown",
   "metadata": {},
   "source": [
    "####  Northern Hemisphere - Wind Speed (mph) vs. Latitude Linear Regression"
   ]
  },
  {
   "cell_type": "code",
   "execution_count": 31,
   "metadata": {},
   "outputs": [
    {
     "name": "stdout",
     "output_type": "stream",
     "text": [
      "The r-squared is : 0.04\n",
      "Regression line equation is: y = 0.16x + 38.19\n",
      "Low r value so no real correlation.\n"
     ]
    },
    {
     "data": {
      "image/png": "[encoded data removed]",
      "text/plain": [
       "<Figure size 432x288 with 1 Axes>"
      ]
     },
     "metadata": {
      "needs_background": "light"
     },
     "output_type": "display_data"
    }
   ],
   "source": [
    "# Define function for creating linear agression and scatter plot\n",
    "def linear_agression(x,y):\n",
    "    print(f\"The r-squared is : {round(st.pearsonr(x, y)[0],2)}\")\n",
    "    (slope, intercept, rvalue, pvalue, stderr) = linregress(x, y)\n",
    "    regress_values = x * slope + intercept\n",
    "    line_eq = \"y = \" + str(round(slope,2)) + \"x + \" + str(round(intercept,2))\n",
    "    plt.annotate(line_eq,(6,10),fontsize=15,color=\"red\")\n",
    "    print(f\"Regression line equation is: {line_eq}\")\n",
    "    print(f\"Low r value so no real correlation.\")\n",
    "    plt.scatter(x, y)\n",
    "    plt.plot(x,regress_values,\"r-\")\n",
    "    return line_eq\n",
    "\n",
    "# Define a fuction for annotating\n",
    "def annotate(line_eq, a, b):\n",
    "    plt.annotate(line_eq,(a,b),fontsize=15,color=\"red\")\n",
    "\n",
    "# Define a fuction for annotating\n",
    "def annotate(line_eq, a, b):\n",
    "    plt.annotate(line_eq,(a,b),fontsize=15,color=\"red\")\n",
    "    \n",
    "equation = linear_agression(northern_df[\"Wind Speed\"], northern_df[\"Latitude\"])\n",
    "\n",
    "# title\n",
    "plt.title(\"Northern Hemisphere - Wind Speed vs. Latitude Linear Regression\")\n",
    "\n",
    "# labels\n",
    "plt.xlabel(\"Latitude\")\n",
    "plt.ylabel(\"Wind Speed\")\n",
    "plt.xlim(-5, 40)\n",
    "plt.ylim(-20, 90)\n",
    "\n",
    "# Save the figure\n",
    "plt.savefig(\"../Images/Northern Hemisphere Lat vs Wind Speed.png\") "
   ]
  },
  {
   "cell_type": "markdown",
   "metadata": {},
   "source": [
    "####  Southern Hemisphere - Wind Speed (mph) vs. Latitude Linear Regression"
   ]
  },
  {
   "cell_type": "code",
   "execution_count": 32,
   "metadata": {},
   "outputs": [
    {
     "name": "stdout",
     "output_type": "stream",
     "text": [
      "The r-squared is : -0.02\n",
      "Regression line equation is: y = -0.04x + -19.97\n",
      "Lower r value indicates that there is no correlation between wind speed and latitude.\n"
     ]
    },
    {
     "data": {
      "image/png": "[encoded data removed]",
      "text/plain": [
       "<Figure size 432x288 with 1 Axes>"
      ]
     },
     "metadata": {
      "needs_background": "light"
     },
     "output_type": "display_data"
    }
   ],
   "source": [
    "# Define function for creating linear agression and scatter plot\n",
    "def linear_agression(x,y):\n",
    "    print(f\"The r-squared is : {round(st.pearsonr(x, y)[0],2)}\")\n",
    "    (slope, intercept, rvalue, pvalue, stderr) = linregress(x, y)\n",
    "    regress_values = x * slope + intercept\n",
    "    line_eq = \"y = \" + str(round(slope,2)) + \"x + \" + str(round(intercept,2))\n",
    "    plt.annotate(line_eq,(6,10),fontsize=15,color=\"red\")\n",
    "    print(f\"Regression line equation is: {line_eq}\")\n",
    "    print(f\"Lower r value indicates that there is no correlation between wind speed and latitude.\")\n",
    "    plt.scatter(x, y)\n",
    "    plt.plot(x,regress_values,\"r-\")\n",
    "    return line_eq\n",
    "\n",
    "# Define a fuction for annotating\n",
    "def annotate(line_eq, a, b):\n",
    "    plt.annotate(line_eq,(a,b),fontsize=15,color=\"red\")\n",
    "\n",
    "# Define a fuction for annotating\n",
    "def annotate(line_eq, a, b):\n",
    "    plt.annotate(line_eq,(a,b),fontsize=15,color=\"red\")\n",
    "    \n",
    "equation = linear_agression(southern_df[\"Wind Speed\"], southern_df[\"Latitude\"])\n",
    "\n",
    "# title\n",
    "plt.title(\"Southern Hemisphere - Wind Speed vs. Latitude Linear Regression\")\n",
    "\n",
    "# labels\n",
    "plt.xlabel(\"Latitude\")\n",
    "plt.ylabel(\"Wind Speed\")\n",
    "plt.xlim(-5, 30)\n",
    "plt.ylim(-50, 20)\n",
    "\n",
    "# Save the figure\n",
    "plt.savefig(\"../Images/Southern Hemisphere Lat vs Windspeed.png\") "
   ]
  },
  {
   "cell_type": "code",
   "execution_count": null,
   "metadata": {},
   "outputs": [],
   "source": []
  }
 ],
 "metadata": {
  "anaconda-cloud": {},
  "kernel_info": {
   "name": "python3"
  },
  "kernelspec": {
   "display_name": "Python 3",
   "language": "python",
   "name": "python3"
  },
  "language_info": {
   "codemirror_mode": {
    "name": "ipython",
    "version": 3
   },
   "file_extension": ".py",
   "mimetype": "text/x-python",
   "name": "python",
   "nbconvert_exporter": "python",
   "pygments_lexer": "ipython3",
   "version": "3.7.6"
  },
  "latex_envs": {
   "LaTeX_envs_menu_present": true,
   "autoclose": false,
   "autocomplete": true,
   "bibliofile": "biblio.bib",
   "cite_by": "apalike",
   "current_citInitial": 1,
   "eqLabelWithNumbers": true,
   "eqNumInitial": 1,
   "hotkeys": {
    "equation": "Ctrl-E",
    "itemize": "Ctrl-I"
   },
   "labels_anchors": false,
   "latex_user_defs": false,
   "report_style_numbering": false,
   "user_envs_cfg": false
  },
  "nteract": {
   "version": "0.12.3"
  }
 },
 "nbformat": 4,
 "nbformat_minor": 4
}
