{
 "cells": [
  {
   "cell_type": "code",
   "execution_count": 60,
   "metadata": {},
   "outputs": [],
   "source": [
    "# WeatherPy\n",
    "\n",
    "#### Note\n",
    "# Instructions have been included for each segment. You do not have to follow them exactly, but they are included to help you think through the steps.\n",
    "\n",
    "#Dependencies \n",
    "import matplotlib.pyplot as plt\n",
    "import pandas as pd\n",
    "import numpy as np\n",
    "import requests\n",
    "import time\n",
    "from datetime import date\n",
    "from pprint import pprint\n",
    "from scipy.stats import linregress\n",
    "import scipy.stats as st\n",
    "\n",
    "# import API key\n",
    "from api_keys import weather_api_key\n",
    "from api_keys import g_key\n",
    "\n",
    "# incorporated citipy to determine city based on lat and long\n",
    "from citipy import citipy\n",
    "\n",
    "# output file (csv)\n",
    "outputDataFile = \"Output/cities.csv\"\n",
    "\n",
    "# range of lat and long\n",
    "lat_range = (-90, 90)\n",
    "lng_range = (-180, 180)\n",
    "\n",
    "\n"
   ]
  },
  {
   "cell_type": "code",
   "execution_count": 2,
   "metadata": {},
   "outputs": [
    {
     "data": {
      "text/plain": [
       "615"
      ]
     },
     "execution_count": 2,
     "metadata": {},
     "output_type": "execute_result"
    }
   ],
   "source": [
    "## Generate Cities List\n",
    "\n",
    "lat_lngs = []\n",
    "cities = []\n",
    "\n",
    "# create a set of random lat and lng combinations\n",
    "lats = np.random.uniform(low=-90.000, high=90.000, size=1500)\n",
    "lngs = np.random.uniform(low=-180.000, high=180.000, size=1500)\n",
    "lat_lngs = zip(lats, lngs)\n",
    "\n",
    "# Identify nearest city for each lat, lng combination\n",
    "for lat_lng in lat_lngs:\n",
    "    city = citipy.nearest_city(lat_lng[0], lat_lng[1]).city_name\n",
    "    \n",
    "    # if the city is unique add to cities list\n",
    "    if city not in cities:\n",
    "        cities.append(city)\n",
    "        \n",
    "len(cities)"
   ]
  },
  {
   "cell_type": "code",
   "execution_count": 14,
   "metadata": {},
   "outputs": [
    {
     "data": {
      "text/plain": [
       "['janossomorja',\n",
       " 'hamilton',\n",
       " 'kodinsk',\n",
       " 'provost',\n",
       " 'hobart',\n",
       " 'coquimbo',\n",
       " 'punta arenas',\n",
       " 'kapaa',\n",
       " 'carauari',\n",
       " 'nizhneyansk',\n",
       " 'mataura',\n",
       " 'kegayli',\n",
       " 'castro',\n",
       " 'cape town',\n",
       " 'alta floresta']"
      ]
     },
     "execution_count": 14,
     "metadata": {},
     "output_type": "execute_result"
    }
   ],
   "source": [
    "cities[0:15]"
   ]
  },
  {
   "cell_type": "code",
   "execution_count": null,
   "metadata": {},
   "outputs": [],
   "source": [
    "### Perform API Calls\n",
    "* Perform a weather check on each city using a series of successive API calls.\n",
    "* Include a print log of each city as it'sbeing processed (with the city number and city name).\n"
   ]
  },
  {
   "cell_type": "code",
   "execution_count": 15,
   "metadata": {
    "scrolled": true
   },
   "outputs": [
    {
     "name": "stdout",
     "output_type": "stream",
     "text": [
      "http://api.openweathermap.org/data/2.5/weather?units=Imperial&APPID=486a3f0a342100df108bae3ce4d66f0e\n"
     ]
    }
   ],
   "source": [
    "# OpenWeatherMap API Key\n",
    "api_key = weather_api_key\n",
    "\n",
    "# Starting URL for Weather Map API Call\n",
    "url = 'http://api.openweathermap.org/data/2.5/weather?units=Imperial&APPID=' + api_key\n",
    "print(url)\n"
   ]
  },
  {
   "cell_type": "code",
   "execution_count": 16,
   "metadata": {},
   "outputs": [
    {
     "name": "stdout",
     "output_type": "stream",
     "text": [
      "------------------------------\n",
      "Start of Records\n",
      "------------------------------\n",
      "City number 1 of 615 complete. | Added janossomorja\n",
      "City number 2 of 615 complete. | Added hamilton\n",
      "City number 3 of 615 complete. | Added kodinsk\n",
      "City number 4 of 615 complete. | Added provost\n",
      "City number 5 of 615 complete. | Added hobart\n",
      "City number 6 of 615 complete. | Added coquimbo\n",
      "City number 7 of 615 complete. | Added punta arenas\n",
      "City number 8 of 615 complete. | Added kapaa\n",
      "City number 9 of 615 complete. | Added carauari\n",
      "Missing data in city number 10 of 615. | Skipping nizhneyansk\n",
      "City number 11 of 615 complete. | Added mataura\n",
      "Missing data in city number 12 of 615. | Skipping kegayli\n",
      "City number 13 of 615 complete. | Added castro\n",
      "City number 14 of 615 complete. | Added cape town\n",
      "City number 15 of 615 complete. | Added alta floresta\n",
      "Missing data in city number 16 of 615. | Skipping barentsburg\n",
      "City number 17 of 615 complete. | Added rikitea\n",
      "City number 18 of 615 complete. | Added sept-iles\n",
      "City number 19 of 615 complete. | Added east london\n",
      "City number 20 of 615 complete. | Added jamestown\n",
      "City number 21 of 615 complete. | Added riviere-au-renard\n",
      "City number 22 of 615 complete. | Added havre-saint-pierre\n",
      "City number 23 of 615 complete. | Added esperance\n",
      "City number 24 of 615 complete. | Added nanortalik\n",
      "City number 25 of 615 complete. | Added shakawe\n",
      "City number 26 of 615 complete. | Added puerto ayora\n",
      "City number 27 of 615 complete. | Added burgersdorp\n",
      "City number 28 of 615 complete. | Added bambous virieux\n",
      "City number 29 of 615 complete. | Added tasiilaq\n",
      "City number 30 of 615 complete. | Added carnarvon\n",
      "Missing data in city number 31 of 615. | Skipping samusu\n",
      "City number 32 of 615 complete. | Added muroto\n",
      "City number 33 of 615 complete. | Added voyvozh\n",
      "City number 34 of 615 complete. | Added avarua\n",
      "City number 35 of 615 complete. | Added mount gambier\n",
      "City number 36 of 615 complete. | Added jalingo\n",
      "Missing data in city number 37 of 615. | Skipping illoqqortoormiut\n",
      "City number 38 of 615 complete. | Added bluff\n",
      "City number 39 of 615 complete. | Added kavieng\n",
      "City number 40 of 615 complete. | Added vaini\n",
      "City number 41 of 615 complete. | Added kirkland lake\n",
      "City number 42 of 615 complete. | Added iqaluit\n",
      "City number 43 of 615 complete. | Added verkhoyansk\n",
      "City number 44 of 615 complete. | Added yendi\n",
      "City number 45 of 615 complete. | Added guozhen\n",
      "City number 46 of 615 complete. | Added busselton\n",
      "City number 47 of 615 complete. | Added ushuaia\n",
      "City number 48 of 615 complete. | Added prince rupert\n",
      "City number 49 of 615 complete. | Added el porvenir\n",
      "City number 50 of 615 complete. | Added tambura\n",
      "City number 51 of 615 complete. | Added kodiak\n",
      "City number 52 of 615 complete. | Added port augusta\n",
      "City number 53 of 615 complete. | Added cervia\n",
      "City number 54 of 615 complete. | Added port alfred\n",
      "City number 55 of 615 complete. | Added fortuna\n",
      "City number 56 of 615 complete. | Added tuktoyaktuk\n",
      "City number 57 of 615 complete. | Added saint-philippe\n",
      "City number 58 of 615 complete. | Added kavaratti\n",
      "City number 59 of 615 complete. | Added upernavik\n",
      "City number 60 of 615 complete. | Added bengkulu\n",
      "City number 61 of 615 complete. | Added boyuibe\n",
      "City number 62 of 615 complete. | Added bethel\n",
      "City number 63 of 615 complete. | Added chokurdakh\n",
      "City number 64 of 615 complete. | Added christchurch\n",
      "City number 65 of 615 complete. | Added pisco\n",
      "City number 66 of 615 complete. | Added new norfolk\n",
      "Missing data in city number 67 of 615. | Skipping pilao arcado\n",
      "City number 68 of 615 complete. | Added sitka\n",
      "City number 69 of 615 complete. | Added buala\n",
      "City number 70 of 615 complete. | Added namatanai\n",
      "City number 71 of 615 complete. | Added hilo\n",
      "City number 72 of 615 complete. | Added caucaia\n",
      "City number 73 of 615 complete. | Added georgetown\n",
      "City number 74 of 615 complete. | Added butaritari\n",
      "City number 75 of 615 complete. | Added kaitangata\n",
      "City number 76 of 615 complete. | Added kindu\n",
      "City number 77 of 615 complete. | Added lorengau\n",
      "City number 78 of 615 complete. | Added sal rei\n",
      "City number 79 of 615 complete. | Added victoria\n",
      "City number 80 of 615 complete. | Added saldanha\n",
      "City number 81 of 615 complete. | Added thompson\n",
      "City number 82 of 615 complete. | Added pacific grove\n",
      "City number 83 of 615 complete. | Added faanui\n",
      "City number 84 of 615 complete. | Added kenai\n",
      "City number 85 of 615 complete. | Added agadez\n",
      "City number 86 of 615 complete. | Added lujiang\n",
      "City number 87 of 615 complete. | Added gazli\n",
      "City number 88 of 615 complete. | Added ribeira grande\n",
      "City number 89 of 615 complete. | Added santa vitoria do palmar\n",
      "City number 90 of 615 complete. | Added aklavik\n",
      "City number 91 of 615 complete. | Added richards bay\n",
      "City number 92 of 615 complete. | Added vestmanna\n",
      "City number 93 of 615 complete. | Added bumba\n",
      "City number 94 of 615 complete. | Added arraial do cabo\n",
      "City number 95 of 615 complete. | Added gat\n",
      "City number 96 of 615 complete. | Added chuy\n",
      "City number 97 of 615 complete. | Added kurilsk\n",
      "City number 98 of 615 complete. | Added clyde river\n",
      "City number 99 of 615 complete. | Added lebu\n",
      "City number 100 of 615 complete. | Added luderitz\n",
      "City number 101 of 615 complete. | Added ponta do sol\n",
      "Missing data in city number 102 of 615. | Skipping tabiauea\n",
      "City number 103 of 615 complete. | Added bintulu\n",
      "City number 104 of 615 complete. | Added marsh harbour\n",
      "City number 105 of 615 complete. | Added vydrino\n",
      "City number 106 of 615 complete. | Added itarema\n",
      "City number 107 of 615 complete. | Added cidreira\n",
      "City number 108 of 615 complete. | Added port elizabeth\n",
      "City number 109 of 615 complete. | Added saskylakh\n",
      "City number 110 of 615 complete. | Added lima duarte\n",
      "City number 111 of 615 complete. | Added egvekinot\n",
      "City number 112 of 615 complete. | Added camargo\n",
      "City number 113 of 615 complete. | Added marawi\n",
      "City number 114 of 615 complete. | Added moron\n",
      "City number 115 of 615 complete. | Added barranca\n",
      "City number 116 of 615 complete. | Added plettenberg bay\n",
      "City number 117 of 615 complete. | Added atuona\n",
      "City number 118 of 615 complete. | Added korla\n",
      "City number 119 of 615 complete. | Added tiksi\n",
      "City number 120 of 615 complete. | Added okakarara\n",
      "City number 121 of 615 complete. | Added barrow\n",
      "City number 122 of 615 complete. | Added namibe\n",
      "City number 123 of 615 complete. | Added sao filipe\n",
      "City number 124 of 615 complete. | Added gambela\n",
      "City number 125 of 615 complete. | Added geraldton\n",
      "Missing data in city number 126 of 615. | Skipping tsihombe\n",
      "City number 127 of 615 complete. | Added port shepstone\n",
      "City number 128 of 615 complete. | Added la asuncion\n",
      "City number 129 of 615 complete. | Added bredasdorp\n",
      "City number 130 of 615 complete. | Added albany\n",
      "City number 131 of 615 complete. | Added grindavik\n",
      "City number 132 of 615 complete. | Added khatanga\n",
      "City number 133 of 615 complete. | Added aquiraz\n",
      "City number 134 of 615 complete. | Added mahebourg\n",
      "City number 135 of 615 complete. | Added west richland\n",
      "City number 136 of 615 complete. | Added rio grande\n",
      "City number 137 of 615 complete. | Added indiana\n",
      "City number 138 of 615 complete. | Added evensk\n",
      "Missing data in city number 139 of 615. | Skipping rungata\n",
      "City number 140 of 615 complete. | Added galesong\n",
      "Missing data in city number 141 of 615. | Skipping grand centre\n",
      "City number 142 of 615 complete. | Added oistins\n",
      "City number 143 of 615 complete. | Added pinhao\n",
      "Missing data in city number 144 of 615. | Skipping taolanaro\n",
      "City number 145 of 615 complete. | Added fort nelson\n",
      "Missing data in city number 146 of 615. | Skipping saleaula\n",
      "City number 147 of 615 complete. | Added godalming\n",
      "City number 148 of 615 complete. | Added severnyy\n",
      "City number 149 of 615 complete. | Added san carlos\n",
      "City number 150 of 615 complete. | Added praia\n",
      "City number 151 of 615 complete. | Added mount isa\n",
      "City number 152 of 615 complete. | Added torbay\n",
      "City number 153 of 615 complete. | Added yellowknife\n",
      "City number 154 of 615 complete. | Added cape canaveral\n",
      "City number 155 of 615 complete. | Added gizo\n",
      "City number 156 of 615 complete. | Added hermanus\n",
      "City number 157 of 615 complete. | Added svetlyy\n",
      "City number 158 of 615 complete. | Added severo-kurilsk\n",
      "City number 159 of 615 complete. | Added tessalit\n",
      "City number 160 of 615 complete. | Added key west\n",
      "City number 161 of 615 complete. | Added nikolskoye\n",
      "City number 162 of 615 complete. | Added baruun-urt\n",
      "City number 163 of 615 complete. | Added klyuchi\n",
      "City number 164 of 615 complete. | Added lashio\n",
      "City number 165 of 615 complete. | Added clyde\n",
      "Missing data in city number 166 of 615. | Skipping belushya guba\n",
      "City number 167 of 615 complete. | Added soissons\n",
      "City number 168 of 615 complete. | Added ishigaki\n",
      "City number 169 of 615 complete. | Added hofn\n",
      "City number 170 of 615 complete. | Added cherskiy\n",
      "City number 171 of 615 complete. | Added taoudenni\n",
      "City number 172 of 615 complete. | Added katsuura\n",
      "City number 173 of 615 complete. | Added mahina\n",
      "City number 174 of 615 complete. | Added edd\n",
      "City number 175 of 615 complete. | Added airai\n",
      "Missing data in city number 176 of 615. | Skipping satitoa\n",
      "City number 177 of 615 complete. | Added trairi\n",
      "Missing data in city number 178 of 615. | Skipping attawapiskat\n",
      "City number 179 of 615 complete. | Added atambua\n",
      "City number 180 of 615 complete. | Added kloulklubed\n",
      "City number 181 of 615 complete. | Added umm kaddadah\n",
      "City number 182 of 615 complete. | Added wanaka\n",
      "City number 183 of 615 complete. | Added guerrero negro\n",
      "City number 184 of 615 complete. | Added hovd\n",
      "City number 185 of 615 complete. | Added santa isabel\n",
      "City number 186 of 615 complete. | Added sitio novo do tocantins\n",
      "City number 187 of 615 complete. | Added onega\n",
      "City number 188 of 615 complete. | Added khuzhir\n",
      "City number 189 of 615 complete. | Added elverum\n",
      "City number 190 of 615 complete. | Added ibra\n",
      "City number 191 of 615 complete. | Added santana do livramento\n",
      "City number 192 of 615 complete. | Added ereymentau\n",
      "City number 193 of 615 complete. | Added oulu\n",
      "Missing data in city number 194 of 615. | Skipping amderma\n",
      "Missing data in city number 195 of 615. | Skipping warqla\n",
      "City number 196 of 615 complete. | Added sioux lookout\n",
      "City number 197 of 615 complete. | Added nijar\n",
      "City number 198 of 615 complete. | Added dikson\n",
      "City number 199 of 615 complete. | Added qaanaaq\n",
      "City number 200 of 615 complete. | Added longyearbyen\n",
      "City number 201 of 615 complete. | Added envira\n",
      "City number 202 of 615 complete. | Added avallon\n",
      "City number 203 of 615 complete. | Added udachnyy\n",
      "City number 204 of 615 complete. | Added serpa\n",
      "City number 205 of 615 complete. | Added fairbanks\n",
      "City number 206 of 615 complete. | Added leningradskiy\n",
      "City number 207 of 615 complete. | Added mayumba\n",
      "City number 208 of 615 complete. | Added taksimo\n",
      "City number 209 of 615 complete. | Added shangrao\n",
      "City number 210 of 615 complete. | Added muravlenko\n",
      "City number 211 of 615 complete. | Added salamanca\n",
      "City number 212 of 615 complete. | Added chiredzi\n",
      "City number 213 of 615 complete. | Added necochea\n",
      "Missing data in city number 214 of 615. | Skipping carikar\n",
      "City number 215 of 615 complete. | Added vernon\n",
      "City number 216 of 615 complete. | Added souillac\n",
      "City number 217 of 615 complete. | Added saint-pierre\n",
      "City number 218 of 615 complete. | Added kahului\n",
      "City number 219 of 615 complete. | Added baykit\n",
      "City number 220 of 615 complete. | Added codrington\n",
      "City number 221 of 615 complete. | Added gore\n",
      "City number 222 of 615 complete. | Added severiano melo\n",
      "City number 223 of 615 complete. | Added nizwa\n",
      "City number 224 of 615 complete. | Added nador\n",
      "City number 225 of 615 complete. | Added noumea\n",
      "City number 226 of 615 complete. | Added raga\n",
      "City number 227 of 615 complete. | Added delaware\n",
      "City number 228 of 615 complete. | Added shakhunya\n",
      "City number 229 of 615 complete. | Added bongandanga\n",
      "City number 230 of 615 complete. | Added salalah\n",
      "City number 231 of 615 complete. | Added taut\n",
      "City number 232 of 615 complete. | Added rockport\n",
      "City number 233 of 615 complete. | Added turukhansk\n",
      "Missing data in city number 234 of 615. | Skipping falealupo\n",
      "City number 235 of 615 complete. | Added komsomolskiy\n",
      "City number 236 of 615 complete. | Added saint-augustin\n",
      "City number 237 of 615 complete. | Added lander\n",
      "Missing data in city number 238 of 615. | Skipping sentyabrskiy\n",
      "City number 239 of 615 complete. | Added lagoa\n",
      "City number 240 of 615 complete. | Added pevek\n",
      "City number 241 of 615 complete. | Added brae\n",
      "City number 242 of 615 complete. | Added inhambane\n",
      "City number 243 of 615 complete. | Added peterhead\n",
      "City number 244 of 615 complete. | Added waitati\n",
      "City number 245 of 615 complete. | Added kichmengskiy gorodok\n",
      "City number 246 of 615 complete. | Added novyy rogachik\n",
      "City number 247 of 615 complete. | Added hithadhoo\n",
      "Missing data in city number 248 of 615. | Skipping palabuhanratu\n",
      "City number 249 of 615 complete. | Added goma\n",
      "City number 250 of 615 complete. | Added ouegoa\n",
      "City number 251 of 615 complete. | Added berlevag\n",
      "City number 252 of 615 complete. | Added kendari\n",
      "City number 253 of 615 complete. | Added kudinovo\n",
      "City number 254 of 615 complete. | Added roma\n",
      "Missing data in city number 255 of 615. | Skipping varaklani\n",
      "City number 256 of 615 complete. | Added chihuahua\n",
      "City number 257 of 615 complete. | Added kondinskoye\n",
      "City number 258 of 615 complete. | Added madaoua\n",
      "City number 259 of 615 complete. | Added tocopilla\n",
      "City number 260 of 615 complete. | Added totness\n",
      "City number 261 of 615 complete. | Added mehamn\n",
      "City number 262 of 615 complete. | Added port keats\n",
      "City number 263 of 615 complete. | Added port hedland\n",
      "City number 264 of 615 complete. | Added samarai\n",
      "City number 265 of 615 complete. | Added sandpoint\n",
      "Missing data in city number 266 of 615. | Skipping samalaeulu\n",
      "City number 267 of 615 complete. | Added denpasar\n",
      "City number 268 of 615 complete. | Added labuhan\n",
      "City number 269 of 615 complete. | Added ratnagiri\n",
      "Missing data in city number 270 of 615. | Skipping yurya\n",
      "City number 271 of 615 complete. | Added anadyr\n",
      "Missing data in city number 272 of 615. | Skipping urdzhar\n",
      "City number 273 of 615 complete. | Added paeroa\n",
      "City number 274 of 615 complete. | Added bodden town\n",
      "City number 275 of 615 complete. | Added constitucion\n",
      "Missing data in city number 276 of 615. | Skipping bengkalis\n",
      "City number 277 of 615 complete. | Added tuatapere\n",
      "City number 278 of 615 complete. | Added melita\n",
      "City number 279 of 615 complete. | Added ormara\n",
      "City number 280 of 615 complete. | Added mackay\n",
      "City number 281 of 615 complete. | Added merauke\n",
      "City number 282 of 615 complete. | Added gualaquiza\n",
      "City number 283 of 615 complete. | Added bilma\n",
      "City number 284 of 615 complete. | Added safford\n",
      "City number 285 of 615 complete. | Added lebanon\n",
      "City number 286 of 615 complete. | Added tumbes\n",
      "City number 287 of 615 complete. | Added jaen\n",
      "City number 288 of 615 complete. | Added klaksvik\n",
      "City number 289 of 615 complete. | Added port lincoln\n",
      "City number 290 of 615 complete. | Added lompoc\n",
      "City number 291 of 615 complete. | Added kirakira\n",
      "City number 292 of 615 complete. | Added naze\n",
      "City number 293 of 615 complete. | Added nome\n",
      "City number 294 of 615 complete. | Added lubango\n",
      "City number 295 of 615 complete. | Added kantang\n",
      "City number 296 of 615 complete. | Added morro bay\n",
      "City number 297 of 615 complete. | Added cabra\n",
      "City number 298 of 615 complete. | Added meulaboh\n",
      "Missing data in city number 299 of 615. | Skipping tarudant\n",
      "City number 300 of 615 complete. | Added wajima\n",
      "City number 301 of 615 complete. | Added los llanos de aridane\n",
      "City number 302 of 615 complete. | Added bilibino\n",
      "City number 303 of 615 complete. | Added les escoumins\n",
      "City number 304 of 615 complete. | Added mushie\n",
      "City number 305 of 615 complete. | Added doha\n",
      "City number 306 of 615 complete. | Added ostrovnoy\n",
      "City number 307 of 615 complete. | Added boueni\n",
      "City number 308 of 615 complete. | Added oeiras\n",
      "Missing data in city number 309 of 615. | Skipping potgietersrus\n",
      "City number 310 of 615 complete. | Added ilulissat\n",
      "City number 311 of 615 complete. | Added guamuchil\n",
      "City number 312 of 615 complete. | Added takoradi\n",
      "City number 313 of 615 complete. | Added roald\n",
      "Missing data in city number 314 of 615. | Skipping shchuchye\n",
      "City number 315 of 615 complete. | Added vila franca do campo\n",
      "City number 316 of 615 complete. | Added kismayo\n",
      "City number 317 of 615 complete. | Added hauterive\n",
      "City number 318 of 615 complete. | Added lavrentiya\n",
      "City number 319 of 615 complete. | Added college\n",
      "City number 320 of 615 complete. | Added urusha\n",
      "City number 321 of 615 complete. | Added purranque\n",
      "City number 322 of 615 complete. | Added aquidauana\n",
      "City number 323 of 615 complete. | Added kulhudhuffushi\n",
      "City number 324 of 615 complete. | Added sondershausen\n",
      "Missing data in city number 325 of 615. | Skipping grand river south east\n",
      "City number 326 of 615 complete. | Added deputatskiy\n",
      "City number 327 of 615 complete. | Added bima\n",
      "City number 328 of 615 complete. | Added pilar\n",
      "City number 329 of 615 complete. | Added klichka\n",
      "City number 330 of 615 complete. | Added saint-georges\n",
      "City number 331 of 615 complete. | Added samarkand\n",
      "City number 332 of 615 complete. | Added havelock\n",
      "City number 333 of 615 complete. | Added the valley\n",
      "City number 334 of 615 complete. | Added perth\n",
      "City number 335 of 615 complete. | Added preobrazheniye\n",
      "City number 336 of 615 complete. | Added ancud\n",
      "City number 337 of 615 complete. | Added rafaela\n",
      "City number 338 of 615 complete. | Added navirai\n",
      "City number 339 of 615 complete. | Added dalvik\n",
      "City number 340 of 615 complete. | Added shimoda\n",
      "City number 341 of 615 complete. | Added russellville\n",
      "City number 342 of 615 complete. | Added paamiut\n",
      "City number 343 of 615 complete. | Added dingle\n",
      "City number 344 of 615 complete. | Added likhoslavl\n",
      "City number 345 of 615 complete. | Added tunceli\n",
      "City number 346 of 615 complete. | Added touros\n",
      "City number 347 of 615 complete. | Added dom pedro\n",
      "City number 348 of 615 complete. | Added sur\n",
      "City number 349 of 615 complete. | Added beringovskiy\n",
      "City number 350 of 615 complete. | Added mar del plata\n",
      "City number 351 of 615 complete. | Added abalak\n",
      "Missing data in city number 352 of 615. | Skipping kuche\n",
      "City number 353 of 615 complete. | Added oranjemund\n",
      "City number 354 of 615 complete. | Added quatre cocos\n",
      "City number 355 of 615 complete. | Added ayan\n",
      "City number 356 of 615 complete. | Added tura\n",
      "City number 357 of 615 complete. | Added ascension\n",
      "City number 358 of 615 complete. | Added faya\n",
      "City number 359 of 615 complete. | Added brigantine\n",
      "Missing data in city number 360 of 615. | Skipping sorvag\n",
      "City number 361 of 615 complete. | Added puerto del rosario\n",
      "City number 362 of 615 complete. | Added ahipara\n",
      "City number 363 of 615 complete. | Added los algarrobos\n",
      "Missing data in city number 364 of 615. | Skipping tumannyy\n",
      "City number 365 of 615 complete. | Added atherton\n",
      "City number 366 of 615 complete. | Added narsaq\n",
      "City number 367 of 615 complete. | Added hadgaon\n",
      "City number 368 of 615 complete. | Added dabhol\n",
      "City number 369 of 615 complete. | Added nurota\n",
      "City number 370 of 615 complete. | Added conchas\n",
      "City number 371 of 615 complete. | Added upata\n",
      "City number 372 of 615 complete. | Added khash\n",
      "City number 373 of 615 complete. | Added xai-xai\n",
      "City number 374 of 615 complete. | Added uyuni\n",
      "City number 375 of 615 complete. | Added brigham city\n",
      "City number 376 of 615 complete. | Added sambava\n",
      "City number 377 of 615 complete. | Added juneau\n",
      "City number 378 of 615 complete. | Added ararat\n",
      "City number 379 of 615 complete. | Added todos santos\n",
      "City number 380 of 615 complete. | Added kalemie\n",
      "City number 381 of 615 complete. | Added sumenep\n",
      "City number 382 of 615 complete. | Added lingao\n",
      "City number 383 of 615 complete. | Added hasaki\n",
      "City number 384 of 615 complete. | Added broken hill\n",
      "City number 385 of 615 complete. | Added cayenne\n",
      "City number 386 of 615 complete. | Added saint george\n",
      "City number 387 of 615 complete. | Added oga\n",
      "City number 388 of 615 complete. | Added sorland\n",
      "City number 389 of 615 complete. | Added raudeberg\n",
      "City number 390 of 615 complete. | Added krasnoselkup\n",
      "City number 391 of 615 complete. | Added mitsamiouli\n",
      "City number 392 of 615 complete. | Added oksfjord\n",
      "City number 393 of 615 complete. | Added senador guiomard\n",
      "City number 394 of 615 complete. | Added imeni poliny osipenko\n",
      "City number 395 of 615 complete. | Added bodri\n",
      "City number 396 of 615 complete. | Added port moresby\n",
      "City number 397 of 615 complete. | Added la tuque\n",
      "City number 398 of 615 complete. | Added xihe\n",
      "City number 399 of 615 complete. | Added sola\n",
      "Missing data in city number 400 of 615. | Skipping umzimvubu\n",
      "City number 401 of 615 complete. | Added vao\n",
      "City number 402 of 615 complete. | Added puerto ayacucho\n",
      "City number 403 of 615 complete. | Added sao joao da barra\n",
      "City number 404 of 615 complete. | Added ituacu\n",
      "City number 405 of 615 complete. | Added atar\n",
      "City number 406 of 615 complete. | Added maceio\n",
      "City number 407 of 615 complete. | Added gumdag\n",
      "City number 408 of 615 complete. | Added karratha\n",
      "Missing data in city number 409 of 615. | Skipping mullaitivu\n",
      "City number 410 of 615 complete. | Added portland\n",
      "City number 411 of 615 complete. | Added ingham\n",
      "City number 412 of 615 complete. | Added myre\n",
      "City number 413 of 615 complete. | Added shelburne\n",
      "City number 414 of 615 complete. | Added dunedin\n",
      "City number 415 of 615 complete. | Added gawler\n",
      "City number 416 of 615 complete. | Added iaciara\n",
      "City number 417 of 615 complete. | Added pucallpa\n",
      "City number 418 of 615 complete. | Added awbari\n",
      "City number 419 of 615 complete. | Added norman wells\n",
      "City number 420 of 615 complete. | Added balakovo\n",
      "City number 421 of 615 complete. | Added tommot\n",
      "City number 422 of 615 complete. | Added pingxiang\n",
      "City number 423 of 615 complete. | Added casa grande\n",
      "City number 424 of 615 complete. | Added libenge\n",
      "Missing data in city number 425 of 615. | Skipping babanusah\n",
      "City number 426 of 615 complete. | Added labytnangi\n",
      "City number 427 of 615 complete. | Added arua\n",
      "City number 428 of 615 complete. | Added leonding\n",
      "City number 429 of 615 complete. | Added acajutla\n",
      "City number 430 of 615 complete. | Added nha trang\n",
      "City number 431 of 615 complete. | Added kargopol\n",
      "City number 432 of 615 complete. | Added colares\n",
      "City number 433 of 615 complete. | Added aksarka\n",
      "City number 434 of 615 complete. | Added lao cai\n",
      "City number 435 of 615 complete. | Added malmedy\n",
      "City number 436 of 615 complete. | Added ravar\n",
      "City number 437 of 615 complete. | Added livingston\n",
      "City number 438 of 615 complete. | Added pauini\n",
      "City number 439 of 615 complete. | Added auki\n",
      "City number 440 of 615 complete. | Added khorixas\n",
      "City number 441 of 615 complete. | Added santa marta\n",
      "City number 442 of 615 complete. | Added belfort\n",
      "City number 443 of 615 complete. | Added rostock\n",
      "City number 444 of 615 complete. | Added porto novo\n",
      "City number 445 of 615 complete. | Added kruisfontein\n",
      "City number 446 of 615 complete. | Added santa maria\n",
      "City number 447 of 615 complete. | Added axim\n",
      "City number 448 of 615 complete. | Added nova olimpia\n",
      "Missing data in city number 449 of 615. | Skipping kazalinsk\n",
      "City number 450 of 615 complete. | Added tagusao\n",
      "City number 451 of 615 complete. | Added groningen\n",
      "City number 452 of 615 complete. | Added ponta delgada\n",
      "City number 453 of 615 complete. | Added winterberg\n",
      "City number 454 of 615 complete. | Added morondava\n",
      "City number 455 of 615 complete. | Added sisimiut\n",
      "City number 456 of 615 complete. | Added vestmannaeyjar\n",
      "City number 457 of 615 complete. | Added hobyo\n",
      "City number 458 of 615 complete. | Added manacapuru\n",
      "City number 459 of 615 complete. | Added adrar\n",
      "City number 460 of 615 complete. | Added alyangula\n",
      "City number 461 of 615 complete. | Added burriana\n",
      "City number 462 of 615 complete. | Added walvis bay\n",
      "City number 463 of 615 complete. | Added petropavlovsk-kamchatskiy\n",
      "City number 464 of 615 complete. | Added flinders\n",
      "City number 465 of 615 complete. | Added ulladulla\n",
      "City number 466 of 615 complete. | Added zhengjiatun\n",
      "City number 467 of 615 complete. | Added los rastrojos\n",
      "City number 468 of 615 complete. | Added baiyin\n",
      "City number 469 of 615 complete. | Added le port\n",
      "City number 470 of 615 complete. | Added vanavara\n",
      "City number 471 of 615 complete. | Added port blair\n",
      "City number 472 of 615 complete. | Added iracoubo\n",
      "City number 473 of 615 complete. | Added san patricio\n",
      "City number 474 of 615 complete. | Added ketchikan\n",
      "Missing data in city number 475 of 615. | Skipping meyungs\n",
      "City number 476 of 615 complete. | Added banjar\n",
      "City number 477 of 615 complete. | Added shache\n",
      "City number 478 of 615 complete. | Added lexington\n",
      "City number 479 of 615 complete. | Added maraa\n",
      "City number 480 of 615 complete. | Added nantucket\n",
      "City number 481 of 615 complete. | Added darasun\n",
      "City number 482 of 615 complete. | Added conceicao do araguaia\n",
      "City number 483 of 615 complete. | Added palmer\n",
      "City number 484 of 615 complete. | Added kieta\n",
      "City number 485 of 615 complete. | Added paita\n",
      "City number 486 of 615 complete. | Added bathsheba\n",
      "City number 487 of 615 complete. | Added yar-sale\n",
      "City number 488 of 615 complete. | Added khandyga\n",
      "City number 489 of 615 complete. | Added puri\n",
      "City number 490 of 615 complete. | Added campobello di licata\n",
      "Missing data in city number 491 of 615. | Skipping tidore\n",
      "City number 492 of 615 complete. | Added lithgow\n",
      "City number 493 of 615 complete. | Added husavik\n",
      "City number 494 of 615 complete. | Added cheney\n",
      "City number 495 of 615 complete. | Added terra rica\n",
      "Missing data in city number 496 of 615. | Skipping mys shmidta\n",
      "Missing data in city number 497 of 615. | Skipping afmadu\n",
      "City number 498 of 615 complete. | Added odweyne\n",
      "City number 499 of 615 complete. | Added umkomaas\n",
      "City number 500 of 615 complete. | Added yazd\n",
      "Missing data in city number 501 of 615. | Skipping solsvik\n",
      "City number 502 of 615 complete. | Added preeceville\n",
      "City number 503 of 615 complete. | Added tacuarembo\n",
      "City number 504 of 615 complete. | Added asau\n",
      "City number 505 of 615 complete. | Added huejuquilla el alto\n",
      "City number 506 of 615 complete. | Added amposta\n",
      "City number 507 of 615 complete. | Added ostersund\n",
      "City number 508 of 615 complete. | Added coihaique\n",
      "City number 509 of 615 complete. | Added poya\n",
      "City number 510 of 615 complete. | Added gallup\n",
      "City number 511 of 615 complete. | Added bowling green\n",
      "City number 512 of 615 complete. | Added grand gaube\n",
      "City number 513 of 615 complete. | Added sobolevo\n",
      "City number 514 of 615 complete. | Added alindao\n",
      "City number 515 of 615 complete. | Added margate\n",
      "City number 516 of 615 complete. | Added honiara\n",
      "City number 517 of 615 complete. | Added marystown\n",
      "Missing data in city number 518 of 615. | Skipping louisbourg\n",
      "City number 519 of 615 complete. | Added masvingo\n",
      "City number 520 of 615 complete. | Added galway\n",
      "City number 521 of 615 complete. | Added vostok\n",
      "City number 522 of 615 complete. | Added anloga\n",
      "City number 523 of 615 complete. | Added orbetello\n",
      "City number 524 of 615 complete. | Added wagar\n",
      "City number 525 of 615 complete. | Added safaga\n",
      "City number 526 of 615 complete. | Added santa lucia\n",
      "City number 527 of 615 complete. | Added gacko\n",
      "City number 528 of 615 complete. | Added araouane\n",
      "City number 529 of 615 complete. | Added provideniya\n",
      "City number 530 of 615 complete. | Added kudahuvadhoo\n",
      "City number 531 of 615 complete. | Added caxito\n",
      "City number 532 of 615 complete. | Added xingcheng\n",
      "City number 533 of 615 complete. | Added kousseri\n",
      "City number 534 of 615 complete. | Added sungaipenuh\n",
      "City number 535 of 615 complete. | Added rani\n",
      "City number 536 of 615 complete. | Added talnakh\n",
      "City number 537 of 615 complete. | Added brookings\n",
      "City number 538 of 615 complete. | Added niteroi\n",
      "City number 539 of 615 complete. | Added shingu\n",
      "City number 540 of 615 complete. | Added hambantota\n",
      "City number 541 of 615 complete. | Added slave lake\n",
      "City number 542 of 615 complete. | Added oranjestad\n",
      "City number 543 of 615 complete. | Added teguldet\n",
      "City number 544 of 615 complete. | Added chapais\n",
      "City number 545 of 615 complete. | Added srandakan\n",
      "City number 546 of 615 complete. | Added dongsheng\n",
      "City number 547 of 615 complete. | Added sergeyevka\n",
      "City number 548 of 615 complete. | Added caravelas\n",
      "City number 549 of 615 complete. | Added yarmouth\n",
      "City number 550 of 615 complete. | Added bonthe\n",
      "City number 551 of 615 complete. | Added florida\n",
      "City number 552 of 615 complete. | Added jining\n",
      "City number 553 of 615 complete. | Added hillsboro\n",
      "City number 554 of 615 complete. | Added northfield\n",
      "City number 555 of 615 complete. | Added biak\n",
      "City number 556 of 615 complete. | Added kouango\n",
      "City number 557 of 615 complete. | Added bereznik\n",
      "City number 558 of 615 complete. | Added birjand\n",
      "City number 559 of 615 complete. | Added priiskovyy\n",
      "City number 560 of 615 complete. | Added cabo san lucas\n",
      "City number 561 of 615 complete. | Added saharanpur\n",
      "City number 562 of 615 complete. | Added shar\n",
      "City number 563 of 615 complete. | Added avera\n",
      "City number 564 of 615 complete. | Added revelstoke\n",
      "City number 565 of 615 complete. | Added kyren\n",
      "City number 566 of 615 complete. | Added benito juarez\n",
      "City number 567 of 615 complete. | Added ballyhaunis\n",
      "City number 568 of 615 complete. | Added champerico\n",
      "City number 569 of 615 complete. | Added pangnirtung\n",
      "City number 570 of 615 complete. | Added bonavista\n",
      "City number 571 of 615 complete. | Added kuytun\n",
      "City number 572 of 615 complete. | Added adolfo lopez mateos\n",
      "City number 573 of 615 complete. | Added carson city\n",
      "Missing data in city number 574 of 615. | Skipping vaitupu\n",
      "City number 575 of 615 complete. | Added kaputa\n",
      "City number 576 of 615 complete. | Added hamina\n",
      "City number 577 of 615 complete. | Added waddan\n",
      "City number 578 of 615 complete. | Added daru\n",
      "City number 579 of 615 complete. | Added karangasem\n",
      "City number 580 of 615 complete. | Added kaeo\n",
      "City number 581 of 615 complete. | Added prado\n",
      "City number 582 of 615 complete. | Added merrill\n",
      "City number 583 of 615 complete. | Added kasese\n",
      "City number 584 of 615 complete. | Added katumba\n",
      "City number 585 of 615 complete. | Added gonaives\n",
      "City number 586 of 615 complete. | Added ardakan\n",
      "City number 587 of 615 complete. | Added ulaangom\n",
      "City number 588 of 615 complete. | Added gidam\n",
      "City number 589 of 615 complete. | Added santa rosalia\n",
      "City number 590 of 615 complete. | Added kiruna\n",
      "City number 591 of 615 complete. | Added leh\n",
      "City number 592 of 615 complete. | Added cozumel\n",
      "City number 593 of 615 complete. | Added koungou\n",
      "City number 594 of 615 complete. | Added pottsville\n",
      "City number 595 of 615 complete. | Added jega\n",
      "City number 596 of 615 complete. | Added springfield\n",
      "City number 597 of 615 complete. | Added nisia floresta\n",
      "City number 598 of 615 complete. | Added armidale\n",
      "City number 599 of 615 complete. | Added yulara\n",
      "City number 600 of 615 complete. | Added novyy urgal\n",
      "City number 601 of 615 complete. | Added liverpool\n",
      "City number 602 of 615 complete. | Added olafsvik\n",
      "City number 603 of 615 complete. | Added san policarpo\n",
      "City number 604 of 615 complete. | Added whitehorse\n",
      "City number 605 of 615 complete. | Added vardo\n",
      "City number 606 of 615 complete. | Added craig\n",
      "City number 607 of 615 complete. | Added carutapera\n",
      "City number 608 of 615 complete. | Added jimenez\n",
      "City number 609 of 615 complete. | Added skelleftea\n",
      "City number 610 of 615 complete. | Added kasongo-lunda\n",
      "City number 611 of 615 complete. | Added san francisco\n",
      "City number 612 of 615 complete. | Added koulamoutou\n",
      "City number 613 of 615 complete. | Added moose factory\n",
      "City number 614 of 615 complete. | Added yatou\n",
      "City number 615 of 615 complete. | Added melfi\n",
      "------------------------------\n",
      "End of Records\n",
      "------------------------------\n"
     ]
    }
   ],
   "source": [
    "#Initiate counter for city number below\n",
    "number = 1\n",
    "\n",
    "#Lists for holding required items\n",
    "city_name = []\n",
    "lat = []\n",
    "lng = []\n",
    "temp = []\n",
    "humid = []\n",
    "clouds = []\n",
    "wind = []\n",
    "dates = []\n",
    "countries = []\n",
    "\n",
    "\n",
    "#Loop through each city, extract required items, and print result\n",
    "print('------------------------------')\n",
    "print('Start of Records')\n",
    "print('------------------------------')\n",
    "\n",
    "for city in cities:\n",
    "    try:\n",
    "        city_data = (requests.get(url + '&q=' + city)).json()\n",
    "        city_name.append(city_data['name'])\n",
    "        lat.append(city_data['coord']['lat'])\n",
    "        lng.append(city_data['coord']['lon'])\n",
    "        temp.append(city_data['main']['temp'])\n",
    "        humid.append(city_data['main']['humidity'])\n",
    "        clouds.append(city_data['clouds']['all'])\n",
    "        wind.append(city_data['wind']['speed'])\n",
    "        dates.append(city_data['dt'])\n",
    "        countries.append(city_data['sys']['country'])\n",
    "        \n",
    "        print(f'City number {number} of {len(cities)} complete. | Added {city}')\n",
    "        number = number + 1\n",
    "    \n",
    "    except KeyError:\n",
    "        print(f'Missing data in city number {number} of {len(cities)}. | Skipping {city}')\n",
    "        number = number + 1\n",
    "        \n",
    "print('------------------------------')\n",
    "print('End of Records')\n",
    "print('------------------------------')"
   ]
  },
  {
   "cell_type": "code",
   "execution_count": 18,
   "metadata": {},
   "outputs": [
    {
     "data": {
      "text/plain": [
       "13"
      ]
     },
     "execution_count": 18,
     "metadata": {},
     "output_type": "execute_result"
    }
   ],
   "source": [
    "len(city_data)"
   ]
  },
  {
   "cell_type": "code",
   "execution_count": null,
   "metadata": {},
   "outputs": [],
   "source": [
    "### Convert Raw Data to DataFrame\n",
    "* Export the city data into a .csv.\n",
    "* Display the DataFrame"
   ]
  },
  {
   "cell_type": "code",
   "execution_count": 19,
   "metadata": {},
   "outputs": [
    {
     "data": {
      "text/plain": [
       "City          571\n",
       "Latitude      571\n",
       "Longitude     571\n",
       "Max Temp      571\n",
       "Humidity      571\n",
       "Cloudiness    571\n",
       "Wind Speed    571\n",
       "Date          571\n",
       "Country       571\n",
       "dtype: int64"
      ]
     },
     "execution_count": 19,
     "metadata": {},
     "output_type": "execute_result"
    }
   ],
   "source": [
    "weather_dict = {\n",
    "    \n",
    "    \"City\": city_name, \n",
    "    \"Latitude\": lat, \n",
    "    \"Longitude\": lng,\n",
    "    \"Max Temp\": temp,\n",
    "    \"Humidity\": humid,\n",
    "    \"Cloudiness\": clouds, \n",
    "    \"Wind Speed\": wind,\n",
    "    \"Date\":dates,\n",
    "    \"Country\":countries\n",
    "   \n",
    "    \n",
    "}\n",
    "\n",
    "weather_data = pd.DataFrame(weather_dict)\n",
    "weather_data.count()"
   ]
  },
  {
   "cell_type": "code",
   "execution_count": 9,
   "metadata": {},
   "outputs": [],
   "source": [
    "#export to csv file\n",
    "weather_data.to_csv(\"weather_data.csv\")"
   ]
  },
  {
   "cell_type": "code",
   "execution_count": 20,
   "metadata": {},
   "outputs": [
    {
     "data": {
      "text/html": [
       "<div>\n",
       "<style scoped>\n",
       "    .dataframe tbody tr th:only-of-type {\n",
       "        vertical-align: middle;\n",
       "    }\n",
       "\n",
       "    .dataframe tbody tr th {\n",
       "        vertical-align: top;\n",
       "    }\n",
       "\n",
       "    .dataframe thead th {\n",
       "        text-align: right;\n",
       "    }\n",
       "</style>\n",
       "<table border=\"1\" class=\"dataframe\">\n",
       "  <thead>\n",
       "    <tr style=\"text-align: right;\">\n",
       "      <th></th>\n",
       "      <th>City</th>\n",
       "      <th>Latitude</th>\n",
       "      <th>Longitude</th>\n",
       "      <th>Max Temp</th>\n",
       "      <th>Humidity</th>\n",
       "      <th>Cloudiness</th>\n",
       "      <th>Wind Speed</th>\n",
       "      <th>Date</th>\n",
       "      <th>Country</th>\n",
       "    </tr>\n",
       "  </thead>\n",
       "  <tbody>\n",
       "    <tr>\n",
       "      <th>0</th>\n",
       "      <td>Jánossomorja</td>\n",
       "      <td>47.79</td>\n",
       "      <td>17.14</td>\n",
       "      <td>80.01</td>\n",
       "      <td>54</td>\n",
       "      <td>93</td>\n",
       "      <td>2.04</td>\n",
       "      <td>1599834340</td>\n",
       "      <td>HU</td>\n",
       "    </tr>\n",
       "    <tr>\n",
       "      <th>1</th>\n",
       "      <td>Hamilton</td>\n",
       "      <td>39.18</td>\n",
       "      <td>-84.53</td>\n",
       "      <td>67.08</td>\n",
       "      <td>82</td>\n",
       "      <td>90</td>\n",
       "      <td>10.29</td>\n",
       "      <td>1599834199</td>\n",
       "      <td>US</td>\n",
       "    </tr>\n",
       "    <tr>\n",
       "      <th>2</th>\n",
       "      <td>Kodinsk</td>\n",
       "      <td>58.69</td>\n",
       "      <td>99.18</td>\n",
       "      <td>48.43</td>\n",
       "      <td>84</td>\n",
       "      <td>100</td>\n",
       "      <td>1.81</td>\n",
       "      <td>1599834341</td>\n",
       "      <td>RU</td>\n",
       "    </tr>\n",
       "    <tr>\n",
       "      <th>3</th>\n",
       "      <td>Provost</td>\n",
       "      <td>52.35</td>\n",
       "      <td>-110.27</td>\n",
       "      <td>56.70</td>\n",
       "      <td>56</td>\n",
       "      <td>0</td>\n",
       "      <td>6.67</td>\n",
       "      <td>1599834341</td>\n",
       "      <td>CA</td>\n",
       "    </tr>\n",
       "    <tr>\n",
       "      <th>4</th>\n",
       "      <td>Hobart</td>\n",
       "      <td>-42.88</td>\n",
       "      <td>147.33</td>\n",
       "      <td>49.91</td>\n",
       "      <td>93</td>\n",
       "      <td>90</td>\n",
       "      <td>14.99</td>\n",
       "      <td>1599834201</td>\n",
       "      <td>AU</td>\n",
       "    </tr>\n",
       "  </tbody>\n",
       "</table>\n",
       "</div>"
      ],
      "text/plain": [
       "           City  Latitude  Longitude  Max Temp  Humidity  Cloudiness  \\\n",
       "0  Jánossomorja     47.79      17.14     80.01        54          93   \n",
       "1      Hamilton     39.18     -84.53     67.08        82          90   \n",
       "2       Kodinsk     58.69      99.18     48.43        84         100   \n",
       "3       Provost     52.35    -110.27     56.70        56           0   \n",
       "4        Hobart    -42.88     147.33     49.91        93          90   \n",
       "\n",
       "   Wind Speed        Date Country  \n",
       "0        2.04  1599834340      HU  \n",
       "1       10.29  1599834199      US  \n",
       "2        1.81  1599834341      RU  \n",
       "3        6.67  1599834341      CA  \n",
       "4       14.99  1599834201      AU  "
      ]
     },
     "execution_count": 20,
     "metadata": {},
     "output_type": "execute_result"
    }
   ],
   "source": [
    "weather_data = pd.DataFrame(weather_dict)\n",
    "weather_data.head(5)"
   ]
  },
  {
   "cell_type": "code",
   "execution_count": 16,
   "metadata": {},
   "outputs": [
    {
     "data": {
      "text/html": [
       "<div>\n",
       "<style scoped>\n",
       "    .dataframe tbody tr th:only-of-type {\n",
       "        vertical-align: middle;\n",
       "    }\n",
       "\n",
       "    .dataframe tbody tr th {\n",
       "        vertical-align: top;\n",
       "    }\n",
       "\n",
       "    .dataframe thead th {\n",
       "        text-align: right;\n",
       "    }\n",
       "</style>\n",
       "<table border=\"1\" class=\"dataframe\">\n",
       "  <thead>\n",
       "    <tr style=\"text-align: right;\">\n",
       "      <th></th>\n",
       "      <th>Lat</th>\n",
       "      <th>Lng</th>\n",
       "      <th>Max Temp</th>\n",
       "      <th>Humidity</th>\n",
       "      <th>Cloudiness</th>\n",
       "      <th>Wind Speed</th>\n",
       "      <th>Date</th>\n",
       "    </tr>\n",
       "  </thead>\n",
       "  <tbody>\n",
       "    <tr>\n",
       "      <td>count</td>\n",
       "      <td>599.000000</td>\n",
       "      <td>599.000000</td>\n",
       "      <td>599.000000</td>\n",
       "      <td>599.000000</td>\n",
       "      <td>599.000000</td>\n",
       "      <td>599.000000</td>\n",
       "      <td>5.990000e+02</td>\n",
       "    </tr>\n",
       "    <tr>\n",
       "      <td>mean</td>\n",
       "      <td>19.877028</td>\n",
       "      <td>19.568998</td>\n",
       "      <td>69.794808</td>\n",
       "      <td>69.353923</td>\n",
       "      <td>51.569282</td>\n",
       "      <td>7.979416</td>\n",
       "      <td>1.593605e+09</td>\n",
       "    </tr>\n",
       "    <tr>\n",
       "      <td>std</td>\n",
       "      <td>33.262944</td>\n",
       "      <td>91.418472</td>\n",
       "      <td>15.678452</td>\n",
       "      <td>22.704698</td>\n",
       "      <td>35.405602</td>\n",
       "      <td>5.660694</td>\n",
       "      <td>5.738815e+01</td>\n",
       "    </tr>\n",
       "    <tr>\n",
       "      <td>min</td>\n",
       "      <td>-54.800000</td>\n",
       "      <td>-179.170000</td>\n",
       "      <td>12.200000</td>\n",
       "      <td>7.000000</td>\n",
       "      <td>0.000000</td>\n",
       "      <td>0.360000</td>\n",
       "      <td>1.593605e+09</td>\n",
       "    </tr>\n",
       "    <tr>\n",
       "      <td>25%</td>\n",
       "      <td>-8.540000</td>\n",
       "      <td>-61.210000</td>\n",
       "      <td>59.000000</td>\n",
       "      <td>55.000000</td>\n",
       "      <td>20.000000</td>\n",
       "      <td>3.620000</td>\n",
       "      <td>1.593605e+09</td>\n",
       "    </tr>\n",
       "    <tr>\n",
       "      <td>50%</td>\n",
       "      <td>24.370000</td>\n",
       "      <td>24.670000</td>\n",
       "      <td>73.110000</td>\n",
       "      <td>75.000000</td>\n",
       "      <td>59.000000</td>\n",
       "      <td>6.730000</td>\n",
       "      <td>1.593605e+09</td>\n",
       "    </tr>\n",
       "    <tr>\n",
       "      <td>75%</td>\n",
       "      <td>46.585000</td>\n",
       "      <td>102.255000</td>\n",
       "      <td>80.600000</td>\n",
       "      <td>87.000000</td>\n",
       "      <td>85.000000</td>\n",
       "      <td>11.050000</td>\n",
       "      <td>1.593605e+09</td>\n",
       "    </tr>\n",
       "    <tr>\n",
       "      <td>max</td>\n",
       "      <td>78.220000</td>\n",
       "      <td>179.320000</td>\n",
       "      <td>116.600000</td>\n",
       "      <td>100.000000</td>\n",
       "      <td>100.000000</td>\n",
       "      <td>42.500000</td>\n",
       "      <td>1.593605e+09</td>\n",
       "    </tr>\n",
       "  </tbody>\n",
       "</table>\n",
       "</div>"
      ],
      "text/plain": [
       "              Lat         Lng    Max Temp    Humidity  Cloudiness  Wind Speed  \\\n",
       "count  599.000000  599.000000  599.000000  599.000000  599.000000  599.000000   \n",
       "mean    19.877028   19.568998   69.794808   69.353923   51.569282    7.979416   \n",
       "std     33.262944   91.418472   15.678452   22.704698   35.405602    5.660694   \n",
       "min    -54.800000 -179.170000   12.200000    7.000000    0.000000    0.360000   \n",
       "25%     -8.540000  -61.210000   59.000000   55.000000   20.000000    3.620000   \n",
       "50%     24.370000   24.670000   73.110000   75.000000   59.000000    6.730000   \n",
       "75%     46.585000  102.255000   80.600000   87.000000   85.000000   11.050000   \n",
       "max     78.220000  179.320000  116.600000  100.000000  100.000000   42.500000   \n",
       "\n",
       "               Date  \n",
       "count  5.990000e+02  \n",
       "mean   1.593605e+09  \n",
       "std    5.738815e+01  \n",
       "min    1.593605e+09  \n",
       "25%    1.593605e+09  \n",
       "50%    1.593605e+09  \n",
       "75%    1.593605e+09  \n",
       "max    1.593605e+09  "
      ]
     },
     "execution_count": 16,
     "metadata": {},
     "output_type": "execute_result"
    }
   ],
   "source": [
    "#stats"
   ]
  },
  {
   "cell_type": "markdown",
   "metadata": {},
   "source": [
    "## Inspect the data and remove the cities where the humidity > 100%.\n",
    "----\n",
    "Skip this step if there are no cities that have humidity > 100%. "
   ]
  },
  {
   "cell_type": "code",
   "execution_count": 6,
   "metadata": {},
   "outputs": [
    {
     "data": {
      "text/html": [
       "<div>\n",
       "<style scoped>\n",
       "    .dataframe tbody tr th:only-of-type {\n",
       "        vertical-align: middle;\n",
       "    }\n",
       "\n",
       "    .dataframe tbody tr th {\n",
       "        vertical-align: top;\n",
       "    }\n",
       "\n",
       "    .dataframe thead th {\n",
       "        text-align: right;\n",
       "    }\n",
       "</style>\n",
       "<table border=\"1\" class=\"dataframe\">\n",
       "  <thead>\n",
       "    <tr style=\"text-align: right;\">\n",
       "      <th></th>\n",
       "      <th>Lat</th>\n",
       "      <th>Lng</th>\n",
       "      <th>Max Temp</th>\n",
       "      <th>Humidity</th>\n",
       "      <th>Cloudiness</th>\n",
       "      <th>Wind Speed</th>\n",
       "      <th>Date</th>\n",
       "    </tr>\n",
       "  </thead>\n",
       "  <tbody>\n",
       "    <tr>\n",
       "      <th>count</th>\n",
       "      <td>550.000000</td>\n",
       "      <td>550.000000</td>\n",
       "      <td>550.000000</td>\n",
       "      <td>550.000000</td>\n",
       "      <td>550.000000</td>\n",
       "      <td>550.000000</td>\n",
       "      <td>5.500000e+02</td>\n",
       "    </tr>\n",
       "    <tr>\n",
       "      <th>mean</th>\n",
       "      <td>19.973545</td>\n",
       "      <td>17.124400</td>\n",
       "      <td>58.331400</td>\n",
       "      <td>67.890909</td>\n",
       "      <td>52.141818</td>\n",
       "      <td>8.544800</td>\n",
       "      <td>1.585764e+09</td>\n",
       "    </tr>\n",
       "    <tr>\n",
       "      <th>std</th>\n",
       "      <td>33.284840</td>\n",
       "      <td>91.595451</td>\n",
       "      <td>25.795297</td>\n",
       "      <td>20.864881</td>\n",
       "      <td>35.766469</td>\n",
       "      <td>6.078869</td>\n",
       "      <td>5.539674e+01</td>\n",
       "    </tr>\n",
       "    <tr>\n",
       "      <th>min</th>\n",
       "      <td>-54.800000</td>\n",
       "      <td>-179.170000</td>\n",
       "      <td>-11.340000</td>\n",
       "      <td>9.000000</td>\n",
       "      <td>0.000000</td>\n",
       "      <td>0.160000</td>\n",
       "      <td>1.585764e+09</td>\n",
       "    </tr>\n",
       "    <tr>\n",
       "      <th>25%</th>\n",
       "      <td>-8.077500</td>\n",
       "      <td>-64.627500</td>\n",
       "      <td>42.800000</td>\n",
       "      <td>55.000000</td>\n",
       "      <td>20.000000</td>\n",
       "      <td>4.525000</td>\n",
       "      <td>1.585764e+09</td>\n",
       "    </tr>\n",
       "    <tr>\n",
       "      <th>50%</th>\n",
       "      <td>23.630000</td>\n",
       "      <td>19.635000</td>\n",
       "      <td>64.940000</td>\n",
       "      <td>72.000000</td>\n",
       "      <td>57.000000</td>\n",
       "      <td>7.325000</td>\n",
       "      <td>1.585764e+09</td>\n",
       "    </tr>\n",
       "    <tr>\n",
       "      <th>75%</th>\n",
       "      <td>48.672500</td>\n",
       "      <td>97.350000</td>\n",
       "      <td>78.800000</td>\n",
       "      <td>83.000000</td>\n",
       "      <td>86.750000</td>\n",
       "      <td>11.410000</td>\n",
       "      <td>1.585764e+09</td>\n",
       "    </tr>\n",
       "    <tr>\n",
       "      <th>max</th>\n",
       "      <td>78.220000</td>\n",
       "      <td>179.320000</td>\n",
       "      <td>102.200000</td>\n",
       "      <td>100.000000</td>\n",
       "      <td>100.000000</td>\n",
       "      <td>46.080000</td>\n",
       "      <td>1.585764e+09</td>\n",
       "    </tr>\n",
       "  </tbody>\n",
       "</table>\n",
       "</div>"
      ],
      "text/plain": [
       "              Lat         Lng    Max Temp    Humidity  Cloudiness  Wind Speed  \\\n",
       "count  550.000000  550.000000  550.000000  550.000000  550.000000  550.000000   \n",
       "mean    19.973545   17.124400   58.331400   67.890909   52.141818    8.544800   \n",
       "std     33.284840   91.595451   25.795297   20.864881   35.766469    6.078869   \n",
       "min    -54.800000 -179.170000  -11.340000    9.000000    0.000000    0.160000   \n",
       "25%     -8.077500  -64.627500   42.800000   55.000000   20.000000    4.525000   \n",
       "50%     23.630000   19.635000   64.940000   72.000000   57.000000    7.325000   \n",
       "75%     48.672500   97.350000   78.800000   83.000000   86.750000   11.410000   \n",
       "max     78.220000  179.320000  102.200000  100.000000  100.000000   46.080000   \n",
       "\n",
       "               Date  \n",
       "count  5.500000e+02  \n",
       "mean   1.585764e+09  \n",
       "std    5.539674e+01  \n",
       "min    1.585764e+09  \n",
       "25%    1.585764e+09  \n",
       "50%    1.585764e+09  \n",
       "75%    1.585764e+09  \n",
       "max    1.585764e+09  "
      ]
     },
     "execution_count": 6,
     "metadata": {},
     "output_type": "execute_result"
    }
   ],
   "source": []
  },
  {
   "cell_type": "code",
   "execution_count": 17,
   "metadata": {},
   "outputs": [
    {
     "data": {
      "text/plain": [
       "Int64Index([], dtype='int64')"
      ]
     },
     "execution_count": 17,
     "metadata": {},
     "output_type": "execute_result"
    }
   ],
   "source": [
    "#  Get the indices of cities that have humidity over 100%.\n"
   ]
  },
  {
   "cell_type": "code",
   "execution_count": 19,
   "metadata": {},
   "outputs": [
    {
     "data": {
      "text/html": [
       "<div>\n",
       "<style scoped>\n",
       "    .dataframe tbody tr th:only-of-type {\n",
       "        vertical-align: middle;\n",
       "    }\n",
       "\n",
       "    .dataframe tbody tr th {\n",
       "        vertical-align: top;\n",
       "    }\n",
       "\n",
       "    .dataframe thead th {\n",
       "        text-align: right;\n",
       "    }\n",
       "</style>\n",
       "<table border=\"1\" class=\"dataframe\">\n",
       "  <thead>\n",
       "    <tr style=\"text-align: right;\">\n",
       "      <th></th>\n",
       "      <th>City</th>\n",
       "      <th>Lat</th>\n",
       "      <th>Lng</th>\n",
       "      <th>Max Temp</th>\n",
       "      <th>Humidity</th>\n",
       "      <th>Cloudiness</th>\n",
       "      <th>Wind Speed</th>\n",
       "      <th>Country</th>\n",
       "      <th>Date</th>\n",
       "    </tr>\n",
       "  </thead>\n",
       "  <tbody>\n",
       "    <tr>\n",
       "      <td>0</td>\n",
       "      <td>butaritari</td>\n",
       "      <td>3.07</td>\n",
       "      <td>172.79</td>\n",
       "      <td>83.32</td>\n",
       "      <td>74</td>\n",
       "      <td>84</td>\n",
       "      <td>10.42</td>\n",
       "      <td>KI</td>\n",
       "      <td>1593605283</td>\n",
       "    </tr>\n",
       "    <tr>\n",
       "      <td>1</td>\n",
       "      <td>yerbogachen</td>\n",
       "      <td>61.28</td>\n",
       "      <td>108.01</td>\n",
       "      <td>79.52</td>\n",
       "      <td>58</td>\n",
       "      <td>20</td>\n",
       "      <td>7.70</td>\n",
       "      <td>RU</td>\n",
       "      <td>1593605121</td>\n",
       "    </tr>\n",
       "    <tr>\n",
       "      <td>2</td>\n",
       "      <td>cape town</td>\n",
       "      <td>-33.93</td>\n",
       "      <td>18.42</td>\n",
       "      <td>73.00</td>\n",
       "      <td>77</td>\n",
       "      <td>27</td>\n",
       "      <td>4.70</td>\n",
       "      <td>ZA</td>\n",
       "      <td>1593605039</td>\n",
       "    </tr>\n",
       "    <tr>\n",
       "      <td>3</td>\n",
       "      <td>touba</td>\n",
       "      <td>8.28</td>\n",
       "      <td>-7.68</td>\n",
       "      <td>79.97</td>\n",
       "      <td>75</td>\n",
       "      <td>82</td>\n",
       "      <td>3.58</td>\n",
       "      <td>CI</td>\n",
       "      <td>1593605284</td>\n",
       "    </tr>\n",
       "    <tr>\n",
       "      <td>4</td>\n",
       "      <td>jamestown</td>\n",
       "      <td>42.10</td>\n",
       "      <td>-79.24</td>\n",
       "      <td>64.00</td>\n",
       "      <td>88</td>\n",
       "      <td>1</td>\n",
       "      <td>6.93</td>\n",
       "      <td>US</td>\n",
       "      <td>1593605284</td>\n",
       "    </tr>\n",
       "  </tbody>\n",
       "</table>\n",
       "</div>"
      ],
      "text/plain": [
       "          City    Lat     Lng  Max Temp  Humidity  Cloudiness  Wind Speed  \\\n",
       "0   butaritari   3.07  172.79     83.32        74          84       10.42   \n",
       "1  yerbogachen  61.28  108.01     79.52        58          20        7.70   \n",
       "2    cape town -33.93   18.42     73.00        77          27        4.70   \n",
       "3        touba   8.28   -7.68     79.97        75          82        3.58   \n",
       "4    jamestown  42.10  -79.24     64.00        88           1        6.93   \n",
       "\n",
       "  Country        Date  \n",
       "0      KI  1593605283  \n",
       "1      RU  1593605121  \n",
       "2      ZA  1593605039  \n",
       "3      CI  1593605284  \n",
       "4      US  1593605284  "
      ]
     },
     "execution_count": 19,
     "metadata": {},
     "output_type": "execute_result"
    }
   ],
   "source": [
    "# Make a new DataFrame equal to the city data to drop all humidity outliers by index.\n",
    "# Passing \"inplace=False\" will make a copy of the city_data DataFrame, which we call \"clean_city_data\".\n"
   ]
  },
  {
   "cell_type": "code",
   "execution_count": null,
   "metadata": {},
   "outputs": [],
   "source": [
    "\n"
   ]
  },
  {
   "cell_type": "markdown",
   "metadata": {},
   "source": [
    "## Plotting the Data\n",
    "* Use proper labeling of the plots using plot titles (including date of analysis) and axes labels.\n",
    "* Save the plotted figures as .pngs."
   ]
  },
  {
   "cell_type": "markdown",
   "metadata": {},
   "source": [
    "## Latitude vs. Temperature Plot"
   ]
  },
  {
   "cell_type": "code",
   "execution_count": 30,
   "metadata": {
    "scrolled": true
   },
   "outputs": [
    {
     "data": {
      "image/png": "[encoded data removed]",
      "text/plain": [
       "<Figure size 432x288 with 1 Axes>"
      ]
     },
     "metadata": {
      "needs_background": "light"
     },
     "output_type": "display_data"
    }
   ],
   "source": [
    "plt.scatter(weather_data['Latitude'], weather_data['Max Temp'])\n",
    "plt.title(f'City Latitude vs. Temperature {date.today()}')\n",
    "plt.xlabel('Latitude')\n",
    "plt.ylabel('Temperature (F)')\n",
    "plt.grid(True)\n",
    "plt.savefig('lat_temp.png', bbox_inches='tight')"
   ]
  },
  {
   "cell_type": "markdown",
   "metadata": {},
   "source": [
    "## Latitude vs. Humidity Plot"
   ]
  },
  {
   "cell_type": "code",
   "execution_count": 31,
   "metadata": {},
   "outputs": [
    {
     "data": {
      "image/png": "[encoded data removed]",
      "text/plain": [
       "<Figure size 432x288 with 1 Axes>"
      ]
     },
     "metadata": {
      "needs_background": "light"
     },
     "output_type": "display_data"
    }
   ],
   "source": [
    "plt.scatter(weather_data['Latitude'], weather_data['Humidity'])\n",
    "plt.title(f'City Latitude vs. Humidity {date.today()}')\n",
    "plt.xlabel('Latitude')\n",
    "plt.ylabel('Humidity')\n",
    "plt.grid(True)\n",
    "plt.savefig('lat_humid.png', bbox_inches='tight')"
   ]
  },
  {
   "cell_type": "markdown",
   "metadata": {},
   "source": [
    "## Latitude vs. Cloudiness Plot"
   ]
  },
  {
   "cell_type": "code",
   "execution_count": 32,
   "metadata": {},
   "outputs": [
    {
     "data": {
      "image/png": "[encoded data removed]",
      "text/plain": [
       "<Figure size 432x288 with 1 Axes>"
      ]
     },
     "metadata": {
      "needs_background": "light"
     },
     "output_type": "display_data"
    }
   ],
   "source": [
    "plt.scatter(weather_data['Latitude'], weather_data['Cloudiness'])\n",
    "plt.title(f'City Latitude vs. Cloudiness {date.today()}')\n",
    "plt.xlabel('Latitude')\n",
    "plt.ylabel('Cloudiness')\n",
    "plt.grid(True)\n",
    "plt.savefig('lat_cloud.png', bbox_inches='tight')"
   ]
  },
  {
   "cell_type": "markdown",
   "metadata": {},
   "source": [
    "## Latitude vs. Wind Speed Plot"
   ]
  },
  {
   "cell_type": "code",
   "execution_count": 58,
   "metadata": {},
   "outputs": [
    {
     "data": {
      "image/png": "[encoded data removed]",
      "text/plain": [
       "<Figure size 432x288 with 1 Axes>"
      ]
     },
     "metadata": {
      "needs_background": "light"
     },
     "output_type": "display_data"
    }
   ],
   "source": [
    "plt.scatter(weather_data['Latitude'], weather_data['Wind Speed'])\n",
    "plt.title(f'City Latitude vs. Wind Speed {date.today()}')\n",
    "plt.xlabel('Latitude')\n",
    "plt.ylabel('Wind Speed')\n",
    "plt.grid(True)\n",
    "plt.savefig('lat_wind.png', bbox_inches='tight')"
   ]
  },
  {
   "cell_type": "markdown",
   "metadata": {},
   "source": [
    "## Linear Regression"
   ]
  },
  {
   "cell_type": "code",
   "execution_count": 53,
   "metadata": {},
   "outputs": [],
   "source": [
    "#create northern and southern hemisphere dataframes\n",
    "northern_df = weather_data.loc[weather_data[\"Latitude\"] >= 0]\n",
    "southern_df = weather_data.loc[weather_data[\"Latitude\"] <= 0]"
   ]
  },
  {
   "cell_type": "markdown",
   "metadata": {},
   "source": [
    "####  Northern Hemisphere - Max Temp vs. Latitude Linear Regression"
   ]
  },
  {
   "cell_type": "code",
   "execution_count": 72,
   "metadata": {},
   "outputs": [],
   "source": [
    "# Define function for creating linear agression and scatter plot\n",
    "def linear_agression(x,y):\n",
    "    print(f\"The r-squared is : {round(st.pearsonr(x, y)[0],2)}\")\n",
    "    (slope, intercept, rvalue, pvalue, stderr) = linregress(x, y)\n",
    "    regress_values = x * slope + intercept\n",
    "    line_eq = \"y = \" + str(round(slope,2)) + \"x + \" + str(round(intercept,2))\n",
    "    plt.annotate(line_eq,(6,10),fontsize=15,color=\"red\")\n",
    "    print(f\"Regression line equation is: {line_eq}\")\n",
    "    plt.scatter(x, y)\n",
    "    plt.plot(x,regress_values,\"r-\")\n",
    "    return line_eq\n",
    "\n",
    "# Define a fuction for annotating\n",
    "def annotate(line_eq, a, b):\n",
    "    plt.annotate(line_eq,(a,b),fontsize=15,color=\"red\")"
   ]
  },
  {
   "cell_type": "code",
   "execution_count": 121,
   "metadata": {},
   "outputs": [
    {
     "name": "stdout",
     "output_type": "stream",
     "text": [
      "The r-squared is : -0.78\n",
      "Regression line equation is: y = -0.7x + 94.02\n"
     ]
    },
    {
     "data": {
      "image/png": "[encoded data removed]",
      "text/plain": [
       "<Figure size 432x288 with 1 Axes>"
      ]
     },
     "metadata": {
      "needs_background": "light"
     },
     "output_type": "display_data"
    }
   ],
   "source": [
    "equation = linear_agression(northern_df[\"Latitude\"], northern_df[\"Max Temp\"])\n",
    "\n",
    "# title\n",
    "plt.title(\"Northern Hemisphere - Max Temp vs. Latitude Linear Regression\")\n",
    "\n",
    "# labels\n",
    "plt.xlabel(\"Latitude\")\n",
    "plt.ylabel(\"Max Temp (F)\")\n",
    "plt.xlim(-10, 90)\n",
    "plt.ylim(0, 150)\n",
    "\n",
    "# Save the figure\n",
    "plt.savefig('northern_hemisphere_lat_temp.png', bbox_inches='tight')"
   ]
  },
  {
   "cell_type": "markdown",
   "metadata": {},
   "source": [
    "####  Southern Hemisphere - Max Temp vs. Latitude Linear Regression"
   ]
  },
  {
   "cell_type": "code",
   "execution_count": 119,
   "metadata": {},
   "outputs": [
    {
     "name": "stdout",
     "output_type": "stream",
     "text": [
      "The r-squared is : 0.76\n",
      "Regression line equation is: y = 0.84x + 88.02\n"
     ]
    },
    {
     "data": {
      "image/png": "[encoded data removed]",
      "text/plain": [
       "<Figure size 432x288 with 1 Axes>"
      ]
     },
     "metadata": {
      "needs_background": "light"
     },
     "output_type": "display_data"
    }
   ],
   "source": [
    "# Define function for creating linear agression and scatter plot\n",
    "def linear_agression(x,y):\n",
    "    print(f\"The r-squared is : {round(st.pearsonr(x, y)[0],2)}\")\n",
    "    (slope, intercept, rvalue, pvalue, stderr) = linregress(x, y)\n",
    "    regress_values = x * slope + intercept\n",
    "    line_eq = \"y = \" + str(round(slope,2)) + \"x + \" + str(round(intercept,2))\n",
    "    plt.annotate(line_eq,(6,10),fontsize=15,color=\"red\")\n",
    "    print(f\"Regression line equation is: {line_eq}\")\n",
    "    plt.scatter(x, y)\n",
    "    plt.plot(x,regress_values,\"r-\")\n",
    "    return line_eq\n",
    "\n",
    "# Define a fuction for annotating\n",
    "def annotate(line_eq, a, b):\n",
    "    plt.annotate(line_eq,(a,b),fontsize=15,color=\"red\")\n",
    "    \n",
    "equation = linear_agression(southern_df[\"Latitude\"], southern_df[\"Max Temp\"])\n",
    "\n",
    "# title\n",
    "plt.title(\"Southern Hemisphere - Max Temp vs. Latitude Linear Regression\")\n",
    "\n",
    "# labels\n",
    "plt.xlabel(\"Latitude\")\n",
    "plt.ylabel(\"Max Temp (F)\")\n",
    "plt.xlim(-75, 75)\n",
    "plt.ylim(0, 120)\n",
    "\n",
    "# Save the figure\n",
    "plt.savefig('southern_hemisphere_maxtemp.png', bbox_inches='tight')"
   ]
  },
  {
   "cell_type": "markdown",
   "metadata": {},
   "source": [
    "####  Northern Hemisphere - Humidity (%) vs. Latitude Linear Regression"
   ]
  },
  {
   "cell_type": "code",
   "execution_count": 122,
   "metadata": {},
   "outputs": [
    {
     "name": "stdout",
     "output_type": "stream",
     "text": [
      "The r-squared is : 0.09\n",
      "Regression line equation is: y = 0.08x + 34.39\n"
     ]
    },
    {
     "data": {
      "image/png": "[encoded data removed]",
      "text/plain": [
       "<Figure size 432x288 with 1 Axes>"
      ]
     },
     "metadata": {
      "needs_background": "light"
     },
     "output_type": "display_data"
    }
   ],
   "source": [
    "# Define a fuction for annotating\n",
    "def annotate(line_eq, a, b):\n",
    "    plt.annotate(line_eq,(a,b),fontsize=15,color=\"red\")\n",
    "    \n",
    "equation = linear_agression(northern_df[\"Humidity\"], northern_df[\"Latitude\"])\n",
    "\n",
    "# title\n",
    "plt.title(\"Northern Hemisphere - Humidity vs. Latitude Linear Regression\")\n",
    "\n",
    "# labels\n",
    "plt.xlabel(\"Latitude\")\n",
    "plt.ylabel(\"Humidity\")\n",
    "plt.xlim(0, 110)\n",
    "plt.ylim(-10, 100)\n",
    "\n",
    "# Save the figure\n",
    "plt.savefig('northern_hemisphere_lat_humid.png', bbox_inches='tight')    "
   ]
  },
  {
   "cell_type": "markdown",
   "metadata": {},
   "source": [
    "####  Southern Hemisphere - Humidity (%) vs. Latitude Linear Regression"
   ]
  },
  {
   "cell_type": "code",
   "execution_count": 123,
   "metadata": {},
   "outputs": [
    {
     "name": "stdout",
     "output_type": "stream",
     "text": [
      "The r-squared is : -0.1\n",
      "Regression line equation is: y = -0.06x + -16.59\n"
     ]
    },
    {
     "data": {
      "image/png": "[encoded data removed]",
      "text/plain": [
       "<Figure size 432x288 with 1 Axes>"
      ]
     },
     "metadata": {
      "needs_background": "light"
     },
     "output_type": "display_data"
    }
   ],
   "source": [
    "# Define a fuction for annotating\n",
    "def annotate(line_eq, a, b):\n",
    "    plt.annotate(line_eq,(a,b),fontsize=15,color=\"red\")\n",
    "    \n",
    "equation = linear_agression(southern_df[\"Humidity\"], southern_df[\"Latitude\"])\n",
    "\n",
    "# title\n",
    "plt.title(\"Southern Hemisphere - Humidity vs. Latitude Linear Regression\")\n",
    "\n",
    "# labels\n",
    "plt.xlabel(\"Latitude\")\n",
    "plt.ylabel(\"Humidity\")\n",
    "plt.xlim(-5, 120)\n",
    "plt.ylim(-70, 100)\n",
    "\n",
    "# Save the figure\n",
    "plt.savefig('southeren_hemishpere_lat_humid.png', bbox_inches='tight')    "
   ]
  },
  {
   "cell_type": "markdown",
   "metadata": {},
   "source": [
    "####  Northern Hemisphere - Cloudiness (%) vs. Latitude Linear Regression"
   ]
  },
  {
   "cell_type": "code",
   "execution_count": 124,
   "metadata": {},
   "outputs": [
    {
     "name": "stdout",
     "output_type": "stream",
     "text": [
      "The r-squared is : 0.02\n",
      "Regression line equation is: y = 0.01x + 39.45\n"
     ]
    },
    {
     "data": {
      "image/png": "[encoded data removed]",
      "text/plain": [
       "<Figure size 432x288 with 1 Axes>"
      ]
     },
     "metadata": {
      "needs_background": "light"
     },
     "output_type": "display_data"
    }
   ],
   "source": [
    "# Define a fuction for annotating\n",
    "def annotate(line_eq, a, b):\n",
    "    plt.annotate(line_eq,(a,b),fontsize=15,color=\"red\")\n",
    "    \n",
    "equation = linear_agression(northern_df[\"Cloudiness\"], northern_df[\"Latitude\"])\n",
    "\n",
    "# title\n",
    "plt.title(\"Northern Hemisphere - Humidity vs. Latitude Linear Regression\")\n",
    "\n",
    "# labels\n",
    "plt.xlabel(\"Latitude\")\n",
    "plt.ylabel(\"Cloudiness\")\n",
    "plt.xlim(-10, 110)\n",
    "plt.ylim(-10, 90)\n",
    "\n",
    "# Save the figure\n",
    "plt.savefig('northern_hemisphere_lat_cloudiness.png', bbox_inches='tight')    "
   ]
  },
  {
   "cell_type": "markdown",
   "metadata": {},
   "source": [
    "####  Southern Hemisphere - Cloudiness (%) vs. Latitude Linear Regression"
   ]
  },
  {
   "cell_type": "code",
   "execution_count": 125,
   "metadata": {},
   "outputs": [
    {
     "name": "stdout",
     "output_type": "stream",
     "text": [
      "The r-squared is : 0.18\n",
      "Regression line equation is: y = 0.06x + -22.97\n"
     ]
    },
    {
     "data": {
      "image/png": "[encoded data removed]",
      "text/plain": [
       "<Figure size 432x288 with 1 Axes>"
      ]
     },
     "metadata": {
      "needs_background": "light"
     },
     "output_type": "display_data"
    }
   ],
   "source": [
    "# Define a fuction for annotating\n",
    "def annotate(line_eq, a, b):\n",
    "    plt.annotate(line_eq,(a,b),fontsize=15,color=\"red\")\n",
    "    \n",
    "equation = linear_agression(southern_df[\"Cloudiness\"], southern_df[\"Latitude\"])\n",
    "\n",
    "# title\n",
    "plt.title(\"Southern Hemisphere - Humidity vs. Latitude Linear Regression\")\n",
    "\n",
    "# labels\n",
    "plt.xlabel(\"Latitude\")\n",
    "plt.ylabel(\"Cloudiness\")\n",
    "plt.xlim(-10, 110)\n",
    "plt.ylim(-60, 20)\n",
    "\n",
    "# Save the figure\n",
    "plt.savefig('southern_hemisphere_lat_cloudiness.png', bbox_inches='tight') "
   ]
  },
  {
   "cell_type": "markdown",
   "metadata": {},
   "source": [
    "####  Northern Hemisphere - Wind Speed (mph) vs. Latitude Linear Regression"
   ]
  },
  {
   "cell_type": "code",
   "execution_count": 126,
   "metadata": {},
   "outputs": [
    {
     "name": "stdout",
     "output_type": "stream",
     "text": [
      "The r-squared is : 0.09\n",
      "Regression line equation is: y = 0.32x + 37.6\n"
     ]
    },
    {
     "data": {
      "image/png": "[encoded data removed]",
      "text/plain": [
       "<Figure size 432x288 with 1 Axes>"
      ]
     },
     "metadata": {
      "needs_background": "light"
     },
     "output_type": "display_data"
    }
   ],
   "source": [
    "# Define a fuction for annotating\n",
    "def annotate(line_eq, a, b):\n",
    "    plt.annotate(line_eq,(a,b),fontsize=15,color=\"red\")\n",
    "    \n",
    "equation = linear_agression(northern_df[\"Wind Speed\"], northern_df[\"Latitude\"])\n",
    "\n",
    "# title\n",
    "plt.title(\"Northern Hemisphere - Wind Speed vs. Latitude Linear Regression\")\n",
    "\n",
    "# labels\n",
    "plt.xlabel(\"Latitude\")\n",
    "plt.ylabel(\"Wind Speed\")\n",
    "plt.xlim(-5, 40)\n",
    "plt.ylim(-20, 90)\n",
    "\n",
    "# Save the figure\n",
    "plt.savefig('northern_hemisphere_lat_windspeed.png', bbox_inches='tight') "
   ]
  },
  {
   "cell_type": "markdown",
   "metadata": {},
   "source": [
    "####  Southern Hemisphere - Wind Speed (mph) vs. Latitude Linear Regression"
   ]
  },
  {
   "cell_type": "code",
   "execution_count": 127,
   "metadata": {},
   "outputs": [
    {
     "name": "stdout",
     "output_type": "stream",
     "text": [
      "The r-squared is : 0.06\n",
      "Regression line equation is: y = 0.16x + -21.77\n"
     ]
    },
    {
     "data": {
      "image/png": "[encoded data removed]",
      "text/plain": [
       "<Figure size 432x288 with 1 Axes>"
      ]
     },
     "metadata": {
      "needs_background": "light"
     },
     "output_type": "display_data"
    }
   ],
   "source": [
    "# Define a fuction for annotating\n",
    "def annotate(line_eq, a, b):\n",
    "    plt.annotate(line_eq,(a,b),fontsize=15,color=\"red\")\n",
    "    \n",
    "equation = linear_agression(southern_df[\"Wind Speed\"], southern_df[\"Latitude\"])\n",
    "\n",
    "# title\n",
    "plt.title(\"Southern Hemisphere - Wind Speed vs. Latitude Linear Regression\")\n",
    "\n",
    "# labels\n",
    "plt.xlabel(\"Latitude\")\n",
    "plt.ylabel(\"Wind Speed\")\n",
    "plt.xlim(-5, 30)\n",
    "plt.ylim(-50, 20)\n",
    "\n",
    "# Save the figure\n",
    "plt.savefig('southeren_hemisphere_lat_windspeed.png', bbox_inches='tight') "
   ]
  },
  {
   "cell_type": "code",
   "execution_count": null,
   "metadata": {},
   "outputs": [],
   "source": []
  }
 ],
 "metadata": {
  "anaconda-cloud": {},
  "kernel_info": {
   "name": "python3"
  },
  "kernelspec": {
   "display_name": "Python 3",
   "language": "python",
   "name": "python3"
  },
  "language_info": {
   "codemirror_mode": {
    "name": "ipython",
    "version": 3
   },
   "file_extension": ".py",
   "mimetype": "text/x-python",
   "name": "python",
   "nbconvert_exporter": "python",
   "pygments_lexer": "ipython3",
   "version": "3.7.6"
  },
  "latex_envs": {
   "LaTeX_envs_menu_present": true,
   "autoclose": false,
   "autocomplete": true,
   "bibliofile": "biblio.bib",
   "cite_by": "apalike",
   "current_citInitial": 1,
   "eqLabelWithNumbers": true,
   "eqNumInitial": 1,
   "hotkeys": {
    "equation": "Ctrl-E",
    "itemize": "Ctrl-I"
   },
   "labels_anchors": false,
   "latex_user_defs": false,
   "report_style_numbering": false,
   "user_envs_cfg": false
  },
  "nteract": {
   "version": "0.12.3"
  }
 },
 "nbformat": 4,
 "nbformat_minor": 4
}
